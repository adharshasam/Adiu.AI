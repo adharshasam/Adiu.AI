{
  "nbformat": 4,
  "nbformat_minor": 0,
  "metadata": {
    "colab": {
      "provenance": []
    },
    "kernelspec": {
      "name": "python3",
      "display_name": "Python 3"
    },
    "language_info": {
      "name": "python"
    }
  },
  "cells": [
    {
      "cell_type": "markdown",
      "source": [
        "**DATA EXPLORATION**"
      ],
      "metadata": {
        "id": "6eXcFMBdGf3x"
      }
    },
    {
      "cell_type": "markdown",
      "source": [
        "Stuttering Events in Podcasts (SEP-28k), a dataset containing over 28k clips labeled with five event types including blocks, prolongations, sound repetitions, word repetitions, and interjections. Audio comes from public podcasts largely consisting of people who stutter interviewing other people who stutter.\n",
        "\n",
        "**Source:** https://machinelearning.apple.com/research/stuttering-event-detection\n",
        "\n",
        "**Dataset:** https://github.com/apple/ml-stuttering-events-dataset/\n",
        "\n",
        "Each 3-second clip was annotated with the following labels by three annotators who were not clinicians but did have training on how to identify each type of stuttering event. Label files contain counts (out of three) corresponding to how many reviewers selected a given label. Multiple labels may be selected for a given clip."
      ],
      "metadata": {
        "id": "4aJhJv6kAn6M"
      }
    },
    {
      "cell_type": "code",
      "execution_count": 2,
      "metadata": {
        "colab": {
          "base_uri": "https://localhost:8080/"
        },
        "id": "vmhUeUcGZsV7",
        "outputId": "7a47405a-d223-42b4-8a9f-29a3459e5a5b"
      },
      "outputs": [
        {
          "output_type": "stream",
          "name": "stdout",
          "text": [
            "             Show  EpId  ClipId     Start      Stop  Unsure  PoorAudioQuality  \\\n",
            "3294  FluencyBank   178     119   4958880   5006880       0                 0   \n",
            "2459  FluencyBank   109      77   8383040   8431040       0                 0   \n",
            "311   FluencyBank    19      30   4012960   4060960       0                 0   \n",
            "3296  FluencyBank   178     121   5027680   5075680       0                 0   \n",
            "346   FluencyBank    19      65  10397760  10445760       0                 0   \n",
            "4104  FluencyBank   985     156  11162240  11210240       0                 0   \n",
            "1146  FluencyBank    76      74   1328000   1376000       1                 0   \n",
            "1865  FluencyBank    97      87   4993280   5041280       0                 0   \n",
            "3326  FluencyBank   178     151   6405120   6453120       0                 0   \n",
            "1110  FluencyBank    76      38    780960    828960       0                 0   \n",
            "\n",
            "      Prolongation  Block  SoundRep  WordRep  DifficultToUnderstand  \\\n",
            "3294             1      0         0        0                      0   \n",
            "2459             0      0         1        0                      0   \n",
            "311              0      0         0        0                      0   \n",
            "3296             0      0         0        0                      0   \n",
            "346              1      0         0        0                      0   \n",
            "4104             0      0         0        0                      0   \n",
            "1146             0      1         0        1                      2   \n",
            "1865             1      0         0        0                      1   \n",
            "3326             0      1         0        0                      0   \n",
            "1110             2      0         0        0                      1   \n",
            "\n",
            "      Interjection  NoStutteredWords  NaturalPause  Music  NoSpeech  \n",
            "3294             3                 2             0      0         0  \n",
            "2459             0                 2             0      0         0  \n",
            "311              3                 3             0      0         0  \n",
            "3296             3                 3             0      0         0  \n",
            "346              3                 2             0      0         0  \n",
            "4104             0                 3             0      0         0  \n",
            "1146             0                 1             1      0         0  \n",
            "1865             0                 2             0      0         0  \n",
            "3326             3                 2             1      0         0  \n",
            "1110             0                 1             0      0         0  \n",
            "(4144, 17)\n"
          ]
        }
      ],
      "source": [
        "import pandas as pd\n",
        "df = pd.read_csv('https://raw.githubusercontent.com/apple/ml-stuttering-events-dataset/main/fluencybank_labels.csv')\n",
        "print(df.sample(10)) \n",
        "\n",
        "print(df.shape) #dataset dimensions"
      ]
    },
    {
      "cell_type": "markdown",
      "source": [
        "**Display columns in the dataset**"
      ],
      "metadata": {
        "id": "0PFA8fAOBZs3"
      }
    },
    {
      "cell_type": "code",
      "source": [
        "for col in df.columns:\n",
        "    print(col)"
      ],
      "metadata": {
        "colab": {
          "base_uri": "https://localhost:8080/"
        },
        "id": "OXVbcIoN_5zu",
        "outputId": "fb26e5a4-cf70-4441-e408-d8fc669913ff"
      },
      "execution_count": 3,
      "outputs": [
        {
          "output_type": "stream",
          "name": "stdout",
          "text": [
            "Show\n",
            "EpId\n",
            "ClipId\n",
            "Start\n",
            "Stop\n",
            "Unsure\n",
            "PoorAudioQuality\n",
            "Prolongation\n",
            "Block\n",
            "SoundRep\n",
            "WordRep\n",
            "DifficultToUnderstand\n",
            "Interjection\n",
            "NoStutteredWords\n",
            "NaturalPause\n",
            "Music\n",
            "NoSpeech\n"
          ]
        }
      ]
    },
    {
      "cell_type": "markdown",
      "source": [
        "**Stuttering event labels:**\n",
        "\n",
        "- ***Prolongation:*** Elongated syllable (e.g., M[mmm]ommy)\n",
        "\n",
        "- ***Block:*** Gasps for air or stuttered pauses\n",
        "\n",
        "- ***Sound Repetition:*** Repeated syllables (e.g., I [pr-pr-pr-]prepared dinner)\n",
        "\n",
        "- ***Word Repetition:*** The same word or phrase is repeated (e.g., I made [made] dinner)\n",
        "\n",
        "- ***No Stuttered Words:*** Confirmation that none of the above is true.\n",
        "\n",
        "- ***Interjection:*** Common filler words such as \"um\" or \"uh\" or person-specific filler words that individuals use to cope with their stutter (e.g., some users frequently say \"you know\" as a filler).\n",
        "\n",
        "**Additional labels:**\n",
        "\n",
        "- ***Unsure:*** An annotator selects this if they are not confident in their labeling.\n",
        "\n",
        "- ***Poor Audio Quality:*** It is difficult to understand due to, for example, microphone quality.\n",
        "\n",
        "- ***Difficult To Understand:*** It is difficult to understand the speech.\n",
        "\n",
        "- ***Natural Pause:*** There is a pause in speech that is not considered a block or other disfluency.\n",
        "\n",
        "- ***Music:*** There is background music playing (only in SEP-28k)\n",
        "\n",
        "- ***No Speech:*** There is no speech in this clip. It is either silent or there is just background noise."
      ],
      "metadata": {
        "id": "Fzy_VnOlAK0-"
      }
    },
    {
      "cell_type": "markdown",
      "source": [
        "The variable `NoStutteredWords` is the confirmation for annotators that \n",
        "\n",
        "`Prolongation` AND `Block` AND `Sound Repetition` AND `Word Repetition` = FALSE \n",
        "\n",
        "(i.e) no stuttered words"
      ],
      "metadata": {
        "id": "W67cQHzFB-q_"
      }
    },
    {
      "cell_type": "code",
      "source": [
        "print(df['NoStutteredWords'].value_counts())"
      ],
      "metadata": {
        "colab": {
          "base_uri": "https://localhost:8080/"
        },
        "id": "5jNer4V8sDtL",
        "outputId": "73fd59bc-333b-429d-b640-ef3a71fa67f7"
      },
      "execution_count": 4,
      "outputs": [
        {
          "output_type": "stream",
          "name": "stdout",
          "text": [
            "3    1438\n",
            "0    1270\n",
            "2     804\n",
            "1     632\n",
            "Name: NoStutteredWords, dtype: int64\n"
          ]
        }
      ]
    },
    {
      "cell_type": "code",
      "source": [
        "check_df = df[['Prolongation', 'Block', 'SoundRep', 'WordRep', 'NoStutteredWords']]\n",
        "check_df.sample(10)"
      ],
      "metadata": {
        "colab": {
          "base_uri": "https://localhost:8080/",
          "height": 363
        },
        "id": "ziBY2TLaDoqm",
        "outputId": "de7173cf-d0bb-4d2e-9540-b4b8132c7ab7"
      },
      "execution_count": 5,
      "outputs": [
        {
          "output_type": "execute_result",
          "data": {
            "text/plain": [
              "      Prolongation  Block  SoundRep  WordRep  NoStutteredWords\n",
              "154              1      1         0        2                 0\n",
              "611              0      2         0        0                 1\n",
              "548              0      1         0        0                 2\n",
              "1686             0      0         0        0                 3\n",
              "3339             3      2         0        0                 0\n",
              "39               0      1         0        0                 2\n",
              "2039             2      2         0        0                 0\n",
              "483              0      0         0        0                 3\n",
              "826              0      0         0        0                 3\n",
              "3343             0      1         0        0                 2"
            ],
            "text/html": [
              "\n",
              "  <div id=\"df-37e99a41-f479-4702-b4e4-04ac9602d635\">\n",
              "    <div class=\"colab-df-container\">\n",
              "      <div>\n",
              "<style scoped>\n",
              "    .dataframe tbody tr th:only-of-type {\n",
              "        vertical-align: middle;\n",
              "    }\n",
              "\n",
              "    .dataframe tbody tr th {\n",
              "        vertical-align: top;\n",
              "    }\n",
              "\n",
              "    .dataframe thead th {\n",
              "        text-align: right;\n",
              "    }\n",
              "</style>\n",
              "<table border=\"1\" class=\"dataframe\">\n",
              "  <thead>\n",
              "    <tr style=\"text-align: right;\">\n",
              "      <th></th>\n",
              "      <th>Prolongation</th>\n",
              "      <th>Block</th>\n",
              "      <th>SoundRep</th>\n",
              "      <th>WordRep</th>\n",
              "      <th>NoStutteredWords</th>\n",
              "    </tr>\n",
              "  </thead>\n",
              "  <tbody>\n",
              "    <tr>\n",
              "      <th>154</th>\n",
              "      <td>1</td>\n",
              "      <td>1</td>\n",
              "      <td>0</td>\n",
              "      <td>2</td>\n",
              "      <td>0</td>\n",
              "    </tr>\n",
              "    <tr>\n",
              "      <th>611</th>\n",
              "      <td>0</td>\n",
              "      <td>2</td>\n",
              "      <td>0</td>\n",
              "      <td>0</td>\n",
              "      <td>1</td>\n",
              "    </tr>\n",
              "    <tr>\n",
              "      <th>548</th>\n",
              "      <td>0</td>\n",
              "      <td>1</td>\n",
              "      <td>0</td>\n",
              "      <td>0</td>\n",
              "      <td>2</td>\n",
              "    </tr>\n",
              "    <tr>\n",
              "      <th>1686</th>\n",
              "      <td>0</td>\n",
              "      <td>0</td>\n",
              "      <td>0</td>\n",
              "      <td>0</td>\n",
              "      <td>3</td>\n",
              "    </tr>\n",
              "    <tr>\n",
              "      <th>3339</th>\n",
              "      <td>3</td>\n",
              "      <td>2</td>\n",
              "      <td>0</td>\n",
              "      <td>0</td>\n",
              "      <td>0</td>\n",
              "    </tr>\n",
              "    <tr>\n",
              "      <th>39</th>\n",
              "      <td>0</td>\n",
              "      <td>1</td>\n",
              "      <td>0</td>\n",
              "      <td>0</td>\n",
              "      <td>2</td>\n",
              "    </tr>\n",
              "    <tr>\n",
              "      <th>2039</th>\n",
              "      <td>2</td>\n",
              "      <td>2</td>\n",
              "      <td>0</td>\n",
              "      <td>0</td>\n",
              "      <td>0</td>\n",
              "    </tr>\n",
              "    <tr>\n",
              "      <th>483</th>\n",
              "      <td>0</td>\n",
              "      <td>0</td>\n",
              "      <td>0</td>\n",
              "      <td>0</td>\n",
              "      <td>3</td>\n",
              "    </tr>\n",
              "    <tr>\n",
              "      <th>826</th>\n",
              "      <td>0</td>\n",
              "      <td>0</td>\n",
              "      <td>0</td>\n",
              "      <td>0</td>\n",
              "      <td>3</td>\n",
              "    </tr>\n",
              "    <tr>\n",
              "      <th>3343</th>\n",
              "      <td>0</td>\n",
              "      <td>1</td>\n",
              "      <td>0</td>\n",
              "      <td>0</td>\n",
              "      <td>2</td>\n",
              "    </tr>\n",
              "  </tbody>\n",
              "</table>\n",
              "</div>\n",
              "      <button class=\"colab-df-convert\" onclick=\"convertToInteractive('df-37e99a41-f479-4702-b4e4-04ac9602d635')\"\n",
              "              title=\"Convert this dataframe to an interactive table.\"\n",
              "              style=\"display:none;\">\n",
              "        \n",
              "  <svg xmlns=\"http://www.w3.org/2000/svg\" height=\"24px\"viewBox=\"0 0 24 24\"\n",
              "       width=\"24px\">\n",
              "    <path d=\"M0 0h24v24H0V0z\" fill=\"none\"/>\n",
              "    <path d=\"M18.56 5.44l.94 2.06.94-2.06 2.06-.94-2.06-.94-.94-2.06-.94 2.06-2.06.94zm-11 1L8.5 8.5l.94-2.06 2.06-.94-2.06-.94L8.5 2.5l-.94 2.06-2.06.94zm10 10l.94 2.06.94-2.06 2.06-.94-2.06-.94-.94-2.06-.94 2.06-2.06.94z\"/><path d=\"M17.41 7.96l-1.37-1.37c-.4-.4-.92-.59-1.43-.59-.52 0-1.04.2-1.43.59L10.3 9.45l-7.72 7.72c-.78.78-.78 2.05 0 2.83L4 21.41c.39.39.9.59 1.41.59.51 0 1.02-.2 1.41-.59l7.78-7.78 2.81-2.81c.8-.78.8-2.07 0-2.86zM5.41 20L4 18.59l7.72-7.72 1.47 1.35L5.41 20z\"/>\n",
              "  </svg>\n",
              "      </button>\n",
              "      \n",
              "  <style>\n",
              "    .colab-df-container {\n",
              "      display:flex;\n",
              "      flex-wrap:wrap;\n",
              "      gap: 12px;\n",
              "    }\n",
              "\n",
              "    .colab-df-convert {\n",
              "      background-color: #E8F0FE;\n",
              "      border: none;\n",
              "      border-radius: 50%;\n",
              "      cursor: pointer;\n",
              "      display: none;\n",
              "      fill: #1967D2;\n",
              "      height: 32px;\n",
              "      padding: 0 0 0 0;\n",
              "      width: 32px;\n",
              "    }\n",
              "\n",
              "    .colab-df-convert:hover {\n",
              "      background-color: #E2EBFA;\n",
              "      box-shadow: 0px 1px 2px rgba(60, 64, 67, 0.3), 0px 1px 3px 1px rgba(60, 64, 67, 0.15);\n",
              "      fill: #174EA6;\n",
              "    }\n",
              "\n",
              "    [theme=dark] .colab-df-convert {\n",
              "      background-color: #3B4455;\n",
              "      fill: #D2E3FC;\n",
              "    }\n",
              "\n",
              "    [theme=dark] .colab-df-convert:hover {\n",
              "      background-color: #434B5C;\n",
              "      box-shadow: 0px 1px 3px 1px rgba(0, 0, 0, 0.15);\n",
              "      filter: drop-shadow(0px 1px 2px rgba(0, 0, 0, 0.3));\n",
              "      fill: #FFFFFF;\n",
              "    }\n",
              "  </style>\n",
              "\n",
              "      <script>\n",
              "        const buttonEl =\n",
              "          document.querySelector('#df-37e99a41-f479-4702-b4e4-04ac9602d635 button.colab-df-convert');\n",
              "        buttonEl.style.display =\n",
              "          google.colab.kernel.accessAllowed ? 'block' : 'none';\n",
              "\n",
              "        async function convertToInteractive(key) {\n",
              "          const element = document.querySelector('#df-37e99a41-f479-4702-b4e4-04ac9602d635');\n",
              "          const dataTable =\n",
              "            await google.colab.kernel.invokeFunction('convertToInteractive',\n",
              "                                                     [key], {});\n",
              "          if (!dataTable) return;\n",
              "\n",
              "          const docLinkHtml = 'Like what you see? Visit the ' +\n",
              "            '<a target=\"_blank\" href=https://colab.research.google.com/notebooks/data_table.ipynb>data table notebook</a>'\n",
              "            + ' to learn more about interactive tables.';\n",
              "          element.innerHTML = '';\n",
              "          dataTable['output_type'] = 'display_data';\n",
              "          await google.colab.output.renderOutput(dataTable, element);\n",
              "          const docLink = document.createElement('div');\n",
              "          docLink.innerHTML = docLinkHtml;\n",
              "          element.appendChild(docLink);\n",
              "        }\n",
              "      </script>\n",
              "    </div>\n",
              "  </div>\n",
              "  "
            ]
          },
          "metadata": {},
          "execution_count": 5
        }
      ]
    },
    {
      "cell_type": "code",
      "source": [
        "print(check_df[(check_df['NoStutteredWords'] == 3)])"
      ],
      "metadata": {
        "colab": {
          "base_uri": "https://localhost:8080/"
        },
        "id": "77YZR0OSEmRV",
        "outputId": "0aa0b314-ef7b-417f-9613-a10547303d74"
      },
      "execution_count": 6,
      "outputs": [
        {
          "output_type": "stream",
          "name": "stdout",
          "text": [
            "      Prolongation  Block  SoundRep  WordRep  NoStutteredWords\n",
            "1                0      0         0        0                 3\n",
            "5                0      0         0        0                 3\n",
            "6                0      0         0        0                 3\n",
            "8                0      0         0        0                 3\n",
            "9                0      0         0        0                 3\n",
            "...            ...    ...       ...      ...               ...\n",
            "4125             0      0         0        0                 3\n",
            "4126             0      0         0        0                 3\n",
            "4129             0      0         0        0                 3\n",
            "4135             0      0         0        0                 3\n",
            "4143             0      0         0        0                 3\n",
            "\n",
            "[1438 rows x 5 columns]\n"
          ]
        }
      ]
    },
    {
      "cell_type": "markdown",
      "source": [
        "There are **1438** reliable data points of individuals who **did not stammer**."
      ],
      "metadata": {
        "id": "FT-wabo9DTbE"
      }
    },
    {
      "cell_type": "code",
      "source": [
        "print(check_df[(check_df['NoStutteredWords'] == 0)])"
      ],
      "metadata": {
        "colab": {
          "base_uri": "https://localhost:8080/"
        },
        "id": "2eQXLqVYFdfY",
        "outputId": "b73a1368-a9ef-4974-e3f7-c7c9483924d3"
      },
      "execution_count": 7,
      "outputs": [
        {
          "output_type": "stream",
          "name": "stdout",
          "text": [
            "      Prolongation  Block  SoundRep  WordRep  NoStutteredWords\n",
            "4                0      0         0        3                 0\n",
            "38               1      2         0        0                 0\n",
            "75               0      3         0        1                 0\n",
            "79               0      1         0        3                 0\n",
            "82               0      1         1        2                 0\n",
            "...            ...    ...       ...      ...               ...\n",
            "4137             1      2         1        1                 0\n",
            "4138             1      2         2        0                 0\n",
            "4140             0      2         1        0                 0\n",
            "4141             0      2         2        1                 0\n",
            "4142             0      0         3        0                 0\n",
            "\n",
            "[1270 rows x 5 columns]\n"
          ]
        }
      ]
    },
    {
      "cell_type": "markdown",
      "source": [
        "There are **1270** reliable detection of individuals who displayed at least one characteristic of **stammering**."
      ],
      "metadata": {
        "id": "eAFFzfqmFtTo"
      }
    },
    {
      "cell_type": "code",
      "source": [
        "print(df['Unsure'].value_counts())"
      ],
      "metadata": {
        "colab": {
          "base_uri": "https://localhost:8080/"
        },
        "id": "oyiWd4QkrlXg",
        "outputId": "9ffbf6d3-e231-4d8f-d49c-db9bc11aa1f3"
      },
      "execution_count": 8,
      "outputs": [
        {
          "output_type": "stream",
          "name": "stdout",
          "text": [
            "0    3935\n",
            "1     194\n",
            "2      13\n",
            "3       2\n",
            "Name: Unsure, dtype: int64\n"
          ]
        }
      ]
    },
    {
      "cell_type": "markdown",
      "source": [
        "We will only keep the most reliable data points for further analysis."
      ],
      "metadata": {
        "id": "iIgL3vLbGRpm"
      }
    },
    {
      "cell_type": "markdown",
      "source": [
        "**DATA WRANGLING**"
      ],
      "metadata": {
        "id": "8KEu5oNVGZUN"
      }
    },
    {
      "cell_type": "code",
      "source": [
        "new_df = df.loc[(df['NoStutteredWords'] == 0) | (df['NoStutteredWords'] == 3)]\n",
        "new_df.sample(10)"
      ],
      "metadata": {
        "colab": {
          "base_uri": "https://localhost:8080/",
          "height": 427
        },
        "id": "qQriKRiNGtgd",
        "outputId": "c9861d29-7e54-49ba-c778-78bf58fb4f32"
      },
      "execution_count": 9,
      "outputs": [
        {
          "output_type": "execute_result",
          "data": {
            "text/plain": [
              "             Show  EpId  ClipId     Start      Stop  Unsure  PoorAudioQuality  \\\n",
              "840   FluencyBank    63      64    371680    419680       0                 0   \n",
              "2861  FluencyBank   121     116   6469920   6517920       0                 0   \n",
              "1838  FluencyBank    97      60   3416960   3464960       0                 0   \n",
              "2293  FluencyBank   107       8   1150240   1198240       0                 0   \n",
              "1377  FluencyBank    87      44   5053600   5101600       0                 0   \n",
              "555   FluencyBank    24     185  11145600  11193600       0                 0   \n",
              "3997  FluencyBank   985      49    406560    454560       0                 0   \n",
              "3148  FluencyBank   173      52   2807360   2855360       0                 0   \n",
              "2849  FluencyBank   121     104   5768960   5816960       0                 0   \n",
              "2729  FluencyBank   118      97  10616480  10664480       0                 0   \n",
              "\n",
              "      Prolongation  Block  SoundRep  WordRep  DifficultToUnderstand  \\\n",
              "840              0      0         0        0                      0   \n",
              "2861             0      0         0        0                      0   \n",
              "1838             3      2         0        0                      0   \n",
              "2293             0      0         0        0                      0   \n",
              "1377             0      0         0        0                      0   \n",
              "555              0      0         0        0                      0   \n",
              "3997             1      2         1        0                      2   \n",
              "3148             1      1         1        3                      0   \n",
              "2849             0      0         0        0                      0   \n",
              "2729             1      1         1        0                      1   \n",
              "\n",
              "      Interjection  NoStutteredWords  NaturalPause  Music  NoSpeech  \n",
              "840              0                 3             0      0         0  \n",
              "2861             0                 3             1      0         0  \n",
              "1838             0                 0             0      0         0  \n",
              "2293             0                 3             0      0         0  \n",
              "1377             0                 3             1      0         0  \n",
              "555              0                 3             0      0         0  \n",
              "3997             0                 0             0      0         0  \n",
              "3148             0                 0             0      0         0  \n",
              "2849             2                 3             0      0         0  \n",
              "2729             0                 0             0      0         0  "
            ],
            "text/html": [
              "\n",
              "  <div id=\"df-26829b8f-0afd-48ca-9586-3b3c47857abd\">\n",
              "    <div class=\"colab-df-container\">\n",
              "      <div>\n",
              "<style scoped>\n",
              "    .dataframe tbody tr th:only-of-type {\n",
              "        vertical-align: middle;\n",
              "    }\n",
              "\n",
              "    .dataframe tbody tr th {\n",
              "        vertical-align: top;\n",
              "    }\n",
              "\n",
              "    .dataframe thead th {\n",
              "        text-align: right;\n",
              "    }\n",
              "</style>\n",
              "<table border=\"1\" class=\"dataframe\">\n",
              "  <thead>\n",
              "    <tr style=\"text-align: right;\">\n",
              "      <th></th>\n",
              "      <th>Show</th>\n",
              "      <th>EpId</th>\n",
              "      <th>ClipId</th>\n",
              "      <th>Start</th>\n",
              "      <th>Stop</th>\n",
              "      <th>Unsure</th>\n",
              "      <th>PoorAudioQuality</th>\n",
              "      <th>Prolongation</th>\n",
              "      <th>Block</th>\n",
              "      <th>SoundRep</th>\n",
              "      <th>WordRep</th>\n",
              "      <th>DifficultToUnderstand</th>\n",
              "      <th>Interjection</th>\n",
              "      <th>NoStutteredWords</th>\n",
              "      <th>NaturalPause</th>\n",
              "      <th>Music</th>\n",
              "      <th>NoSpeech</th>\n",
              "    </tr>\n",
              "  </thead>\n",
              "  <tbody>\n",
              "    <tr>\n",
              "      <th>840</th>\n",
              "      <td>FluencyBank</td>\n",
              "      <td>63</td>\n",
              "      <td>64</td>\n",
              "      <td>371680</td>\n",
              "      <td>419680</td>\n",
              "      <td>0</td>\n",
              "      <td>0</td>\n",
              "      <td>0</td>\n",
              "      <td>0</td>\n",
              "      <td>0</td>\n",
              "      <td>0</td>\n",
              "      <td>0</td>\n",
              "      <td>0</td>\n",
              "      <td>3</td>\n",
              "      <td>0</td>\n",
              "      <td>0</td>\n",
              "      <td>0</td>\n",
              "    </tr>\n",
              "    <tr>\n",
              "      <th>2861</th>\n",
              "      <td>FluencyBank</td>\n",
              "      <td>121</td>\n",
              "      <td>116</td>\n",
              "      <td>6469920</td>\n",
              "      <td>6517920</td>\n",
              "      <td>0</td>\n",
              "      <td>0</td>\n",
              "      <td>0</td>\n",
              "      <td>0</td>\n",
              "      <td>0</td>\n",
              "      <td>0</td>\n",
              "      <td>0</td>\n",
              "      <td>0</td>\n",
              "      <td>3</td>\n",
              "      <td>1</td>\n",
              "      <td>0</td>\n",
              "      <td>0</td>\n",
              "    </tr>\n",
              "    <tr>\n",
              "      <th>1838</th>\n",
              "      <td>FluencyBank</td>\n",
              "      <td>97</td>\n",
              "      <td>60</td>\n",
              "      <td>3416960</td>\n",
              "      <td>3464960</td>\n",
              "      <td>0</td>\n",
              "      <td>0</td>\n",
              "      <td>3</td>\n",
              "      <td>2</td>\n",
              "      <td>0</td>\n",
              "      <td>0</td>\n",
              "      <td>0</td>\n",
              "      <td>0</td>\n",
              "      <td>0</td>\n",
              "      <td>0</td>\n",
              "      <td>0</td>\n",
              "      <td>0</td>\n",
              "    </tr>\n",
              "    <tr>\n",
              "      <th>2293</th>\n",
              "      <td>FluencyBank</td>\n",
              "      <td>107</td>\n",
              "      <td>8</td>\n",
              "      <td>1150240</td>\n",
              "      <td>1198240</td>\n",
              "      <td>0</td>\n",
              "      <td>0</td>\n",
              "      <td>0</td>\n",
              "      <td>0</td>\n",
              "      <td>0</td>\n",
              "      <td>0</td>\n",
              "      <td>0</td>\n",
              "      <td>0</td>\n",
              "      <td>3</td>\n",
              "      <td>0</td>\n",
              "      <td>0</td>\n",
              "      <td>0</td>\n",
              "    </tr>\n",
              "    <tr>\n",
              "      <th>1377</th>\n",
              "      <td>FluencyBank</td>\n",
              "      <td>87</td>\n",
              "      <td>44</td>\n",
              "      <td>5053600</td>\n",
              "      <td>5101600</td>\n",
              "      <td>0</td>\n",
              "      <td>0</td>\n",
              "      <td>0</td>\n",
              "      <td>0</td>\n",
              "      <td>0</td>\n",
              "      <td>0</td>\n",
              "      <td>0</td>\n",
              "      <td>0</td>\n",
              "      <td>3</td>\n",
              "      <td>1</td>\n",
              "      <td>0</td>\n",
              "      <td>0</td>\n",
              "    </tr>\n",
              "    <tr>\n",
              "      <th>555</th>\n",
              "      <td>FluencyBank</td>\n",
              "      <td>24</td>\n",
              "      <td>185</td>\n",
              "      <td>11145600</td>\n",
              "      <td>11193600</td>\n",
              "      <td>0</td>\n",
              "      <td>0</td>\n",
              "      <td>0</td>\n",
              "      <td>0</td>\n",
              "      <td>0</td>\n",
              "      <td>0</td>\n",
              "      <td>0</td>\n",
              "      <td>0</td>\n",
              "      <td>3</td>\n",
              "      <td>0</td>\n",
              "      <td>0</td>\n",
              "      <td>0</td>\n",
              "    </tr>\n",
              "    <tr>\n",
              "      <th>3997</th>\n",
              "      <td>FluencyBank</td>\n",
              "      <td>985</td>\n",
              "      <td>49</td>\n",
              "      <td>406560</td>\n",
              "      <td>454560</td>\n",
              "      <td>0</td>\n",
              "      <td>0</td>\n",
              "      <td>1</td>\n",
              "      <td>2</td>\n",
              "      <td>1</td>\n",
              "      <td>0</td>\n",
              "      <td>2</td>\n",
              "      <td>0</td>\n",
              "      <td>0</td>\n",
              "      <td>0</td>\n",
              "      <td>0</td>\n",
              "      <td>0</td>\n",
              "    </tr>\n",
              "    <tr>\n",
              "      <th>3148</th>\n",
              "      <td>FluencyBank</td>\n",
              "      <td>173</td>\n",
              "      <td>52</td>\n",
              "      <td>2807360</td>\n",
              "      <td>2855360</td>\n",
              "      <td>0</td>\n",
              "      <td>0</td>\n",
              "      <td>1</td>\n",
              "      <td>1</td>\n",
              "      <td>1</td>\n",
              "      <td>3</td>\n",
              "      <td>0</td>\n",
              "      <td>0</td>\n",
              "      <td>0</td>\n",
              "      <td>0</td>\n",
              "      <td>0</td>\n",
              "      <td>0</td>\n",
              "    </tr>\n",
              "    <tr>\n",
              "      <th>2849</th>\n",
              "      <td>FluencyBank</td>\n",
              "      <td>121</td>\n",
              "      <td>104</td>\n",
              "      <td>5768960</td>\n",
              "      <td>5816960</td>\n",
              "      <td>0</td>\n",
              "      <td>0</td>\n",
              "      <td>0</td>\n",
              "      <td>0</td>\n",
              "      <td>0</td>\n",
              "      <td>0</td>\n",
              "      <td>0</td>\n",
              "      <td>2</td>\n",
              "      <td>3</td>\n",
              "      <td>0</td>\n",
              "      <td>0</td>\n",
              "      <td>0</td>\n",
              "    </tr>\n",
              "    <tr>\n",
              "      <th>2729</th>\n",
              "      <td>FluencyBank</td>\n",
              "      <td>118</td>\n",
              "      <td>97</td>\n",
              "      <td>10616480</td>\n",
              "      <td>10664480</td>\n",
              "      <td>0</td>\n",
              "      <td>0</td>\n",
              "      <td>1</td>\n",
              "      <td>1</td>\n",
              "      <td>1</td>\n",
              "      <td>0</td>\n",
              "      <td>1</td>\n",
              "      <td>0</td>\n",
              "      <td>0</td>\n",
              "      <td>0</td>\n",
              "      <td>0</td>\n",
              "      <td>0</td>\n",
              "    </tr>\n",
              "  </tbody>\n",
              "</table>\n",
              "</div>\n",
              "      <button class=\"colab-df-convert\" onclick=\"convertToInteractive('df-26829b8f-0afd-48ca-9586-3b3c47857abd')\"\n",
              "              title=\"Convert this dataframe to an interactive table.\"\n",
              "              style=\"display:none;\">\n",
              "        \n",
              "  <svg xmlns=\"http://www.w3.org/2000/svg\" height=\"24px\"viewBox=\"0 0 24 24\"\n",
              "       width=\"24px\">\n",
              "    <path d=\"M0 0h24v24H0V0z\" fill=\"none\"/>\n",
              "    <path d=\"M18.56 5.44l.94 2.06.94-2.06 2.06-.94-2.06-.94-.94-2.06-.94 2.06-2.06.94zm-11 1L8.5 8.5l.94-2.06 2.06-.94-2.06-.94L8.5 2.5l-.94 2.06-2.06.94zm10 10l.94 2.06.94-2.06 2.06-.94-2.06-.94-.94-2.06-.94 2.06-2.06.94z\"/><path d=\"M17.41 7.96l-1.37-1.37c-.4-.4-.92-.59-1.43-.59-.52 0-1.04.2-1.43.59L10.3 9.45l-7.72 7.72c-.78.78-.78 2.05 0 2.83L4 21.41c.39.39.9.59 1.41.59.51 0 1.02-.2 1.41-.59l7.78-7.78 2.81-2.81c.8-.78.8-2.07 0-2.86zM5.41 20L4 18.59l7.72-7.72 1.47 1.35L5.41 20z\"/>\n",
              "  </svg>\n",
              "      </button>\n",
              "      \n",
              "  <style>\n",
              "    .colab-df-container {\n",
              "      display:flex;\n",
              "      flex-wrap:wrap;\n",
              "      gap: 12px;\n",
              "    }\n",
              "\n",
              "    .colab-df-convert {\n",
              "      background-color: #E8F0FE;\n",
              "      border: none;\n",
              "      border-radius: 50%;\n",
              "      cursor: pointer;\n",
              "      display: none;\n",
              "      fill: #1967D2;\n",
              "      height: 32px;\n",
              "      padding: 0 0 0 0;\n",
              "      width: 32px;\n",
              "    }\n",
              "\n",
              "    .colab-df-convert:hover {\n",
              "      background-color: #E2EBFA;\n",
              "      box-shadow: 0px 1px 2px rgba(60, 64, 67, 0.3), 0px 1px 3px 1px rgba(60, 64, 67, 0.15);\n",
              "      fill: #174EA6;\n",
              "    }\n",
              "\n",
              "    [theme=dark] .colab-df-convert {\n",
              "      background-color: #3B4455;\n",
              "      fill: #D2E3FC;\n",
              "    }\n",
              "\n",
              "    [theme=dark] .colab-df-convert:hover {\n",
              "      background-color: #434B5C;\n",
              "      box-shadow: 0px 1px 3px 1px rgba(0, 0, 0, 0.15);\n",
              "      filter: drop-shadow(0px 1px 2px rgba(0, 0, 0, 0.3));\n",
              "      fill: #FFFFFF;\n",
              "    }\n",
              "  </style>\n",
              "\n",
              "      <script>\n",
              "        const buttonEl =\n",
              "          document.querySelector('#df-26829b8f-0afd-48ca-9586-3b3c47857abd button.colab-df-convert');\n",
              "        buttonEl.style.display =\n",
              "          google.colab.kernel.accessAllowed ? 'block' : 'none';\n",
              "\n",
              "        async function convertToInteractive(key) {\n",
              "          const element = document.querySelector('#df-26829b8f-0afd-48ca-9586-3b3c47857abd');\n",
              "          const dataTable =\n",
              "            await google.colab.kernel.invokeFunction('convertToInteractive',\n",
              "                                                     [key], {});\n",
              "          if (!dataTable) return;\n",
              "\n",
              "          const docLinkHtml = 'Like what you see? Visit the ' +\n",
              "            '<a target=\"_blank\" href=https://colab.research.google.com/notebooks/data_table.ipynb>data table notebook</a>'\n",
              "            + ' to learn more about interactive tables.';\n",
              "          element.innerHTML = '';\n",
              "          dataTable['output_type'] = 'display_data';\n",
              "          await google.colab.output.renderOutput(dataTable, element);\n",
              "          const docLink = document.createElement('div');\n",
              "          docLink.innerHTML = docLinkHtml;\n",
              "          element.appendChild(docLink);\n",
              "        }\n",
              "      </script>\n",
              "    </div>\n",
              "  </div>\n",
              "  "
            ]
          },
          "metadata": {},
          "execution_count": 9
        }
      ]
    },
    {
      "cell_type": "code",
      "source": [
        "print(new_df['NoStutteredWords'].value_counts())"
      ],
      "metadata": {
        "colab": {
          "base_uri": "https://localhost:8080/"
        },
        "id": "nIcSUv-dIrTT",
        "outputId": "8806890e-0930-4631-df2e-7790c276d601"
      },
      "execution_count": 10,
      "outputs": [
        {
          "output_type": "stream",
          "name": "stdout",
          "text": [
            "3    1438\n",
            "0    1270\n",
            "Name: NoStutteredWords, dtype: int64\n"
          ]
        }
      ]
    },
    {
      "cell_type": "code",
      "source": [
        "print(new_df.shape) #dataset dimensions\n",
        "#1438 (reliable no stuttering data points) + 1270 (reliable stuttering data points) = 2708"
      ],
      "metadata": {
        "colab": {
          "base_uri": "https://localhost:8080/"
        },
        "id": "WI3QJGqAIxC-",
        "outputId": "6ee19eaa-7c27-453f-96f1-3c8d2c569095"
      },
      "execution_count": 11,
      "outputs": [
        {
          "output_type": "stream",
          "name": "stdout",
          "text": [
            "(2708, 17)\n"
          ]
        }
      ]
    },
    {
      "cell_type": "markdown",
      "source": [
        "**Deleting unnecessary features**\n",
        "\n",
        "\n"
      ],
      "metadata": {
        "id": "08E62CpkKYcO"
      }
    },
    {
      "cell_type": "markdown",
      "source": [
        "`Show` feature:"
      ],
      "metadata": {
        "id": "NDSqUZPKMjk1"
      }
    },
    {
      "cell_type": "code",
      "source": [
        "print(new_df['Show'].unique())"
      ],
      "metadata": {
        "colab": {
          "base_uri": "https://localhost:8080/"
        },
        "id": "T8IJVbyYK1TI",
        "outputId": "0e80c84a-b1d3-4f35-a11f-4d51138ded40"
      },
      "execution_count": 12,
      "outputs": [
        {
          "output_type": "stream",
          "name": "stdout",
          "text": [
            "['FluencyBank']\n"
          ]
        }
      ]
    },
    {
      "cell_type": "markdown",
      "source": [
        "We can delete this column as it does not hold any meaningful information."
      ],
      "metadata": {
        "id": "73LFKR_xK5jj"
      }
    },
    {
      "cell_type": "code",
      "source": [
        "del new_df['Show']"
      ],
      "metadata": {
        "id": "ONXpH6h_MUYr"
      },
      "execution_count": 13,
      "outputs": []
    },
    {
      "cell_type": "markdown",
      "source": [
        "`Music` feature:"
      ],
      "metadata": {
        "id": "6ywzFzjVMojW"
      }
    },
    {
      "cell_type": "code",
      "source": [
        "print(new_df['Music'].value_counts())"
      ],
      "metadata": {
        "colab": {
          "base_uri": "https://localhost:8080/"
        },
        "id": "GiQOloCeL9XL",
        "outputId": "dd14a267-6eb6-48e7-a990-e77cef9e0860"
      },
      "execution_count": 14,
      "outputs": [
        {
          "output_type": "stream",
          "name": "stdout",
          "text": [
            "0    2708\n",
            "Name: Music, dtype: int64\n"
          ]
        }
      ]
    },
    {
      "cell_type": "markdown",
      "source": [
        "There are no entries in the dataset containing music and not speech. So, we can delete this column."
      ],
      "metadata": {
        "id": "dk73nE8wMFB7"
      }
    },
    {
      "cell_type": "code",
      "source": [
        "del new_df['Music']"
      ],
      "metadata": {
        "id": "lRB7D7XvMe08"
      },
      "execution_count": 15,
      "outputs": []
    },
    {
      "cell_type": "markdown",
      "source": [
        "`NoSpeech` feature:"
      ],
      "metadata": {
        "id": "JFeO4ceBNWIm"
      }
    },
    {
      "cell_type": "code",
      "source": [
        "print(new_df['NoSpeech'].value_counts())"
      ],
      "metadata": {
        "colab": {
          "base_uri": "https://localhost:8080/"
        },
        "id": "gJ4XJ3XfMvS7",
        "outputId": "23077332-5422-477d-f2d1-3ab8dc45b888"
      },
      "execution_count": 16,
      "outputs": [
        {
          "output_type": "stream",
          "name": "stdout",
          "text": [
            "0    2708\n",
            "Name: NoSpeech, dtype: int64\n"
          ]
        }
      ]
    },
    {
      "cell_type": "markdown",
      "source": [
        "All entries in this dataset contain speech. So, we can delete this column as well."
      ],
      "metadata": {
        "id": "VW6grRjsM5Wm"
      }
    },
    {
      "cell_type": "code",
      "source": [
        "del new_df['NoSpeech']"
      ],
      "metadata": {
        "id": "ydweduhaNgbv"
      },
      "execution_count": 17,
      "outputs": []
    },
    {
      "cell_type": "code",
      "source": [
        "new_df.sample(10)"
      ],
      "metadata": {
        "colab": {
          "base_uri": "https://localhost:8080/",
          "height": 427
        },
        "id": "8Yvlh8TxNlHv",
        "outputId": "af34e32c-162e-4785-9e22-3feaaa29a205"
      },
      "execution_count": 18,
      "outputs": [
        {
          "output_type": "execute_result",
          "data": {
            "text/plain": [
              "      EpId  ClipId     Start      Stop  Unsure  PoorAudioQuality  \\\n",
              "3952   985       4  13834080  13882080       0                 0   \n",
              "2739   118     107  10920960  10968960       0                 0   \n",
              "2685   118      53   8683680   8731680       0                 0   \n",
              "421     24      51   2792640   2840640       0                 0   \n",
              "1212    81      44     33280     81280       0                 0   \n",
              "947     63     171  11756960  11804960       0                 0   \n",
              "3661   219      17   3201280   3249280       0                 0   \n",
              "1176    81       8   8496000   8544000       0                 0   \n",
              "937     63     161  10911520  10959520       0                 0   \n",
              "774     46     125    769760    817760       0                 0   \n",
              "\n",
              "      Prolongation  Block  SoundRep  WordRep  DifficultToUnderstand  \\\n",
              "3952             0      0         0        3                      0   \n",
              "2739             0      0         0        0                      1   \n",
              "2685             2      0         1        0                      0   \n",
              "421              0      0         0        0                      0   \n",
              "1212             0      0         3        0                      0   \n",
              "947              0      0         0        0                      0   \n",
              "3661             0      0         0        0                      0   \n",
              "1176             0      0         0        3                      0   \n",
              "937              0      0         0        0                      0   \n",
              "774              0      0         0        0                      0   \n",
              "\n",
              "      Interjection  NoStutteredWords  NaturalPause  \n",
              "3952             0                 0             0  \n",
              "2739             0                 3             0  \n",
              "2685             0                 0             0  \n",
              "421              3                 3             0  \n",
              "1212             1                 0             0  \n",
              "947              0                 3             0  \n",
              "3661             0                 3             0  \n",
              "1176             0                 0             0  \n",
              "937              0                 3             0  \n",
              "774              0                 3             0  "
            ],
            "text/html": [
              "\n",
              "  <div id=\"df-875a0f75-acc5-4dcc-82ba-4fb170de0e6a\">\n",
              "    <div class=\"colab-df-container\">\n",
              "      <div>\n",
              "<style scoped>\n",
              "    .dataframe tbody tr th:only-of-type {\n",
              "        vertical-align: middle;\n",
              "    }\n",
              "\n",
              "    .dataframe tbody tr th {\n",
              "        vertical-align: top;\n",
              "    }\n",
              "\n",
              "    .dataframe thead th {\n",
              "        text-align: right;\n",
              "    }\n",
              "</style>\n",
              "<table border=\"1\" class=\"dataframe\">\n",
              "  <thead>\n",
              "    <tr style=\"text-align: right;\">\n",
              "      <th></th>\n",
              "      <th>EpId</th>\n",
              "      <th>ClipId</th>\n",
              "      <th>Start</th>\n",
              "      <th>Stop</th>\n",
              "      <th>Unsure</th>\n",
              "      <th>PoorAudioQuality</th>\n",
              "      <th>Prolongation</th>\n",
              "      <th>Block</th>\n",
              "      <th>SoundRep</th>\n",
              "      <th>WordRep</th>\n",
              "      <th>DifficultToUnderstand</th>\n",
              "      <th>Interjection</th>\n",
              "      <th>NoStutteredWords</th>\n",
              "      <th>NaturalPause</th>\n",
              "    </tr>\n",
              "  </thead>\n",
              "  <tbody>\n",
              "    <tr>\n",
              "      <th>3952</th>\n",
              "      <td>985</td>\n",
              "      <td>4</td>\n",
              "      <td>13834080</td>\n",
              "      <td>13882080</td>\n",
              "      <td>0</td>\n",
              "      <td>0</td>\n",
              "      <td>0</td>\n",
              "      <td>0</td>\n",
              "      <td>0</td>\n",
              "      <td>3</td>\n",
              "      <td>0</td>\n",
              "      <td>0</td>\n",
              "      <td>0</td>\n",
              "      <td>0</td>\n",
              "    </tr>\n",
              "    <tr>\n",
              "      <th>2739</th>\n",
              "      <td>118</td>\n",
              "      <td>107</td>\n",
              "      <td>10920960</td>\n",
              "      <td>10968960</td>\n",
              "      <td>0</td>\n",
              "      <td>0</td>\n",
              "      <td>0</td>\n",
              "      <td>0</td>\n",
              "      <td>0</td>\n",
              "      <td>0</td>\n",
              "      <td>1</td>\n",
              "      <td>0</td>\n",
              "      <td>3</td>\n",
              "      <td>0</td>\n",
              "    </tr>\n",
              "    <tr>\n",
              "      <th>2685</th>\n",
              "      <td>118</td>\n",
              "      <td>53</td>\n",
              "      <td>8683680</td>\n",
              "      <td>8731680</td>\n",
              "      <td>0</td>\n",
              "      <td>0</td>\n",
              "      <td>2</td>\n",
              "      <td>0</td>\n",
              "      <td>1</td>\n",
              "      <td>0</td>\n",
              "      <td>0</td>\n",
              "      <td>0</td>\n",
              "      <td>0</td>\n",
              "      <td>0</td>\n",
              "    </tr>\n",
              "    <tr>\n",
              "      <th>421</th>\n",
              "      <td>24</td>\n",
              "      <td>51</td>\n",
              "      <td>2792640</td>\n",
              "      <td>2840640</td>\n",
              "      <td>0</td>\n",
              "      <td>0</td>\n",
              "      <td>0</td>\n",
              "      <td>0</td>\n",
              "      <td>0</td>\n",
              "      <td>0</td>\n",
              "      <td>0</td>\n",
              "      <td>3</td>\n",
              "      <td>3</td>\n",
              "      <td>0</td>\n",
              "    </tr>\n",
              "    <tr>\n",
              "      <th>1212</th>\n",
              "      <td>81</td>\n",
              "      <td>44</td>\n",
              "      <td>33280</td>\n",
              "      <td>81280</td>\n",
              "      <td>0</td>\n",
              "      <td>0</td>\n",
              "      <td>0</td>\n",
              "      <td>0</td>\n",
              "      <td>3</td>\n",
              "      <td>0</td>\n",
              "      <td>0</td>\n",
              "      <td>1</td>\n",
              "      <td>0</td>\n",
              "      <td>0</td>\n",
              "    </tr>\n",
              "    <tr>\n",
              "      <th>947</th>\n",
              "      <td>63</td>\n",
              "      <td>171</td>\n",
              "      <td>11756960</td>\n",
              "      <td>11804960</td>\n",
              "      <td>0</td>\n",
              "      <td>0</td>\n",
              "      <td>0</td>\n",
              "      <td>0</td>\n",
              "      <td>0</td>\n",
              "      <td>0</td>\n",
              "      <td>0</td>\n",
              "      <td>0</td>\n",
              "      <td>3</td>\n",
              "      <td>0</td>\n",
              "    </tr>\n",
              "    <tr>\n",
              "      <th>3661</th>\n",
              "      <td>219</td>\n",
              "      <td>17</td>\n",
              "      <td>3201280</td>\n",
              "      <td>3249280</td>\n",
              "      <td>0</td>\n",
              "      <td>0</td>\n",
              "      <td>0</td>\n",
              "      <td>0</td>\n",
              "      <td>0</td>\n",
              "      <td>0</td>\n",
              "      <td>0</td>\n",
              "      <td>0</td>\n",
              "      <td>3</td>\n",
              "      <td>0</td>\n",
              "    </tr>\n",
              "    <tr>\n",
              "      <th>1176</th>\n",
              "      <td>81</td>\n",
              "      <td>8</td>\n",
              "      <td>8496000</td>\n",
              "      <td>8544000</td>\n",
              "      <td>0</td>\n",
              "      <td>0</td>\n",
              "      <td>0</td>\n",
              "      <td>0</td>\n",
              "      <td>0</td>\n",
              "      <td>3</td>\n",
              "      <td>0</td>\n",
              "      <td>0</td>\n",
              "      <td>0</td>\n",
              "      <td>0</td>\n",
              "    </tr>\n",
              "    <tr>\n",
              "      <th>937</th>\n",
              "      <td>63</td>\n",
              "      <td>161</td>\n",
              "      <td>10911520</td>\n",
              "      <td>10959520</td>\n",
              "      <td>0</td>\n",
              "      <td>0</td>\n",
              "      <td>0</td>\n",
              "      <td>0</td>\n",
              "      <td>0</td>\n",
              "      <td>0</td>\n",
              "      <td>0</td>\n",
              "      <td>0</td>\n",
              "      <td>3</td>\n",
              "      <td>0</td>\n",
              "    </tr>\n",
              "    <tr>\n",
              "      <th>774</th>\n",
              "      <td>46</td>\n",
              "      <td>125</td>\n",
              "      <td>769760</td>\n",
              "      <td>817760</td>\n",
              "      <td>0</td>\n",
              "      <td>0</td>\n",
              "      <td>0</td>\n",
              "      <td>0</td>\n",
              "      <td>0</td>\n",
              "      <td>0</td>\n",
              "      <td>0</td>\n",
              "      <td>0</td>\n",
              "      <td>3</td>\n",
              "      <td>0</td>\n",
              "    </tr>\n",
              "  </tbody>\n",
              "</table>\n",
              "</div>\n",
              "      <button class=\"colab-df-convert\" onclick=\"convertToInteractive('df-875a0f75-acc5-4dcc-82ba-4fb170de0e6a')\"\n",
              "              title=\"Convert this dataframe to an interactive table.\"\n",
              "              style=\"display:none;\">\n",
              "        \n",
              "  <svg xmlns=\"http://www.w3.org/2000/svg\" height=\"24px\"viewBox=\"0 0 24 24\"\n",
              "       width=\"24px\">\n",
              "    <path d=\"M0 0h24v24H0V0z\" fill=\"none\"/>\n",
              "    <path d=\"M18.56 5.44l.94 2.06.94-2.06 2.06-.94-2.06-.94-.94-2.06-.94 2.06-2.06.94zm-11 1L8.5 8.5l.94-2.06 2.06-.94-2.06-.94L8.5 2.5l-.94 2.06-2.06.94zm10 10l.94 2.06.94-2.06 2.06-.94-2.06-.94-.94-2.06-.94 2.06-2.06.94z\"/><path d=\"M17.41 7.96l-1.37-1.37c-.4-.4-.92-.59-1.43-.59-.52 0-1.04.2-1.43.59L10.3 9.45l-7.72 7.72c-.78.78-.78 2.05 0 2.83L4 21.41c.39.39.9.59 1.41.59.51 0 1.02-.2 1.41-.59l7.78-7.78 2.81-2.81c.8-.78.8-2.07 0-2.86zM5.41 20L4 18.59l7.72-7.72 1.47 1.35L5.41 20z\"/>\n",
              "  </svg>\n",
              "      </button>\n",
              "      \n",
              "  <style>\n",
              "    .colab-df-container {\n",
              "      display:flex;\n",
              "      flex-wrap:wrap;\n",
              "      gap: 12px;\n",
              "    }\n",
              "\n",
              "    .colab-df-convert {\n",
              "      background-color: #E8F0FE;\n",
              "      border: none;\n",
              "      border-radius: 50%;\n",
              "      cursor: pointer;\n",
              "      display: none;\n",
              "      fill: #1967D2;\n",
              "      height: 32px;\n",
              "      padding: 0 0 0 0;\n",
              "      width: 32px;\n",
              "    }\n",
              "\n",
              "    .colab-df-convert:hover {\n",
              "      background-color: #E2EBFA;\n",
              "      box-shadow: 0px 1px 2px rgba(60, 64, 67, 0.3), 0px 1px 3px 1px rgba(60, 64, 67, 0.15);\n",
              "      fill: #174EA6;\n",
              "    }\n",
              "\n",
              "    [theme=dark] .colab-df-convert {\n",
              "      background-color: #3B4455;\n",
              "      fill: #D2E3FC;\n",
              "    }\n",
              "\n",
              "    [theme=dark] .colab-df-convert:hover {\n",
              "      background-color: #434B5C;\n",
              "      box-shadow: 0px 1px 3px 1px rgba(0, 0, 0, 0.15);\n",
              "      filter: drop-shadow(0px 1px 2px rgba(0, 0, 0, 0.3));\n",
              "      fill: #FFFFFF;\n",
              "    }\n",
              "  </style>\n",
              "\n",
              "      <script>\n",
              "        const buttonEl =\n",
              "          document.querySelector('#df-875a0f75-acc5-4dcc-82ba-4fb170de0e6a button.colab-df-convert');\n",
              "        buttonEl.style.display =\n",
              "          google.colab.kernel.accessAllowed ? 'block' : 'none';\n",
              "\n",
              "        async function convertToInteractive(key) {\n",
              "          const element = document.querySelector('#df-875a0f75-acc5-4dcc-82ba-4fb170de0e6a');\n",
              "          const dataTable =\n",
              "            await google.colab.kernel.invokeFunction('convertToInteractive',\n",
              "                                                     [key], {});\n",
              "          if (!dataTable) return;\n",
              "\n",
              "          const docLinkHtml = 'Like what you see? Visit the ' +\n",
              "            '<a target=\"_blank\" href=https://colab.research.google.com/notebooks/data_table.ipynb>data table notebook</a>'\n",
              "            + ' to learn more about interactive tables.';\n",
              "          element.innerHTML = '';\n",
              "          dataTable['output_type'] = 'display_data';\n",
              "          await google.colab.output.renderOutput(dataTable, element);\n",
              "          const docLink = document.createElement('div');\n",
              "          docLink.innerHTML = docLinkHtml;\n",
              "          element.appendChild(docLink);\n",
              "        }\n",
              "      </script>\n",
              "    </div>\n",
              "  </div>\n",
              "  "
            ]
          },
          "metadata": {},
          "execution_count": 18
        }
      ]
    },
    {
      "cell_type": "markdown",
      "source": [
        "The features `Poor Audio Quality` (difficulty in understanding due to, for example, microphone quality) & `Difficult To Understand` (difficulty in understanding speech of the individual)"
      ],
      "metadata": {
        "id": "1_CRZ7C0OFDt"
      }
    },
    {
      "cell_type": "code",
      "source": [
        "print(new_df['PoorAudioQuality'].value_counts())"
      ],
      "metadata": {
        "colab": {
          "base_uri": "https://localhost:8080/"
        },
        "id": "zdMMsO7rOk8l",
        "outputId": "d1d9ee8e-b9f8-42fa-9218-e64b41f824ae"
      },
      "execution_count": 19,
      "outputs": [
        {
          "output_type": "stream",
          "name": "stdout",
          "text": [
            "0    2708\n",
            "Name: PoorAudioQuality, dtype: int64\n"
          ]
        }
      ]
    },
    {
      "cell_type": "markdown",
      "source": [
        "All entries in this dataset contain good-quality audio data. So, we can delete this column as well."
      ],
      "metadata": {
        "id": "8y1tvwcEOxEW"
      }
    },
    {
      "cell_type": "code",
      "source": [
        "del new_df['PoorAudioQuality']"
      ],
      "metadata": {
        "id": "rHDbDCQpO4U-"
      },
      "execution_count": 20,
      "outputs": []
    },
    {
      "cell_type": "code",
      "source": [
        "new_df.sample(10)"
      ],
      "metadata": {
        "colab": {
          "base_uri": "https://localhost:8080/",
          "height": 363
        },
        "id": "Sls_hkE7O84Y",
        "outputId": "82face7d-218f-4860-abf9-e20e8005a4e7"
      },
      "execution_count": 21,
      "outputs": [
        {
          "output_type": "execute_result",
          "data": {
            "text/plain": [
              "      EpId  ClipId     Start      Stop  Unsure  Prolongation  Block  SoundRep  \\\n",
              "1818    97      40   1767680   1815680       0             0      0         0   \n",
              "3509   193      75  12987200  13035200       0             0      0         1   \n",
              "1047    71      96    542240    590240       1             0      0         3   \n",
              "2301   107      16   1824640   1872640       0             0      0         0   \n",
              "1093    76      21   5907520   5955520       0             0      2         1   \n",
              "73      10      73   7530560   7578560       0             0      0         0   \n",
              "461     24      91   5181440   5229440       0             0      0         0   \n",
              "2840   121      95   5450880   5498880       0             0      0         0   \n",
              "1482    89      31   3614240   3662240       0             0      0         0   \n",
              "1119    76      47   8827680   8875680       0             0      0         0   \n",
              "\n",
              "      WordRep  DifficultToUnderstand  Interjection  NoStutteredWords  \\\n",
              "1818        0                      0             0                 3   \n",
              "3509        2                      0             2                 0   \n",
              "1047        1                      1             1                 0   \n",
              "2301        0                      0             0                 3   \n",
              "1093        0                      0             1                 0   \n",
              "73          0                      0             1                 3   \n",
              "461         0                      0             0                 3   \n",
              "2840        3                      0             0                 0   \n",
              "1482        0                      0             2                 3   \n",
              "1119        0                      0             0                 3   \n",
              "\n",
              "      NaturalPause  \n",
              "1818             0  \n",
              "3509             0  \n",
              "1047             0  \n",
              "2301             2  \n",
              "1093             0  \n",
              "73               1  \n",
              "461              0  \n",
              "2840             1  \n",
              "1482             0  \n",
              "1119             0  "
            ],
            "text/html": [
              "\n",
              "  <div id=\"df-7e0a994d-90a9-4d08-85ee-caf1fa1dec02\">\n",
              "    <div class=\"colab-df-container\">\n",
              "      <div>\n",
              "<style scoped>\n",
              "    .dataframe tbody tr th:only-of-type {\n",
              "        vertical-align: middle;\n",
              "    }\n",
              "\n",
              "    .dataframe tbody tr th {\n",
              "        vertical-align: top;\n",
              "    }\n",
              "\n",
              "    .dataframe thead th {\n",
              "        text-align: right;\n",
              "    }\n",
              "</style>\n",
              "<table border=\"1\" class=\"dataframe\">\n",
              "  <thead>\n",
              "    <tr style=\"text-align: right;\">\n",
              "      <th></th>\n",
              "      <th>EpId</th>\n",
              "      <th>ClipId</th>\n",
              "      <th>Start</th>\n",
              "      <th>Stop</th>\n",
              "      <th>Unsure</th>\n",
              "      <th>Prolongation</th>\n",
              "      <th>Block</th>\n",
              "      <th>SoundRep</th>\n",
              "      <th>WordRep</th>\n",
              "      <th>DifficultToUnderstand</th>\n",
              "      <th>Interjection</th>\n",
              "      <th>NoStutteredWords</th>\n",
              "      <th>NaturalPause</th>\n",
              "    </tr>\n",
              "  </thead>\n",
              "  <tbody>\n",
              "    <tr>\n",
              "      <th>1818</th>\n",
              "      <td>97</td>\n",
              "      <td>40</td>\n",
              "      <td>1767680</td>\n",
              "      <td>1815680</td>\n",
              "      <td>0</td>\n",
              "      <td>0</td>\n",
              "      <td>0</td>\n",
              "      <td>0</td>\n",
              "      <td>0</td>\n",
              "      <td>0</td>\n",
              "      <td>0</td>\n",
              "      <td>3</td>\n",
              "      <td>0</td>\n",
              "    </tr>\n",
              "    <tr>\n",
              "      <th>3509</th>\n",
              "      <td>193</td>\n",
              "      <td>75</td>\n",
              "      <td>12987200</td>\n",
              "      <td>13035200</td>\n",
              "      <td>0</td>\n",
              "      <td>0</td>\n",
              "      <td>0</td>\n",
              "      <td>1</td>\n",
              "      <td>2</td>\n",
              "      <td>0</td>\n",
              "      <td>2</td>\n",
              "      <td>0</td>\n",
              "      <td>0</td>\n",
              "    </tr>\n",
              "    <tr>\n",
              "      <th>1047</th>\n",
              "      <td>71</td>\n",
              "      <td>96</td>\n",
              "      <td>542240</td>\n",
              "      <td>590240</td>\n",
              "      <td>1</td>\n",
              "      <td>0</td>\n",
              "      <td>0</td>\n",
              "      <td>3</td>\n",
              "      <td>1</td>\n",
              "      <td>1</td>\n",
              "      <td>1</td>\n",
              "      <td>0</td>\n",
              "      <td>0</td>\n",
              "    </tr>\n",
              "    <tr>\n",
              "      <th>2301</th>\n",
              "      <td>107</td>\n",
              "      <td>16</td>\n",
              "      <td>1824640</td>\n",
              "      <td>1872640</td>\n",
              "      <td>0</td>\n",
              "      <td>0</td>\n",
              "      <td>0</td>\n",
              "      <td>0</td>\n",
              "      <td>0</td>\n",
              "      <td>0</td>\n",
              "      <td>0</td>\n",
              "      <td>3</td>\n",
              "      <td>2</td>\n",
              "    </tr>\n",
              "    <tr>\n",
              "      <th>1093</th>\n",
              "      <td>76</td>\n",
              "      <td>21</td>\n",
              "      <td>5907520</td>\n",
              "      <td>5955520</td>\n",
              "      <td>0</td>\n",
              "      <td>0</td>\n",
              "      <td>2</td>\n",
              "      <td>1</td>\n",
              "      <td>0</td>\n",
              "      <td>0</td>\n",
              "      <td>1</td>\n",
              "      <td>0</td>\n",
              "      <td>0</td>\n",
              "    </tr>\n",
              "    <tr>\n",
              "      <th>73</th>\n",
              "      <td>10</td>\n",
              "      <td>73</td>\n",
              "      <td>7530560</td>\n",
              "      <td>7578560</td>\n",
              "      <td>0</td>\n",
              "      <td>0</td>\n",
              "      <td>0</td>\n",
              "      <td>0</td>\n",
              "      <td>0</td>\n",
              "      <td>0</td>\n",
              "      <td>1</td>\n",
              "      <td>3</td>\n",
              "      <td>1</td>\n",
              "    </tr>\n",
              "    <tr>\n",
              "      <th>461</th>\n",
              "      <td>24</td>\n",
              "      <td>91</td>\n",
              "      <td>5181440</td>\n",
              "      <td>5229440</td>\n",
              "      <td>0</td>\n",
              "      <td>0</td>\n",
              "      <td>0</td>\n",
              "      <td>0</td>\n",
              "      <td>0</td>\n",
              "      <td>0</td>\n",
              "      <td>0</td>\n",
              "      <td>3</td>\n",
              "      <td>0</td>\n",
              "    </tr>\n",
              "    <tr>\n",
              "      <th>2840</th>\n",
              "      <td>121</td>\n",
              "      <td>95</td>\n",
              "      <td>5450880</td>\n",
              "      <td>5498880</td>\n",
              "      <td>0</td>\n",
              "      <td>0</td>\n",
              "      <td>0</td>\n",
              "      <td>0</td>\n",
              "      <td>3</td>\n",
              "      <td>0</td>\n",
              "      <td>0</td>\n",
              "      <td>0</td>\n",
              "      <td>1</td>\n",
              "    </tr>\n",
              "    <tr>\n",
              "      <th>1482</th>\n",
              "      <td>89</td>\n",
              "      <td>31</td>\n",
              "      <td>3614240</td>\n",
              "      <td>3662240</td>\n",
              "      <td>0</td>\n",
              "      <td>0</td>\n",
              "      <td>0</td>\n",
              "      <td>0</td>\n",
              "      <td>0</td>\n",
              "      <td>0</td>\n",
              "      <td>2</td>\n",
              "      <td>3</td>\n",
              "      <td>0</td>\n",
              "    </tr>\n",
              "    <tr>\n",
              "      <th>1119</th>\n",
              "      <td>76</td>\n",
              "      <td>47</td>\n",
              "      <td>8827680</td>\n",
              "      <td>8875680</td>\n",
              "      <td>0</td>\n",
              "      <td>0</td>\n",
              "      <td>0</td>\n",
              "      <td>0</td>\n",
              "      <td>0</td>\n",
              "      <td>0</td>\n",
              "      <td>0</td>\n",
              "      <td>3</td>\n",
              "      <td>0</td>\n",
              "    </tr>\n",
              "  </tbody>\n",
              "</table>\n",
              "</div>\n",
              "      <button class=\"colab-df-convert\" onclick=\"convertToInteractive('df-7e0a994d-90a9-4d08-85ee-caf1fa1dec02')\"\n",
              "              title=\"Convert this dataframe to an interactive table.\"\n",
              "              style=\"display:none;\">\n",
              "        \n",
              "  <svg xmlns=\"http://www.w3.org/2000/svg\" height=\"24px\"viewBox=\"0 0 24 24\"\n",
              "       width=\"24px\">\n",
              "    <path d=\"M0 0h24v24H0V0z\" fill=\"none\"/>\n",
              "    <path d=\"M18.56 5.44l.94 2.06.94-2.06 2.06-.94-2.06-.94-.94-2.06-.94 2.06-2.06.94zm-11 1L8.5 8.5l.94-2.06 2.06-.94-2.06-.94L8.5 2.5l-.94 2.06-2.06.94zm10 10l.94 2.06.94-2.06 2.06-.94-2.06-.94-.94-2.06-.94 2.06-2.06.94z\"/><path d=\"M17.41 7.96l-1.37-1.37c-.4-.4-.92-.59-1.43-.59-.52 0-1.04.2-1.43.59L10.3 9.45l-7.72 7.72c-.78.78-.78 2.05 0 2.83L4 21.41c.39.39.9.59 1.41.59.51 0 1.02-.2 1.41-.59l7.78-7.78 2.81-2.81c.8-.78.8-2.07 0-2.86zM5.41 20L4 18.59l7.72-7.72 1.47 1.35L5.41 20z\"/>\n",
              "  </svg>\n",
              "      </button>\n",
              "      \n",
              "  <style>\n",
              "    .colab-df-container {\n",
              "      display:flex;\n",
              "      flex-wrap:wrap;\n",
              "      gap: 12px;\n",
              "    }\n",
              "\n",
              "    .colab-df-convert {\n",
              "      background-color: #E8F0FE;\n",
              "      border: none;\n",
              "      border-radius: 50%;\n",
              "      cursor: pointer;\n",
              "      display: none;\n",
              "      fill: #1967D2;\n",
              "      height: 32px;\n",
              "      padding: 0 0 0 0;\n",
              "      width: 32px;\n",
              "    }\n",
              "\n",
              "    .colab-df-convert:hover {\n",
              "      background-color: #E2EBFA;\n",
              "      box-shadow: 0px 1px 2px rgba(60, 64, 67, 0.3), 0px 1px 3px 1px rgba(60, 64, 67, 0.15);\n",
              "      fill: #174EA6;\n",
              "    }\n",
              "\n",
              "    [theme=dark] .colab-df-convert {\n",
              "      background-color: #3B4455;\n",
              "      fill: #D2E3FC;\n",
              "    }\n",
              "\n",
              "    [theme=dark] .colab-df-convert:hover {\n",
              "      background-color: #434B5C;\n",
              "      box-shadow: 0px 1px 3px 1px rgba(0, 0, 0, 0.15);\n",
              "      filter: drop-shadow(0px 1px 2px rgba(0, 0, 0, 0.3));\n",
              "      fill: #FFFFFF;\n",
              "    }\n",
              "  </style>\n",
              "\n",
              "      <script>\n",
              "        const buttonEl =\n",
              "          document.querySelector('#df-7e0a994d-90a9-4d08-85ee-caf1fa1dec02 button.colab-df-convert');\n",
              "        buttonEl.style.display =\n",
              "          google.colab.kernel.accessAllowed ? 'block' : 'none';\n",
              "\n",
              "        async function convertToInteractive(key) {\n",
              "          const element = document.querySelector('#df-7e0a994d-90a9-4d08-85ee-caf1fa1dec02');\n",
              "          const dataTable =\n",
              "            await google.colab.kernel.invokeFunction('convertToInteractive',\n",
              "                                                     [key], {});\n",
              "          if (!dataTable) return;\n",
              "\n",
              "          const docLinkHtml = 'Like what you see? Visit the ' +\n",
              "            '<a target=\"_blank\" href=https://colab.research.google.com/notebooks/data_table.ipynb>data table notebook</a>'\n",
              "            + ' to learn more about interactive tables.';\n",
              "          element.innerHTML = '';\n",
              "          dataTable['output_type'] = 'display_data';\n",
              "          await google.colab.output.renderOutput(dataTable, element);\n",
              "          const docLink = document.createElement('div');\n",
              "          docLink.innerHTML = docLinkHtml;\n",
              "          element.appendChild(docLink);\n",
              "        }\n",
              "      </script>\n",
              "    </div>\n",
              "  </div>\n",
              "  "
            ]
          },
          "metadata": {},
          "execution_count": 21
        }
      ]
    },
    {
      "cell_type": "code",
      "source": [
        "print(new_df['DifficultToUnderstand'].value_counts())"
      ],
      "metadata": {
        "colab": {
          "base_uri": "https://localhost:8080/"
        },
        "id": "O2PeTpg1QG1D",
        "outputId": "7e141e41-51a9-448c-c235-025db64826bb"
      },
      "execution_count": 22,
      "outputs": [
        {
          "output_type": "stream",
          "name": "stdout",
          "text": [
            "0    2445\n",
            "1     195\n",
            "2      62\n",
            "3       6\n",
            "Name: DifficultToUnderstand, dtype: int64\n"
          ]
        }
      ]
    },
    {
      "cell_type": "code",
      "source": [
        "new_df.loc[(new_df['DifficultToUnderstand'] == 0) & (new_df['NoStutteredWords'] == 3)]"
      ],
      "metadata": {
        "colab": {
          "base_uri": "https://localhost:8080/",
          "height": 423
        },
        "id": "d5_A-qS7P75p",
        "outputId": "5c55629a-a318-45f5-c58b-6afb79fd33ad"
      },
      "execution_count": 23,
      "outputs": [
        {
          "output_type": "execute_result",
          "data": {
            "text/plain": [
              "      EpId  ClipId     Start      Stop  Unsure  Prolongation  Block  SoundRep  \\\n",
              "1       10       1   1271520   1319520       0             0      0         0   \n",
              "5       10       5   1919520   1967520       0             0      0         0   \n",
              "6       10       6   1982720   2030720       0             0      0         0   \n",
              "8       10       8   2047520   2095520       0             0      0         0   \n",
              "9       10       9   2070400   2118400       0             0      0         0   \n",
              "...    ...     ...       ...       ...     ...           ...    ...       ...   \n",
              "4117   985     169  12085280  12133280       0             0      0         0   \n",
              "4125   985     177   1550880   1598880       0             0      0         0   \n",
              "4126   985     178   1602400   1650400       0             0      0         0   \n",
              "4135   985     187  13271840  13319840       0             0      0         0   \n",
              "4143   985     195   1721440   1769440       0             0      0         0   \n",
              "\n",
              "      WordRep  DifficultToUnderstand  Interjection  NoStutteredWords  \\\n",
              "1           0                      0             0                 3   \n",
              "5           0                      0             0                 3   \n",
              "6           0                      0             0                 3   \n",
              "8           0                      0             0                 3   \n",
              "9           0                      0             0                 3   \n",
              "...       ...                    ...           ...               ...   \n",
              "4117        0                      0             0                 3   \n",
              "4125        0                      0             0                 3   \n",
              "4126        0                      0             0                 3   \n",
              "4135        0                      0             0                 3   \n",
              "4143        0                      0             3                 3   \n",
              "\n",
              "      NaturalPause  \n",
              "1                0  \n",
              "5                1  \n",
              "6                0  \n",
              "8                0  \n",
              "9                1  \n",
              "...            ...  \n",
              "4117             0  \n",
              "4125             0  \n",
              "4126             0  \n",
              "4135             0  \n",
              "4143             0  \n",
              "\n",
              "[1369 rows x 13 columns]"
            ],
            "text/html": [
              "\n",
              "  <div id=\"df-6f4f3623-e0da-4b0a-8459-c37d2767e05f\">\n",
              "    <div class=\"colab-df-container\">\n",
              "      <div>\n",
              "<style scoped>\n",
              "    .dataframe tbody tr th:only-of-type {\n",
              "        vertical-align: middle;\n",
              "    }\n",
              "\n",
              "    .dataframe tbody tr th {\n",
              "        vertical-align: top;\n",
              "    }\n",
              "\n",
              "    .dataframe thead th {\n",
              "        text-align: right;\n",
              "    }\n",
              "</style>\n",
              "<table border=\"1\" class=\"dataframe\">\n",
              "  <thead>\n",
              "    <tr style=\"text-align: right;\">\n",
              "      <th></th>\n",
              "      <th>EpId</th>\n",
              "      <th>ClipId</th>\n",
              "      <th>Start</th>\n",
              "      <th>Stop</th>\n",
              "      <th>Unsure</th>\n",
              "      <th>Prolongation</th>\n",
              "      <th>Block</th>\n",
              "      <th>SoundRep</th>\n",
              "      <th>WordRep</th>\n",
              "      <th>DifficultToUnderstand</th>\n",
              "      <th>Interjection</th>\n",
              "      <th>NoStutteredWords</th>\n",
              "      <th>NaturalPause</th>\n",
              "    </tr>\n",
              "  </thead>\n",
              "  <tbody>\n",
              "    <tr>\n",
              "      <th>1</th>\n",
              "      <td>10</td>\n",
              "      <td>1</td>\n",
              "      <td>1271520</td>\n",
              "      <td>1319520</td>\n",
              "      <td>0</td>\n",
              "      <td>0</td>\n",
              "      <td>0</td>\n",
              "      <td>0</td>\n",
              "      <td>0</td>\n",
              "      <td>0</td>\n",
              "      <td>0</td>\n",
              "      <td>3</td>\n",
              "      <td>0</td>\n",
              "    </tr>\n",
              "    <tr>\n",
              "      <th>5</th>\n",
              "      <td>10</td>\n",
              "      <td>5</td>\n",
              "      <td>1919520</td>\n",
              "      <td>1967520</td>\n",
              "      <td>0</td>\n",
              "      <td>0</td>\n",
              "      <td>0</td>\n",
              "      <td>0</td>\n",
              "      <td>0</td>\n",
              "      <td>0</td>\n",
              "      <td>0</td>\n",
              "      <td>3</td>\n",
              "      <td>1</td>\n",
              "    </tr>\n",
              "    <tr>\n",
              "      <th>6</th>\n",
              "      <td>10</td>\n",
              "      <td>6</td>\n",
              "      <td>1982720</td>\n",
              "      <td>2030720</td>\n",
              "      <td>0</td>\n",
              "      <td>0</td>\n",
              "      <td>0</td>\n",
              "      <td>0</td>\n",
              "      <td>0</td>\n",
              "      <td>0</td>\n",
              "      <td>0</td>\n",
              "      <td>3</td>\n",
              "      <td>0</td>\n",
              "    </tr>\n",
              "    <tr>\n",
              "      <th>8</th>\n",
              "      <td>10</td>\n",
              "      <td>8</td>\n",
              "      <td>2047520</td>\n",
              "      <td>2095520</td>\n",
              "      <td>0</td>\n",
              "      <td>0</td>\n",
              "      <td>0</td>\n",
              "      <td>0</td>\n",
              "      <td>0</td>\n",
              "      <td>0</td>\n",
              "      <td>0</td>\n",
              "      <td>3</td>\n",
              "      <td>0</td>\n",
              "    </tr>\n",
              "    <tr>\n",
              "      <th>9</th>\n",
              "      <td>10</td>\n",
              "      <td>9</td>\n",
              "      <td>2070400</td>\n",
              "      <td>2118400</td>\n",
              "      <td>0</td>\n",
              "      <td>0</td>\n",
              "      <td>0</td>\n",
              "      <td>0</td>\n",
              "      <td>0</td>\n",
              "      <td>0</td>\n",
              "      <td>0</td>\n",
              "      <td>3</td>\n",
              "      <td>1</td>\n",
              "    </tr>\n",
              "    <tr>\n",
              "      <th>...</th>\n",
              "      <td>...</td>\n",
              "      <td>...</td>\n",
              "      <td>...</td>\n",
              "      <td>...</td>\n",
              "      <td>...</td>\n",
              "      <td>...</td>\n",
              "      <td>...</td>\n",
              "      <td>...</td>\n",
              "      <td>...</td>\n",
              "      <td>...</td>\n",
              "      <td>...</td>\n",
              "      <td>...</td>\n",
              "      <td>...</td>\n",
              "    </tr>\n",
              "    <tr>\n",
              "      <th>4117</th>\n",
              "      <td>985</td>\n",
              "      <td>169</td>\n",
              "      <td>12085280</td>\n",
              "      <td>12133280</td>\n",
              "      <td>0</td>\n",
              "      <td>0</td>\n",
              "      <td>0</td>\n",
              "      <td>0</td>\n",
              "      <td>0</td>\n",
              "      <td>0</td>\n",
              "      <td>0</td>\n",
              "      <td>3</td>\n",
              "      <td>0</td>\n",
              "    </tr>\n",
              "    <tr>\n",
              "      <th>4125</th>\n",
              "      <td>985</td>\n",
              "      <td>177</td>\n",
              "      <td>1550880</td>\n",
              "      <td>1598880</td>\n",
              "      <td>0</td>\n",
              "      <td>0</td>\n",
              "      <td>0</td>\n",
              "      <td>0</td>\n",
              "      <td>0</td>\n",
              "      <td>0</td>\n",
              "      <td>0</td>\n",
              "      <td>3</td>\n",
              "      <td>0</td>\n",
              "    </tr>\n",
              "    <tr>\n",
              "      <th>4126</th>\n",
              "      <td>985</td>\n",
              "      <td>178</td>\n",
              "      <td>1602400</td>\n",
              "      <td>1650400</td>\n",
              "      <td>0</td>\n",
              "      <td>0</td>\n",
              "      <td>0</td>\n",
              "      <td>0</td>\n",
              "      <td>0</td>\n",
              "      <td>0</td>\n",
              "      <td>0</td>\n",
              "      <td>3</td>\n",
              "      <td>0</td>\n",
              "    </tr>\n",
              "    <tr>\n",
              "      <th>4135</th>\n",
              "      <td>985</td>\n",
              "      <td>187</td>\n",
              "      <td>13271840</td>\n",
              "      <td>13319840</td>\n",
              "      <td>0</td>\n",
              "      <td>0</td>\n",
              "      <td>0</td>\n",
              "      <td>0</td>\n",
              "      <td>0</td>\n",
              "      <td>0</td>\n",
              "      <td>0</td>\n",
              "      <td>3</td>\n",
              "      <td>0</td>\n",
              "    </tr>\n",
              "    <tr>\n",
              "      <th>4143</th>\n",
              "      <td>985</td>\n",
              "      <td>195</td>\n",
              "      <td>1721440</td>\n",
              "      <td>1769440</td>\n",
              "      <td>0</td>\n",
              "      <td>0</td>\n",
              "      <td>0</td>\n",
              "      <td>0</td>\n",
              "      <td>0</td>\n",
              "      <td>0</td>\n",
              "      <td>3</td>\n",
              "      <td>3</td>\n",
              "      <td>0</td>\n",
              "    </tr>\n",
              "  </tbody>\n",
              "</table>\n",
              "<p>1369 rows × 13 columns</p>\n",
              "</div>\n",
              "      <button class=\"colab-df-convert\" onclick=\"convertToInteractive('df-6f4f3623-e0da-4b0a-8459-c37d2767e05f')\"\n",
              "              title=\"Convert this dataframe to an interactive table.\"\n",
              "              style=\"display:none;\">\n",
              "        \n",
              "  <svg xmlns=\"http://www.w3.org/2000/svg\" height=\"24px\"viewBox=\"0 0 24 24\"\n",
              "       width=\"24px\">\n",
              "    <path d=\"M0 0h24v24H0V0z\" fill=\"none\"/>\n",
              "    <path d=\"M18.56 5.44l.94 2.06.94-2.06 2.06-.94-2.06-.94-.94-2.06-.94 2.06-2.06.94zm-11 1L8.5 8.5l.94-2.06 2.06-.94-2.06-.94L8.5 2.5l-.94 2.06-2.06.94zm10 10l.94 2.06.94-2.06 2.06-.94-2.06-.94-.94-2.06-.94 2.06-2.06.94z\"/><path d=\"M17.41 7.96l-1.37-1.37c-.4-.4-.92-.59-1.43-.59-.52 0-1.04.2-1.43.59L10.3 9.45l-7.72 7.72c-.78.78-.78 2.05 0 2.83L4 21.41c.39.39.9.59 1.41.59.51 0 1.02-.2 1.41-.59l7.78-7.78 2.81-2.81c.8-.78.8-2.07 0-2.86zM5.41 20L4 18.59l7.72-7.72 1.47 1.35L5.41 20z\"/>\n",
              "  </svg>\n",
              "      </button>\n",
              "      \n",
              "  <style>\n",
              "    .colab-df-container {\n",
              "      display:flex;\n",
              "      flex-wrap:wrap;\n",
              "      gap: 12px;\n",
              "    }\n",
              "\n",
              "    .colab-df-convert {\n",
              "      background-color: #E8F0FE;\n",
              "      border: none;\n",
              "      border-radius: 50%;\n",
              "      cursor: pointer;\n",
              "      display: none;\n",
              "      fill: #1967D2;\n",
              "      height: 32px;\n",
              "      padding: 0 0 0 0;\n",
              "      width: 32px;\n",
              "    }\n",
              "\n",
              "    .colab-df-convert:hover {\n",
              "      background-color: #E2EBFA;\n",
              "      box-shadow: 0px 1px 2px rgba(60, 64, 67, 0.3), 0px 1px 3px 1px rgba(60, 64, 67, 0.15);\n",
              "      fill: #174EA6;\n",
              "    }\n",
              "\n",
              "    [theme=dark] .colab-df-convert {\n",
              "      background-color: #3B4455;\n",
              "      fill: #D2E3FC;\n",
              "    }\n",
              "\n",
              "    [theme=dark] .colab-df-convert:hover {\n",
              "      background-color: #434B5C;\n",
              "      box-shadow: 0px 1px 3px 1px rgba(0, 0, 0, 0.15);\n",
              "      filter: drop-shadow(0px 1px 2px rgba(0, 0, 0, 0.3));\n",
              "      fill: #FFFFFF;\n",
              "    }\n",
              "  </style>\n",
              "\n",
              "      <script>\n",
              "        const buttonEl =\n",
              "          document.querySelector('#df-6f4f3623-e0da-4b0a-8459-c37d2767e05f button.colab-df-convert');\n",
              "        buttonEl.style.display =\n",
              "          google.colab.kernel.accessAllowed ? 'block' : 'none';\n",
              "\n",
              "        async function convertToInteractive(key) {\n",
              "          const element = document.querySelector('#df-6f4f3623-e0da-4b0a-8459-c37d2767e05f');\n",
              "          const dataTable =\n",
              "            await google.colab.kernel.invokeFunction('convertToInteractive',\n",
              "                                                     [key], {});\n",
              "          if (!dataTable) return;\n",
              "\n",
              "          const docLinkHtml = 'Like what you see? Visit the ' +\n",
              "            '<a target=\"_blank\" href=https://colab.research.google.com/notebooks/data_table.ipynb>data table notebook</a>'\n",
              "            + ' to learn more about interactive tables.';\n",
              "          element.innerHTML = '';\n",
              "          dataTable['output_type'] = 'display_data';\n",
              "          await google.colab.output.renderOutput(dataTable, element);\n",
              "          const docLink = document.createElement('div');\n",
              "          docLink.innerHTML = docLinkHtml;\n",
              "          element.appendChild(docLink);\n",
              "        }\n",
              "      </script>\n",
              "    </div>\n",
              "  </div>\n",
              "  "
            ]
          },
          "metadata": {},
          "execution_count": 23
        }
      ]
    },
    {
      "cell_type": "markdown",
      "source": [
        "We can now delete `DifficultToUnderstand` feature."
      ],
      "metadata": {
        "id": "gCWedWllTaar"
      }
    },
    {
      "cell_type": "code",
      "source": [
        "del new_df['DifficultToUnderstand']"
      ],
      "metadata": {
        "id": "RC1jZdtvTiFP"
      },
      "execution_count": 24,
      "outputs": []
    },
    {
      "cell_type": "code",
      "source": [
        "print(new_df.sample(10))"
      ],
      "metadata": {
        "colab": {
          "base_uri": "https://localhost:8080/"
        },
        "id": "e_E92Y9BTpjX",
        "outputId": "464bb2ef-b164-4bd3-889b-779e534c2cfc"
      },
      "execution_count": 25,
      "outputs": [
        {
          "output_type": "stream",
          "name": "stdout",
          "text": [
            "      EpId  ClipId     Start      Stop  Unsure  Prolongation  Block  SoundRep  \\\n",
            "1499    89      48   4900960   4948960       0             0      0         0   \n",
            "1549    89      98   7781120   7829120       0             0      0         0   \n",
            "1922    97     144   8522400   8570400       0             0      0         0   \n",
            "2578   111     111   6647200   6695200       0             0      0         0   \n",
            "1849    97      71   3972160   4020160       0             0      0         0   \n",
            "3498   193      64  11228320  11276320       0             1      0         3   \n",
            "2508   111      41   2402880   2450880       0             0      0         0   \n",
            "2577   111     110   6585760   6633760       0             0      0         0   \n",
            "3325   178     150   6363040   6411040       0             3      0         0   \n",
            "1011    71      60   3697920   3745920       0             2      1         1   \n",
            "\n",
            "      WordRep  Interjection  NoStutteredWords  NaturalPause  \n",
            "1499        0             2                 3             0  \n",
            "1549        0             2                 3             0  \n",
            "1922        0             3                 3             0  \n",
            "2578        0             3                 3             1  \n",
            "1849        0             0                 3             0  \n",
            "3498        1             1                 0             0  \n",
            "2508        0             0                 3             0  \n",
            "2577        0             3                 3             1  \n",
            "3325        0             0                 0             0  \n",
            "1011        0             1                 0             0  \n"
          ]
        }
      ]
    },
    {
      "cell_type": "markdown",
      "source": [
        "`Unsure` feature:"
      ],
      "metadata": {
        "id": "Xxx-SB1Aqfj8"
      }
    },
    {
      "cell_type": "code",
      "source": [
        "new_df['Unsure'].value_counts()"
      ],
      "metadata": {
        "colab": {
          "base_uri": "https://localhost:8080/"
        },
        "id": "KiJDBS1iqMZE",
        "outputId": "948f6213-ef32-4049-d68d-7f80cfd34437"
      },
      "execution_count": 26,
      "outputs": [
        {
          "output_type": "execute_result",
          "data": {
            "text/plain": [
              "0    2622\n",
              "1      82\n",
              "2       3\n",
              "3       1\n",
              "Name: Unsure, dtype: int64"
            ]
          },
          "metadata": {},
          "execution_count": 26
        }
      ]
    },
    {
      "cell_type": "code",
      "source": [
        "new_df = new_df[new_df['Unsure'] == 0]\n",
        "print(new_df.sample(10))\n",
        "print(new_df.shape) #dataset dimensions"
      ],
      "metadata": {
        "colab": {
          "base_uri": "https://localhost:8080/"
        },
        "id": "4Vw-vBdzqvNq",
        "outputId": "1a8dab89-e5e4-47cc-a16b-2deb18e54a55"
      },
      "execution_count": 27,
      "outputs": [
        {
          "output_type": "stream",
          "name": "stdout",
          "text": [
            "      EpId  ClipId     Start      Stop  Unsure  Prolongation  Block  SoundRep  \\\n",
            "994     71      43   2761760   2809760       0             1      0         3   \n",
            "3577   218      21   2049120   2097120       0             0      1         1   \n",
            "3170   173      74    299680    347680       0             3      1         2   \n",
            "3943   230     173  10476800  10524800       0             0      0         0   \n",
            "1704    96      21   2736160   2784160       0             0      0         0   \n",
            "813     63      37   3268480   3316480       0             0      0         0   \n",
            "694     46      45   4481920   4529920       0             0      0         0   \n",
            "2178    99      79   5730880   5778880       0             0      2         1   \n",
            "4035   985      87    770560    818560       0             0      0         0   \n",
            "1611    93      21   2272640   2320640       0             0      0         0   \n",
            "\n",
            "      WordRep  Interjection  NoStutteredWords  NaturalPause  \n",
            "994         1             3                 0             0  \n",
            "3577        1             0                 0             1  \n",
            "3170        0             1                 0             0  \n",
            "3943        0             0                 3             0  \n",
            "1704        0             0                 3             1  \n",
            "813         0             0                 3             1  \n",
            "694         0             0                 3             0  \n",
            "2178        0             1                 0             0  \n",
            "4035        0             0                 3             0  \n",
            "1611        0             0                 3             2  \n",
            "(2622, 12)\n"
          ]
        }
      ]
    },
    {
      "cell_type": "markdown",
      "source": [
        "We retain `EpId`, `ClipId`, `Start` & `Stop` features for referencing purposes."
      ],
      "metadata": {
        "id": "gp65nqVMrlQr"
      }
    },
    {
      "cell_type": "markdown",
      "source": [
        "Converting the value '3' in `NoStutteredWords` into 1: \n",
        "\n",
        "*(Purely for intuitive understanding)*"
      ],
      "metadata": {
        "id": "z27MokJQtnCw"
      }
    },
    {
      "cell_type": "code",
      "source": [
        "new_df['NoStutteredWords'] = new_df['NoStutteredWords'].replace([3], 1)\n",
        "print(new_df.sample(10))"
      ],
      "metadata": {
        "colab": {
          "base_uri": "https://localhost:8080/"
        },
        "id": "Gs4KQWOnra7O",
        "outputId": "faae0ae2-af19-4c56-b915-a27c3f796643"
      },
      "execution_count": 28,
      "outputs": [
        {
          "output_type": "stream",
          "name": "stdout",
          "text": [
            "      EpId  ClipId     Start      Stop  Unsure  Prolongation  Block  SoundRep  \\\n",
            "3140   173      44   2474560   2522560       0             0      0         0   \n",
            "914     63     138    745120    793120       0             3      0         0   \n",
            "2402   109      20   5562400   5610400       0             0      0         0   \n",
            "924     63     148  10380640  10428640       0             0      0         0   \n",
            "412     24      42   2107520   2155520       0             0      0         0   \n",
            "1786    97       8  12044320  12092320       0             0      1         2   \n",
            "902     63     126   8772000   8820000       0             0      0         0   \n",
            "3157   173      61   3538880   3586880       0             0      0         0   \n",
            "3413   179      67   5520960   5568960       0             0      0         0   \n",
            "3864   230      94   4927200   4975200       0             0      0         0   \n",
            "\n",
            "      WordRep  Interjection  NoStutteredWords  NaturalPause  \n",
            "3140        0             2                 1             1  \n",
            "914         0             3                 0             0  \n",
            "2402        0             0                 1             0  \n",
            "924         0             0                 1             1  \n",
            "412         0             3                 1             0  \n",
            "1786        1             1                 0             0  \n",
            "902         0             0                 1             1  \n",
            "3157        0             0                 1             1  \n",
            "3413        0             0                 1             0  \n",
            "3864        0             0                 1             0  \n"
          ]
        }
      ]
    },
    {
      "cell_type": "markdown",
      "source": [
        "Let's create a new column `Stutter` that shows '1' is when stutter is detected & '0' when there is no stutter.\n",
        "\n",
        "*(Purely for intuitive understanding)*"
      ],
      "metadata": {
        "id": "jZCo98HduNoP"
      }
    },
    {
      "cell_type": "code",
      "source": [
        "import numpy as np\n",
        "new_df['Stutter'] = np.where(new_df['NoStutteredWords'] == 1, 0, 1)"
      ],
      "metadata": {
        "id": "GJAOQTjOuwFa"
      },
      "execution_count": 29,
      "outputs": []
    },
    {
      "cell_type": "code",
      "source": [
        "print(new_df.sample(10))"
      ],
      "metadata": {
        "colab": {
          "base_uri": "https://localhost:8080/"
        },
        "id": "dlWu4Z3kv9d-",
        "outputId": "db509b46-a74a-4183-9c03-b3a9cda92541"
      },
      "execution_count": 30,
      "outputs": [
        {
          "output_type": "stream",
          "name": "stdout",
          "text": [
            "      EpId  ClipId     Start      Stop  Unsure  Prolongation  Block  SoundRep  \\\n",
            "3502   193      68  11361120  11409120       0             0      2         3   \n",
            "1650    93      60   5016800   5064800       0             0      1         2   \n",
            "1822    97      44   2007680   2055680       0             1      1         1   \n",
            "3425   179      79    666400    714400       0             0      0         0   \n",
            "824     63      48   4101760   4149760       0             0      0         0   \n",
            "147     16      47   3797120   3845120       0             0      0         0   \n",
            "49      10      49   5997600   6045600       0             0      0         0   \n",
            "1164    76      92   1861120   1909120       0             0      0         0   \n",
            "3323   178     148   6238080   6286080       0             0      0         0   \n",
            "2344   107      59   4519200   4567200       0             0      0         0   \n",
            "\n",
            "      WordRep  Interjection  NoStutteredWords  NaturalPause  Stutter  \n",
            "3502        0             3                 0             0        1  \n",
            "1650        0             0                 0             1        1  \n",
            "1822        0             1                 0             0        1  \n",
            "3425        0             0                 1             0        0  \n",
            "824         0             0                 1             0        0  \n",
            "147         0             1                 1             2        0  \n",
            "49          0             3                 1             1        0  \n",
            "1164        0             0                 1             0        0  \n",
            "3323        0             0                 1             0        0  \n",
            "2344        0             0                 1             0        0  \n"
          ]
        }
      ]
    },
    {
      "cell_type": "code",
      "source": [
        "final_df = new_df.filter(['Prolongation','Block','SoundRep','WordRep','Interjection','NaturalPause','Stutter'], axis=1)\n",
        "print(final_df.sample(10))\n",
        "print(final_df.shape)"
      ],
      "metadata": {
        "colab": {
          "base_uri": "https://localhost:8080/"
        },
        "id": "QBM3bDLswPpu",
        "outputId": "17d467e0-2df5-4f06-9e89-e2aeb15908ac"
      },
      "execution_count": 31,
      "outputs": [
        {
          "output_type": "stream",
          "name": "stdout",
          "text": [
            "      Prolongation  Block  SoundRep  WordRep  Interjection  NaturalPause  \\\n",
            "3351             0      0         0        0             0             0   \n",
            "2573             0      0         0        0             0             1   \n",
            "3395             0      0         0        0             0             0   \n",
            "3171             0      2         1        1             0             1   \n",
            "3617             0      0         0        0             3             0   \n",
            "3782             0      0         0        0             0             0   \n",
            "2083             0      2         2        0             0             1   \n",
            "1695             0      0         0        0             0             2   \n",
            "416              0      0         0        0             3             1   \n",
            "397              1      2         1        3             1             0   \n",
            "\n",
            "      Stutter  \n",
            "3351        0  \n",
            "2573        0  \n",
            "3395        0  \n",
            "3171        1  \n",
            "3617        0  \n",
            "3782        0  \n",
            "2083        1  \n",
            "1695        0  \n",
            "416         0  \n",
            "397         1  \n",
            "(2622, 7)\n"
          ]
        }
      ]
    },
    {
      "cell_type": "markdown",
      "source": [
        "**Correlation Heat Map:** finding correlation between `Stutter` and its independent variables: \n",
        "\n",
        "`Prolongation`, `Block`, `SoundRep`, `WordRep`, `Interjection`, `NaturalPause`."
      ],
      "metadata": {
        "id": "_KpdWM5V9TKA"
      }
    },
    {
      "cell_type": "code",
      "source": [
        "final_df.columns = ['Prolongation','Block','SoundRep','WordRep','Interjection','NaturalPause','Stutter']\n",
        "\n",
        "# Correlation between different variables\n",
        "corr = final_df.corr()\n",
        "\n",
        "# Set up the matplotlib plot configuration\n",
        "import matplotlib.pyplot as plt\n",
        "f, ax = plt.subplots(figsize=(12, 10))\n",
        "\n",
        "# Generate a mask for upper traingle\n",
        "mask = np.triu(np.ones_like(corr, dtype=bool))\n",
        "\n",
        "# Configure a custom diverging colormap\n",
        "import seaborn as sns\n",
        "cmap = sns.diverging_palette(230, 20, as_cmap=True)\n",
        "\n",
        "# Draw the heatmap\n",
        "sns.heatmap(corr, annot=True, mask = mask, cmap=cmap)"
      ],
      "metadata": {
        "colab": {
          "base_uri": "https://localhost:8080/",
          "height": 610
        },
        "id": "clM2Gn3p76ta",
        "outputId": "211383b9-ee2a-44a2-94d1-091fa92a48dd"
      },
      "execution_count": 34,
      "outputs": [
        {
          "output_type": "execute_result",
          "data": {
            "text/plain": [
              "<AxesSubplot:>"
            ]
          },
          "metadata": {},
          "execution_count": 34
        },
        {
          "output_type": "display_data",
          "data": {
            "text/plain": [
              "<Figure size 864x720 with 2 Axes>"
            ],
            "image/png": "[encoded data removed]"
          },
          "metadata": {
            "needs_background": "light"
          }
        }
      ]
    },
    {
      "cell_type": "markdown",
      "source": [
        "From the last 6 boxes in the heat map,\n",
        "\n",
        "- We can see that the variables `Prolongation`, `Block`, `SoundRep` & `WordRep` are strongly correlated with `Stutter` which stores data on the correct labelling of stuttered words. \n",
        "\n",
        "- The variables `Interjection` & `NaturalPause` have little to negative correlation with `Stutter`."
      ],
      "metadata": {
        "id": "WoddYV5d-LcC"
      }
    },
    {
      "cell_type": "markdown",
      "source": [
        "**MACHINE LEARNING**"
      ],
      "metadata": {
        "id": "s3b7xGeOw8cV"
      }
    },
    {
      "cell_type": "code",
      "source": [
        "feature_names = ['Prolongation','Block','SoundRep','WordRep','Interjection','NaturalPause']\n",
        "X = final_df[feature_names]\n",
        "y = final_df['Stutter']"
      ],
      "metadata": {
        "id": "zwFWIOYNx_v3"
      },
      "execution_count": 38,
      "outputs": []
    },
    {
      "cell_type": "code",
      "source": [
        "from sklearn.model_selection import train_test_split\n",
        "\n",
        "X_train, X_test, y_train, y_test = train_test_split(X, y, test_size = 0.3, random_state = 0) #70% train data & 30% test data"
      ],
      "metadata": {
        "id": "9bnnnFNlx119"
      },
      "execution_count": 39,
      "outputs": []
    },
    {
      "cell_type": "code",
      "source": [
        "print(X_train, X_test, y_train, y_test)\n",
        "\n",
        "print(X_train.shape, X_test.shape, y_train.shape, y_test.shape)"
      ],
      "metadata": {
        "colab": {
          "base_uri": "https://localhost:8080/"
        },
        "id": "hq7bQw8p0AcR",
        "outputId": "f61dcede-65cc-4a9f-e2e0-443a85c17e3a"
      },
      "execution_count": 45,
      "outputs": [
        {
          "output_type": "stream",
          "name": "stdout",
          "text": [
            "      Prolongation  Block  SoundRep  WordRep  Interjection  NaturalPause\n",
            "869              0      0         0        0             0             0\n",
            "1200             0      1         2        0             0             0\n",
            "4070             0      0         0        0             0             0\n",
            "2861             0      0         0        0             0             1\n",
            "61               0      0         0        0             0             0\n",
            "...            ...    ...       ...      ...           ...           ...\n",
            "2741             0      0         0        0             0             0\n",
            "1260             0      0         0        0             2             0\n",
            "1386             0      0         2        1             3             0\n",
            "2622             0      0         0        0             0             1\n",
            "4124             3      0         0        2             0             0\n",
            "\n",
            "[1835 rows x 6 columns]       Prolongation  Block  SoundRep  WordRep  Interjection  NaturalPause\n",
            "3961             2      0         1        0             1             0\n",
            "3843             0      0         0        0             0             1\n",
            "2454             0      1         2        1             0             0\n",
            "3654             0      3         1        0             0             0\n",
            "1378             0      1         3        0             0             0\n",
            "...            ...    ...       ...      ...           ...           ...\n",
            "2376             0      0         1        2             0             1\n",
            "2764             2      1         1        0             0             0\n",
            "1786             0      1         2        1             1             0\n",
            "2743             2      0         2        0             1             0\n",
            "2970             0      0         0        0             3             0\n",
            "\n",
            "[787 rows x 6 columns] 869     0\n",
            "1200    1\n",
            "4070    0\n",
            "2861    0\n",
            "61      0\n",
            "       ..\n",
            "2741    0\n",
            "1260    0\n",
            "1386    1\n",
            "2622    0\n",
            "4124    1\n",
            "Name: Stutter, Length: 1835, dtype: int64 3961    1\n",
            "3843    0\n",
            "2454    1\n",
            "3654    1\n",
            "1378    1\n",
            "       ..\n",
            "2376    1\n",
            "2764    1\n",
            "1786    1\n",
            "2743    1\n",
            "2970    0\n",
            "Name: Stutter, Length: 787, dtype: int64\n",
            "(1835, 6) (787, 6) (1835,) (787,)\n"
          ]
        }
      ]
    },
    {
      "cell_type": "markdown",
      "source": [
        "Using, `LogisticRegression` as it is always advisable to use the simplest binary classification model and increase model complexity if better prediction models are required."
      ],
      "metadata": {
        "id": "tZLbc4iuFNdC"
      }
    },
    {
      "cell_type": "code",
      "source": [
        "from sklearn.linear_model import LogisticRegression\n",
        "from sklearn.metrics import accuracy_score\n",
        "\n",
        "model = LogisticRegression().fit(X_train, y_train)\n",
        "predictions = model.predict(X_test)\n",
        "model_accuracy = accuracy_score(y_test, predictions)\n",
        "\n",
        "print('Accuracy of the model on test data: {:.2f}'.format(model_accuracy))"
      ],
      "metadata": {
        "colab": {
          "base_uri": "https://localhost:8080/"
        },
        "id": "wBf-lQK3xjfw",
        "outputId": "0523bf81-c500-4db2-9962-45d6cfd052dd"
      },
      "execution_count": 50,
      "outputs": [
        {
          "output_type": "stream",
          "name": "stdout",
          "text": [
            "Accuracy of the model on test data: 1.00\n"
          ]
        }
      ]
    }
  ]
}