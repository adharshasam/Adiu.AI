{
  "nbformat": 4,
  "nbformat_minor": 0,
  "metadata": {
    "colab": {
      "provenance": []
    },
    "kernelspec": {
      "name": "python3",
      "display_name": "Python 3"
    },
    "language_info": {
      "name": "python"
    }
  },
  "cells": [
    {
      "cell_type": "markdown",
      "source": [
        "**DATA EXPLORATION**"
      ],
      "metadata": {
        "id": "6eXcFMBdGf3x"
      }
    },
    {
      "cell_type": "markdown",
      "source": [
        "fluencybank_labels.csv is a dataset containing over 4k clips labeled with five event types including blocks, prolongations, sound repetitions, word repetitions, and interjections. Audio comes from public podcasts consisting of people who stutter interviewing other people who stutter.\n",
        "\n",
        "**Source:** https://machinelearning.apple.com/research/stuttering-event-detection\n",
        "\n",
        "**Dataset:** https://github.com/apple/ml-stuttering-events-dataset/\n",
        "\n",
        "Each 3-second clip was annotated with the following labels by three annotators who were not clinicians but did have training on how to identify each type of stuttering event. Label files contain counts (out of three) corresponding to how many reviewers selected a given label. Multiple labels may be selected for a given clip."
      ],
      "metadata": {
        "id": "4aJhJv6kAn6M"
      }
    },
    {
      "cell_type": "code",
      "execution_count": null,
      "metadata": {
        "colab": {
          "base_uri": "https://localhost:8080/"
        },
        "id": "vmhUeUcGZsV7",
        "outputId": "a738ef9e-e4f8-45a1-a1e5-53b94ca7f958"
      },
      "outputs": [
        {
          "output_type": "stream",
          "name": "stdout",
          "text": [
            "             Show  EpId  ClipId    Start     Stop  Unsure  PoorAudioQuality  \\\n",
            "747   FluencyBank    46      98  7368800  7416800       0                 0   \n",
            "2597  FluencyBank   111     130  7451360  7499360       0                 0   \n",
            "1503  FluencyBank    89      52  5284480  5332480       0                 0   \n",
            "1900  FluencyBank    97     122   699840   747840       0                 0   \n",
            "168   FluencyBank    16      68   504000   552000       0                 0   \n",
            "1617  FluencyBank    93      27  2461920  2509920       0                 0   \n",
            "1239  FluencyBank    81      71  3206240  3254240       0                 0   \n",
            "3923  FluencyBank   230     153  9292160  9340160       0                 0   \n",
            "2673  FluencyBank   118      41  8057120  8105120       0                 0   \n",
            "3802  FluencyBank   230      32  1199200  1247200       0                 0   \n",
            "\n",
            "      Prolongation  Block  SoundRep  WordRep  DifficultToUnderstand  \\\n",
            "747              0      0         0        0                      0   \n",
            "2597             0      0         0        0                      0   \n",
            "1503             0      0         1        2                      0   \n",
            "1900             2      0         0        1                      0   \n",
            "168              0      0         0        0                      0   \n",
            "1617             0      1         2        1                      0   \n",
            "1239             0      3         0        0                      0   \n",
            "3923             1      1         0        0                      0   \n",
            "2673             0      0         0        0                      1   \n",
            "3802             0      1         0        1                      0   \n",
            "\n",
            "      Interjection  NoStutteredWords  NaturalPause  Music  NoSpeech  \n",
            "747              0                 3             0      0         0  \n",
            "2597             0                 3             0      0         0  \n",
            "1503             3                 0             0      0         0  \n",
            "1900             2                 0             0      0         0  \n",
            "168              2                 3             1      0         0  \n",
            "1617             1                 0             0      0         0  \n",
            "1239             1                 0             0      0         0  \n",
            "3923             0                 1             0      0         0  \n",
            "2673             0                 3             0      0         0  \n",
            "3802             0                 2             2      0         0  \n",
            "(4144, 17)\n"
          ]
        }
      ],
      "source": [
        "import pandas as pd\n",
        "df = pd.read_csv('https://raw.githubusercontent.com/apple/ml-stuttering-events-dataset/main/fluencybank_labels.csv')\n",
        "print(df.sample(10)) \n",
        "\n",
        "print(df.shape) #dataset dimensions"
      ]
    },
    {
      "cell_type": "markdown",
      "source": [
        "**Display columns in the dataset**"
      ],
      "metadata": {
        "id": "0PFA8fAOBZs3"
      }
    },
    {
      "cell_type": "code",
      "source": [
        "for col in df.columns:\n",
        "    print(col)"
      ],
      "metadata": {
        "colab": {
          "base_uri": "https://localhost:8080/"
        },
        "id": "OXVbcIoN_5zu",
        "outputId": "95a1576e-86c2-4c62-ef30-82d4e54a16d2"
      },
      "execution_count": null,
      "outputs": [
        {
          "output_type": "stream",
          "name": "stdout",
          "text": [
            "Show\n",
            "EpId\n",
            "ClipId\n",
            "Start\n",
            "Stop\n",
            "Unsure\n",
            "PoorAudioQuality\n",
            "Prolongation\n",
            "Block\n",
            "SoundRep\n",
            "WordRep\n",
            "DifficultToUnderstand\n",
            "Interjection\n",
            "NoStutteredWords\n",
            "NaturalPause\n",
            "Music\n",
            "NoSpeech\n"
          ]
        }
      ]
    },
    {
      "cell_type": "markdown",
      "source": [
        "**Stuttering event labels:**\n",
        "\n",
        "- **Prolongation:** Elongated syllable (e.g., M[mmm]ommy)\n",
        "\n",
        "- **Block:** Gasps for air or stuttered pauses\n",
        "\n",
        "- **Sound Repetition:** Repeated syllables (e.g., I [pr-pr-pr-]prepared dinner)\n",
        "\n",
        "- **Word Repetition:** The same word or phrase is repeated (e.g., I made [made] dinner)\n",
        "\n",
        "- **No Stuttered Words:** Confirmation that none of the above is true.\n",
        "\n",
        "- **Interjection:** Common filler words such as \"um\" or \"uh\" or person-specific filler words that individuals use to cope with their stutter (e.g., some users frequently say \"you know\" as a filler).\n",
        "\n",
        "**Additional labels:**\n",
        "\n",
        "- **Unsure:** An annotator selects this if they are not confident in their labeling.\n",
        "\n",
        "- **Poor Audio Quality:** It is difficult to understand due to, for example, microphone quality.\n",
        "\n",
        "- **Difficult To Understand:** It is difficult to understand the speech.\n",
        "\n",
        "- **Natural Pause:** There is a pause in speech that is not considered a block or other disfluency.\n",
        "\n",
        "- **Music:** There is background music playing (only in SEP-28k)\n",
        "\n",
        "- **No Speech:** There is no speech in this clip. It is either silent or there is just background noise."
      ],
      "metadata": {
        "id": "Fzy_VnOlAK0-"
      }
    },
    {
      "cell_type": "markdown",
      "source": [
        "The variable `NoStutteredWords` is the confirmation for annotators that \n",
        "\n",
        "`Prolongation` AND `Block` AND `Sound Repetition` AND `Word Repetition` = FALSE \n",
        "\n",
        "(i.e) no stuttered words"
      ],
      "metadata": {
        "id": "W67cQHzFB-q_"
      }
    },
    {
      "cell_type": "code",
      "source": [
        "print(df['NoStutteredWords'].value_counts())"
      ],
      "metadata": {
        "colab": {
          "base_uri": "https://localhost:8080/"
        },
        "id": "5jNer4V8sDtL",
        "outputId": "2ffd255e-fb58-49c1-8c92-1405df910b4b"
      },
      "execution_count": null,
      "outputs": [
        {
          "output_type": "stream",
          "name": "stdout",
          "text": [
            "3    1438\n",
            "0    1270\n",
            "2     804\n",
            "1     632\n",
            "Name: NoStutteredWords, dtype: int64\n"
          ]
        }
      ]
    },
    {
      "cell_type": "code",
      "source": [
        "check_df = df[['Prolongation', 'Block', 'SoundRep', 'WordRep', 'NoStutteredWords']]\n",
        "check_df.sample(10)"
      ],
      "metadata": {
        "colab": {
          "base_uri": "https://localhost:8080/",
          "height": 363
        },
        "id": "ziBY2TLaDoqm",
        "outputId": "b3a511ee-0d0f-4e94-efd9-cab5d10640dc"
      },
      "execution_count": null,
      "outputs": [
        {
          "output_type": "execute_result",
          "data": {
            "text/plain": [
              "      Prolongation  Block  SoundRep  WordRep  NoStutteredWords\n",
              "3167             0      0         0        0                 3\n",
              "505              0      0         0        0                 3\n",
              "4026             0      1         0        3                 0\n",
              "1251             0      1         2        0                 0\n",
              "1686             0      0         0        0                 3\n",
              "766              0      0         0        0                 3\n",
              "252              0      1         0        0                 2\n",
              "3566             0      0         2        1                 0\n",
              "2212             0      1         2        0                 0\n",
              "1370             0      0         0        3                 0"
            ],
            "text/html": [
              "\n",
              "  <div id=\"df-2d767c16-c62c-4849-896c-e1bb1081ad15\">\n",
              "    <div class=\"colab-df-container\">\n",
              "      <div>\n",
              "<style scoped>\n",
              "    .dataframe tbody tr th:only-of-type {\n",
              "        vertical-align: middle;\n",
              "    }\n",
              "\n",
              "    .dataframe tbody tr th {\n",
              "        vertical-align: top;\n",
              "    }\n",
              "\n",
              "    .dataframe thead th {\n",
              "        text-align: right;\n",
              "    }\n",
              "</style>\n",
              "<table border=\"1\" class=\"dataframe\">\n",
              "  <thead>\n",
              "    <tr style=\"text-align: right;\">\n",
              "      <th></th>\n",
              "      <th>Prolongation</th>\n",
              "      <th>Block</th>\n",
              "      <th>SoundRep</th>\n",
              "      <th>WordRep</th>\n",
              "      <th>NoStutteredWords</th>\n",
              "    </tr>\n",
              "  </thead>\n",
              "  <tbody>\n",
              "    <tr>\n",
              "      <th>3167</th>\n",
              "      <td>0</td>\n",
              "      <td>0</td>\n",
              "      <td>0</td>\n",
              "      <td>0</td>\n",
              "      <td>3</td>\n",
              "    </tr>\n",
              "    <tr>\n",
              "      <th>505</th>\n",
              "      <td>0</td>\n",
              "      <td>0</td>\n",
              "      <td>0</td>\n",
              "      <td>0</td>\n",
              "      <td>3</td>\n",
              "    </tr>\n",
              "    <tr>\n",
              "      <th>4026</th>\n",
              "      <td>0</td>\n",
              "      <td>1</td>\n",
              "      <td>0</td>\n",
              "      <td>3</td>\n",
              "      <td>0</td>\n",
              "    </tr>\n",
              "    <tr>\n",
              "      <th>1251</th>\n",
              "      <td>0</td>\n",
              "      <td>1</td>\n",
              "      <td>2</td>\n",
              "      <td>0</td>\n",
              "      <td>0</td>\n",
              "    </tr>\n",
              "    <tr>\n",
              "      <th>1686</th>\n",
              "      <td>0</td>\n",
              "      <td>0</td>\n",
              "      <td>0</td>\n",
              "      <td>0</td>\n",
              "      <td>3</td>\n",
              "    </tr>\n",
              "    <tr>\n",
              "      <th>766</th>\n",
              "      <td>0</td>\n",
              "      <td>0</td>\n",
              "      <td>0</td>\n",
              "      <td>0</td>\n",
              "      <td>3</td>\n",
              "    </tr>\n",
              "    <tr>\n",
              "      <th>252</th>\n",
              "      <td>0</td>\n",
              "      <td>1</td>\n",
              "      <td>0</td>\n",
              "      <td>0</td>\n",
              "      <td>2</td>\n",
              "    </tr>\n",
              "    <tr>\n",
              "      <th>3566</th>\n",
              "      <td>0</td>\n",
              "      <td>0</td>\n",
              "      <td>2</td>\n",
              "      <td>1</td>\n",
              "      <td>0</td>\n",
              "    </tr>\n",
              "    <tr>\n",
              "      <th>2212</th>\n",
              "      <td>0</td>\n",
              "      <td>1</td>\n",
              "      <td>2</td>\n",
              "      <td>0</td>\n",
              "      <td>0</td>\n",
              "    </tr>\n",
              "    <tr>\n",
              "      <th>1370</th>\n",
              "      <td>0</td>\n",
              "      <td>0</td>\n",
              "      <td>0</td>\n",
              "      <td>3</td>\n",
              "      <td>0</td>\n",
              "    </tr>\n",
              "  </tbody>\n",
              "</table>\n",
              "</div>\n",
              "      <button class=\"colab-df-convert\" onclick=\"convertToInteractive('df-2d767c16-c62c-4849-896c-e1bb1081ad15')\"\n",
              "              title=\"Convert this dataframe to an interactive table.\"\n",
              "              style=\"display:none;\">\n",
              "        \n",
              "  <svg xmlns=\"http://www.w3.org/2000/svg\" height=\"24px\"viewBox=\"0 0 24 24\"\n",
              "       width=\"24px\">\n",
              "    <path d=\"M0 0h24v24H0V0z\" fill=\"none\"/>\n",
              "    <path d=\"M18.56 5.44l.94 2.06.94-2.06 2.06-.94-2.06-.94-.94-2.06-.94 2.06-2.06.94zm-11 1L8.5 8.5l.94-2.06 2.06-.94-2.06-.94L8.5 2.5l-.94 2.06-2.06.94zm10 10l.94 2.06.94-2.06 2.06-.94-2.06-.94-.94-2.06-.94 2.06-2.06.94z\"/><path d=\"M17.41 7.96l-1.37-1.37c-.4-.4-.92-.59-1.43-.59-.52 0-1.04.2-1.43.59L10.3 9.45l-7.72 7.72c-.78.78-.78 2.05 0 2.83L4 21.41c.39.39.9.59 1.41.59.51 0 1.02-.2 1.41-.59l7.78-7.78 2.81-2.81c.8-.78.8-2.07 0-2.86zM5.41 20L4 18.59l7.72-7.72 1.47 1.35L5.41 20z\"/>\n",
              "  </svg>\n",
              "      </button>\n",
              "      \n",
              "  <style>\n",
              "    .colab-df-container {\n",
              "      display:flex;\n",
              "      flex-wrap:wrap;\n",
              "      gap: 12px;\n",
              "    }\n",
              "\n",
              "    .colab-df-convert {\n",
              "      background-color: #E8F0FE;\n",
              "      border: none;\n",
              "      border-radius: 50%;\n",
              "      cursor: pointer;\n",
              "      display: none;\n",
              "      fill: #1967D2;\n",
              "      height: 32px;\n",
              "      padding: 0 0 0 0;\n",
              "      width: 32px;\n",
              "    }\n",
              "\n",
              "    .colab-df-convert:hover {\n",
              "      background-color: #E2EBFA;\n",
              "      box-shadow: 0px 1px 2px rgba(60, 64, 67, 0.3), 0px 1px 3px 1px rgba(60, 64, 67, 0.15);\n",
              "      fill: #174EA6;\n",
              "    }\n",
              "\n",
              "    [theme=dark] .colab-df-convert {\n",
              "      background-color: #3B4455;\n",
              "      fill: #D2E3FC;\n",
              "    }\n",
              "\n",
              "    [theme=dark] .colab-df-convert:hover {\n",
              "      background-color: #434B5C;\n",
              "      box-shadow: 0px 1px 3px 1px rgba(0, 0, 0, 0.15);\n",
              "      filter: drop-shadow(0px 1px 2px rgba(0, 0, 0, 0.3));\n",
              "      fill: #FFFFFF;\n",
              "    }\n",
              "  </style>\n",
              "\n",
              "      <script>\n",
              "        const buttonEl =\n",
              "          document.querySelector('#df-2d767c16-c62c-4849-896c-e1bb1081ad15 button.colab-df-convert');\n",
              "        buttonEl.style.display =\n",
              "          google.colab.kernel.accessAllowed ? 'block' : 'none';\n",
              "\n",
              "        async function convertToInteractive(key) {\n",
              "          const element = document.querySelector('#df-2d767c16-c62c-4849-896c-e1bb1081ad15');\n",
              "          const dataTable =\n",
              "            await google.colab.kernel.invokeFunction('convertToInteractive',\n",
              "                                                     [key], {});\n",
              "          if (!dataTable) return;\n",
              "\n",
              "          const docLinkHtml = 'Like what you see? Visit the ' +\n",
              "            '<a target=\"_blank\" href=https://colab.research.google.com/notebooks/data_table.ipynb>data table notebook</a>'\n",
              "            + ' to learn more about interactive tables.';\n",
              "          element.innerHTML = '';\n",
              "          dataTable['output_type'] = 'display_data';\n",
              "          await google.colab.output.renderOutput(dataTable, element);\n",
              "          const docLink = document.createElement('div');\n",
              "          docLink.innerHTML = docLinkHtml;\n",
              "          element.appendChild(docLink);\n",
              "        }\n",
              "      </script>\n",
              "    </div>\n",
              "  </div>\n",
              "  "
            ]
          },
          "metadata": {},
          "execution_count": 4
        }
      ]
    },
    {
      "cell_type": "code",
      "source": [
        "print(check_df[(check_df['NoStutteredWords'] == 3)])"
      ],
      "metadata": {
        "colab": {
          "base_uri": "https://localhost:8080/"
        },
        "id": "77YZR0OSEmRV",
        "outputId": "dc0e87c4-cfb0-4033-e5db-87a2b20f1717"
      },
      "execution_count": null,
      "outputs": [
        {
          "output_type": "stream",
          "name": "stdout",
          "text": [
            "      Prolongation  Block  SoundRep  WordRep  NoStutteredWords\n",
            "1                0      0         0        0                 3\n",
            "5                0      0         0        0                 3\n",
            "6                0      0         0        0                 3\n",
            "8                0      0         0        0                 3\n",
            "9                0      0         0        0                 3\n",
            "...            ...    ...       ...      ...               ...\n",
            "4125             0      0         0        0                 3\n",
            "4126             0      0         0        0                 3\n",
            "4129             0      0         0        0                 3\n",
            "4135             0      0         0        0                 3\n",
            "4143             0      0         0        0                 3\n",
            "\n",
            "[1438 rows x 5 columns]\n"
          ]
        }
      ]
    },
    {
      "cell_type": "markdown",
      "source": [
        "There are **1438** reliable data points of individuals who **did not stammer**."
      ],
      "metadata": {
        "id": "FT-wabo9DTbE"
      }
    },
    {
      "cell_type": "code",
      "source": [
        "print(check_df[(check_df['NoStutteredWords'] == 0)])"
      ],
      "metadata": {
        "colab": {
          "base_uri": "https://localhost:8080/"
        },
        "id": "2eQXLqVYFdfY",
        "outputId": "284f3e66-ffa4-4f92-898b-e805d5835be7"
      },
      "execution_count": null,
      "outputs": [
        {
          "output_type": "stream",
          "name": "stdout",
          "text": [
            "      Prolongation  Block  SoundRep  WordRep  NoStutteredWords\n",
            "4                0      0         0        3                 0\n",
            "38               1      2         0        0                 0\n",
            "75               0      3         0        1                 0\n",
            "79               0      1         0        3                 0\n",
            "82               0      1         1        2                 0\n",
            "...            ...    ...       ...      ...               ...\n",
            "4137             1      2         1        1                 0\n",
            "4138             1      2         2        0                 0\n",
            "4140             0      2         1        0                 0\n",
            "4141             0      2         2        1                 0\n",
            "4142             0      0         3        0                 0\n",
            "\n",
            "[1270 rows x 5 columns]\n"
          ]
        }
      ]
    },
    {
      "cell_type": "markdown",
      "source": [
        "There are **1270** reliable detection of individuals who displayed at least one characteristic of **stammering**."
      ],
      "metadata": {
        "id": "eAFFzfqmFtTo"
      }
    },
    {
      "cell_type": "code",
      "source": [
        "print(df['Unsure'].value_counts())"
      ],
      "metadata": {
        "colab": {
          "base_uri": "https://localhost:8080/"
        },
        "id": "oyiWd4QkrlXg",
        "outputId": "776668c2-eafe-42c8-c0aa-14b9b6d9ee5d"
      },
      "execution_count": null,
      "outputs": [
        {
          "output_type": "stream",
          "name": "stdout",
          "text": [
            "0    3935\n",
            "1     194\n",
            "2      13\n",
            "3       2\n",
            "Name: Unsure, dtype: int64\n"
          ]
        }
      ]
    },
    {
      "cell_type": "markdown",
      "source": [
        "We will only keep the most reliable data points for further analysis."
      ],
      "metadata": {
        "id": "iIgL3vLbGRpm"
      }
    },
    {
      "cell_type": "markdown",
      "source": [
        "**DATA WRANGLING**"
      ],
      "metadata": {
        "id": "8KEu5oNVGZUN"
      }
    },
    {
      "cell_type": "code",
      "source": [
        "new_df = df.loc[(df['NoStutteredWords'] == 0) | (df['NoStutteredWords'] == 3)]\n",
        "new_df.sample(10)"
      ],
      "metadata": {
        "colab": {
          "base_uri": "https://localhost:8080/",
          "height": 407
        },
        "id": "qQriKRiNGtgd",
        "outputId": "92888da6-8f57-40b7-e146-76182b075fa1"
      },
      "execution_count": null,
      "outputs": [
        {
          "output_type": "execute_result",
          "data": {
            "text/plain": [
              "             Show  EpId  ClipId     Start      Stop  Unsure  PoorAudioQuality  \\\n",
              "3023  FluencyBank   147      35   4734720   4782720       1                 0   \n",
              "132   FluencyBank    16      32   2974080   3022080       0                 0   \n",
              "2528  FluencyBank   111      61    491840    539840       0                 0   \n",
              "2993  FluencyBank   147       5   2305440   2353440       0                 0   \n",
              "3178  FluencyBank   178       3   7266880   7314880       0                 0   \n",
              "1144  FluencyBank    76      72  10931200  10979200       0                 0   \n",
              "2863  FluencyBank   121     118   6727680   6775680       0                 0   \n",
              "2638  FluencyBank   118       6   6728480   6776480       0                 0   \n",
              "1530  FluencyBank    89      79   7007200   7055200       0                 0   \n",
              "3720  FluencyBank   219      76   8299520   8347520       0                 0   \n",
              "\n",
              "      Prolongation  Block  SoundRep  WordRep  DifficultToUnderstand  \\\n",
              "3023             0      1         0        1                      1   \n",
              "132              1      2         2        0                      0   \n",
              "2528             0      0         0        0                      0   \n",
              "2993             2      1         0        0                      0   \n",
              "3178             0      0         0        0                      0   \n",
              "1144             2      1         0        1                      0   \n",
              "2863             0      0         0        0                      0   \n",
              "2638             0      0         0        0                      0   \n",
              "1530             1      0         3        0                      0   \n",
              "3720             0      0         0        0                      0   \n",
              "\n",
              "      Interjection  NoStutteredWords  NaturalPause  Music  NoSpeech  \n",
              "3023             0                 0             1      0         0  \n",
              "132              0                 0             0      0         0  \n",
              "2528             0                 3             1      0         0  \n",
              "2993             1                 0             0      0         0  \n",
              "3178             1                 3             0      0         0  \n",
              "1144             2                 0             0      0         0  \n",
              "2863             1                 3             1      0         0  \n",
              "2638             0                 3             0      0         0  \n",
              "1530             1                 0             0      0         0  \n",
              "3720             0                 3             1      0         0  "
            ],
            "text/html": [
              "\n",
              "  <div id=\"df-d4f0f377-789a-402a-a7c8-cb0bf8ef0e29\">\n",
              "    <div class=\"colab-df-container\">\n",
              "      <div>\n",
              "<style scoped>\n",
              "    .dataframe tbody tr th:only-of-type {\n",
              "        vertical-align: middle;\n",
              "    }\n",
              "\n",
              "    .dataframe tbody tr th {\n",
              "        vertical-align: top;\n",
              "    }\n",
              "\n",
              "    .dataframe thead th {\n",
              "        text-align: right;\n",
              "    }\n",
              "</style>\n",
              "<table border=\"1\" class=\"dataframe\">\n",
              "  <thead>\n",
              "    <tr style=\"text-align: right;\">\n",
              "      <th></th>\n",
              "      <th>Show</th>\n",
              "      <th>EpId</th>\n",
              "      <th>ClipId</th>\n",
              "      <th>Start</th>\n",
              "      <th>Stop</th>\n",
              "      <th>Unsure</th>\n",
              "      <th>PoorAudioQuality</th>\n",
              "      <th>Prolongation</th>\n",
              "      <th>Block</th>\n",
              "      <th>SoundRep</th>\n",
              "      <th>WordRep</th>\n",
              "      <th>DifficultToUnderstand</th>\n",
              "      <th>Interjection</th>\n",
              "      <th>NoStutteredWords</th>\n",
              "      <th>NaturalPause</th>\n",
              "      <th>Music</th>\n",
              "      <th>NoSpeech</th>\n",
              "    </tr>\n",
              "  </thead>\n",
              "  <tbody>\n",
              "    <tr>\n",
              "      <th>3023</th>\n",
              "      <td>FluencyBank</td>\n",
              "      <td>147</td>\n",
              "      <td>35</td>\n",
              "      <td>4734720</td>\n",
              "      <td>4782720</td>\n",
              "      <td>1</td>\n",
              "      <td>0</td>\n",
              "      <td>0</td>\n",
              "      <td>1</td>\n",
              "      <td>0</td>\n",
              "      <td>1</td>\n",
              "      <td>1</td>\n",
              "      <td>0</td>\n",
              "      <td>0</td>\n",
              "      <td>1</td>\n",
              "      <td>0</td>\n",
              "      <td>0</td>\n",
              "    </tr>\n",
              "    <tr>\n",
              "      <th>132</th>\n",
              "      <td>FluencyBank</td>\n",
              "      <td>16</td>\n",
              "      <td>32</td>\n",
              "      <td>2974080</td>\n",
              "      <td>3022080</td>\n",
              "      <td>0</td>\n",
              "      <td>0</td>\n",
              "      <td>1</td>\n",
              "      <td>2</td>\n",
              "      <td>2</td>\n",
              "      <td>0</td>\n",
              "      <td>0</td>\n",
              "      <td>0</td>\n",
              "      <td>0</td>\n",
              "      <td>0</td>\n",
              "      <td>0</td>\n",
              "      <td>0</td>\n",
              "    </tr>\n",
              "    <tr>\n",
              "      <th>2528</th>\n",
              "      <td>FluencyBank</td>\n",
              "      <td>111</td>\n",
              "      <td>61</td>\n",
              "      <td>491840</td>\n",
              "      <td>539840</td>\n",
              "      <td>0</td>\n",
              "      <td>0</td>\n",
              "      <td>0</td>\n",
              "      <td>0</td>\n",
              "      <td>0</td>\n",
              "      <td>0</td>\n",
              "      <td>0</td>\n",
              "      <td>0</td>\n",
              "      <td>3</td>\n",
              "      <td>1</td>\n",
              "      <td>0</td>\n",
              "      <td>0</td>\n",
              "    </tr>\n",
              "    <tr>\n",
              "      <th>2993</th>\n",
              "      <td>FluencyBank</td>\n",
              "      <td>147</td>\n",
              "      <td>5</td>\n",
              "      <td>2305440</td>\n",
              "      <td>2353440</td>\n",
              "      <td>0</td>\n",
              "      <td>0</td>\n",
              "      <td>2</td>\n",
              "      <td>1</td>\n",
              "      <td>0</td>\n",
              "      <td>0</td>\n",
              "      <td>0</td>\n",
              "      <td>1</td>\n",
              "      <td>0</td>\n",
              "      <td>0</td>\n",
              "      <td>0</td>\n",
              "      <td>0</td>\n",
              "    </tr>\n",
              "    <tr>\n",
              "      <th>3178</th>\n",
              "      <td>FluencyBank</td>\n",
              "      <td>178</td>\n",
              "      <td>3</td>\n",
              "      <td>7266880</td>\n",
              "      <td>7314880</td>\n",
              "      <td>0</td>\n",
              "      <td>0</td>\n",
              "      <td>0</td>\n",
              "      <td>0</td>\n",
              "      <td>0</td>\n",
              "      <td>0</td>\n",
              "      <td>0</td>\n",
              "      <td>1</td>\n",
              "      <td>3</td>\n",
              "      <td>0</td>\n",
              "      <td>0</td>\n",
              "      <td>0</td>\n",
              "    </tr>\n",
              "    <tr>\n",
              "      <th>1144</th>\n",
              "      <td>FluencyBank</td>\n",
              "      <td>76</td>\n",
              "      <td>72</td>\n",
              "      <td>10931200</td>\n",
              "      <td>10979200</td>\n",
              "      <td>0</td>\n",
              "      <td>0</td>\n",
              "      <td>2</td>\n",
              "      <td>1</td>\n",
              "      <td>0</td>\n",
              "      <td>1</td>\n",
              "      <td>0</td>\n",
              "      <td>2</td>\n",
              "      <td>0</td>\n",
              "      <td>0</td>\n",
              "      <td>0</td>\n",
              "      <td>0</td>\n",
              "    </tr>\n",
              "    <tr>\n",
              "      <th>2863</th>\n",
              "      <td>FluencyBank</td>\n",
              "      <td>121</td>\n",
              "      <td>118</td>\n",
              "      <td>6727680</td>\n",
              "      <td>6775680</td>\n",
              "      <td>0</td>\n",
              "      <td>0</td>\n",
              "      <td>0</td>\n",
              "      <td>0</td>\n",
              "      <td>0</td>\n",
              "      <td>0</td>\n",
              "      <td>0</td>\n",
              "      <td>1</td>\n",
              "      <td>3</td>\n",
              "      <td>1</td>\n",
              "      <td>0</td>\n",
              "      <td>0</td>\n",
              "    </tr>\n",
              "    <tr>\n",
              "      <th>2638</th>\n",
              "      <td>FluencyBank</td>\n",
              "      <td>118</td>\n",
              "      <td>6</td>\n",
              "      <td>6728480</td>\n",
              "      <td>6776480</td>\n",
              "      <td>0</td>\n",
              "      <td>0</td>\n",
              "      <td>0</td>\n",
              "      <td>0</td>\n",
              "      <td>0</td>\n",
              "      <td>0</td>\n",
              "      <td>0</td>\n",
              "      <td>0</td>\n",
              "      <td>3</td>\n",
              "      <td>0</td>\n",
              "      <td>0</td>\n",
              "      <td>0</td>\n",
              "    </tr>\n",
              "    <tr>\n",
              "      <th>1530</th>\n",
              "      <td>FluencyBank</td>\n",
              "      <td>89</td>\n",
              "      <td>79</td>\n",
              "      <td>7007200</td>\n",
              "      <td>7055200</td>\n",
              "      <td>0</td>\n",
              "      <td>0</td>\n",
              "      <td>1</td>\n",
              "      <td>0</td>\n",
              "      <td>3</td>\n",
              "      <td>0</td>\n",
              "      <td>0</td>\n",
              "      <td>1</td>\n",
              "      <td>0</td>\n",
              "      <td>0</td>\n",
              "      <td>0</td>\n",
              "      <td>0</td>\n",
              "    </tr>\n",
              "    <tr>\n",
              "      <th>3720</th>\n",
              "      <td>FluencyBank</td>\n",
              "      <td>219</td>\n",
              "      <td>76</td>\n",
              "      <td>8299520</td>\n",
              "      <td>8347520</td>\n",
              "      <td>0</td>\n",
              "      <td>0</td>\n",
              "      <td>0</td>\n",
              "      <td>0</td>\n",
              "      <td>0</td>\n",
              "      <td>0</td>\n",
              "      <td>0</td>\n",
              "      <td>0</td>\n",
              "      <td>3</td>\n",
              "      <td>1</td>\n",
              "      <td>0</td>\n",
              "      <td>0</td>\n",
              "    </tr>\n",
              "  </tbody>\n",
              "</table>\n",
              "</div>\n",
              "      <button class=\"colab-df-convert\" onclick=\"convertToInteractive('df-d4f0f377-789a-402a-a7c8-cb0bf8ef0e29')\"\n",
              "              title=\"Convert this dataframe to an interactive table.\"\n",
              "              style=\"display:none;\">\n",
              "        \n",
              "  <svg xmlns=\"http://www.w3.org/2000/svg\" height=\"24px\"viewBox=\"0 0 24 24\"\n",
              "       width=\"24px\">\n",
              "    <path d=\"M0 0h24v24H0V0z\" fill=\"none\"/>\n",
              "    <path d=\"M18.56 5.44l.94 2.06.94-2.06 2.06-.94-2.06-.94-.94-2.06-.94 2.06-2.06.94zm-11 1L8.5 8.5l.94-2.06 2.06-.94-2.06-.94L8.5 2.5l-.94 2.06-2.06.94zm10 10l.94 2.06.94-2.06 2.06-.94-2.06-.94-.94-2.06-.94 2.06-2.06.94z\"/><path d=\"M17.41 7.96l-1.37-1.37c-.4-.4-.92-.59-1.43-.59-.52 0-1.04.2-1.43.59L10.3 9.45l-7.72 7.72c-.78.78-.78 2.05 0 2.83L4 21.41c.39.39.9.59 1.41.59.51 0 1.02-.2 1.41-.59l7.78-7.78 2.81-2.81c.8-.78.8-2.07 0-2.86zM5.41 20L4 18.59l7.72-7.72 1.47 1.35L5.41 20z\"/>\n",
              "  </svg>\n",
              "      </button>\n",
              "      \n",
              "  <style>\n",
              "    .colab-df-container {\n",
              "      display:flex;\n",
              "      flex-wrap:wrap;\n",
              "      gap: 12px;\n",
              "    }\n",
              "\n",
              "    .colab-df-convert {\n",
              "      background-color: #E8F0FE;\n",
              "      border: none;\n",
              "      border-radius: 50%;\n",
              "      cursor: pointer;\n",
              "      display: none;\n",
              "      fill: #1967D2;\n",
              "      height: 32px;\n",
              "      padding: 0 0 0 0;\n",
              "      width: 32px;\n",
              "    }\n",
              "\n",
              "    .colab-df-convert:hover {\n",
              "      background-color: #E2EBFA;\n",
              "      box-shadow: 0px 1px 2px rgba(60, 64, 67, 0.3), 0px 1px 3px 1px rgba(60, 64, 67, 0.15);\n",
              "      fill: #174EA6;\n",
              "    }\n",
              "\n",
              "    [theme=dark] .colab-df-convert {\n",
              "      background-color: #3B4455;\n",
              "      fill: #D2E3FC;\n",
              "    }\n",
              "\n",
              "    [theme=dark] .colab-df-convert:hover {\n",
              "      background-color: #434B5C;\n",
              "      box-shadow: 0px 1px 3px 1px rgba(0, 0, 0, 0.15);\n",
              "      filter: drop-shadow(0px 1px 2px rgba(0, 0, 0, 0.3));\n",
              "      fill: #FFFFFF;\n",
              "    }\n",
              "  </style>\n",
              "\n",
              "      <script>\n",
              "        const buttonEl =\n",
              "          document.querySelector('#df-d4f0f377-789a-402a-a7c8-cb0bf8ef0e29 button.colab-df-convert');\n",
              "        buttonEl.style.display =\n",
              "          google.colab.kernel.accessAllowed ? 'block' : 'none';\n",
              "\n",
              "        async function convertToInteractive(key) {\n",
              "          const element = document.querySelector('#df-d4f0f377-789a-402a-a7c8-cb0bf8ef0e29');\n",
              "          const dataTable =\n",
              "            await google.colab.kernel.invokeFunction('convertToInteractive',\n",
              "                                                     [key], {});\n",
              "          if (!dataTable) return;\n",
              "\n",
              "          const docLinkHtml = 'Like what you see? Visit the ' +\n",
              "            '<a target=\"_blank\" href=https://colab.research.google.com/notebooks/data_table.ipynb>data table notebook</a>'\n",
              "            + ' to learn more about interactive tables.';\n",
              "          element.innerHTML = '';\n",
              "          dataTable['output_type'] = 'display_data';\n",
              "          await google.colab.output.renderOutput(dataTable, element);\n",
              "          const docLink = document.createElement('div');\n",
              "          docLink.innerHTML = docLinkHtml;\n",
              "          element.appendChild(docLink);\n",
              "        }\n",
              "      </script>\n",
              "    </div>\n",
              "  </div>\n",
              "  "
            ]
          },
          "metadata": {},
          "execution_count": 8
        }
      ]
    },
    {
      "cell_type": "code",
      "source": [
        "print(new_df['NoStutteredWords'].value_counts())"
      ],
      "metadata": {
        "colab": {
          "base_uri": "https://localhost:8080/"
        },
        "id": "nIcSUv-dIrTT",
        "outputId": "9769a9f4-56af-4c79-8905-134aefa4b726"
      },
      "execution_count": null,
      "outputs": [
        {
          "output_type": "stream",
          "name": "stdout",
          "text": [
            "3    1438\n",
            "0    1270\n",
            "Name: NoStutteredWords, dtype: int64\n"
          ]
        }
      ]
    },
    {
      "cell_type": "code",
      "source": [
        "print(new_df.shape) #dataset dimensions\n",
        "#1438 (reliable no stuttering data points) + 1270 (reliable stuttering data points) = 2708"
      ],
      "metadata": {
        "colab": {
          "base_uri": "https://localhost:8080/"
        },
        "id": "WI3QJGqAIxC-",
        "outputId": "5dfbd721-aaf1-4ff5-ac1c-9d12ce1a2107"
      },
      "execution_count": null,
      "outputs": [
        {
          "output_type": "stream",
          "name": "stdout",
          "text": [
            "(2708, 17)\n"
          ]
        }
      ]
    },
    {
      "cell_type": "markdown",
      "source": [
        "**Deleting unnecessary features**\n",
        "\n",
        "\n"
      ],
      "metadata": {
        "id": "08E62CpkKYcO"
      }
    },
    {
      "cell_type": "markdown",
      "source": [
        "`Show` feature:"
      ],
      "metadata": {
        "id": "NDSqUZPKMjk1"
      }
    },
    {
      "cell_type": "code",
      "source": [
        "print(new_df['Show'].unique())"
      ],
      "metadata": {
        "colab": {
          "base_uri": "https://localhost:8080/"
        },
        "id": "T8IJVbyYK1TI",
        "outputId": "f2da7de7-a977-4f72-f9d2-c4408ba7a316"
      },
      "execution_count": null,
      "outputs": [
        {
          "output_type": "stream",
          "name": "stdout",
          "text": [
            "['FluencyBank']\n"
          ]
        }
      ]
    },
    {
      "cell_type": "markdown",
      "source": [
        "We can delete this column as it does not hold any meaningful information."
      ],
      "metadata": {
        "id": "73LFKR_xK5jj"
      }
    },
    {
      "cell_type": "code",
      "source": [
        "del new_df['Show']"
      ],
      "metadata": {
        "id": "ONXpH6h_MUYr"
      },
      "execution_count": null,
      "outputs": []
    },
    {
      "cell_type": "markdown",
      "source": [
        "`Music` feature:"
      ],
      "metadata": {
        "id": "6ywzFzjVMojW"
      }
    },
    {
      "cell_type": "code",
      "source": [
        "print(new_df['Music'].value_counts())"
      ],
      "metadata": {
        "colab": {
          "base_uri": "https://localhost:8080/"
        },
        "id": "GiQOloCeL9XL",
        "outputId": "d4063d86-754f-4c31-85ab-e5680d91d405"
      },
      "execution_count": null,
      "outputs": [
        {
          "output_type": "stream",
          "name": "stdout",
          "text": [
            "0    2708\n",
            "Name: Music, dtype: int64\n"
          ]
        }
      ]
    },
    {
      "cell_type": "markdown",
      "source": [
        "There are no entries in the dataset containing music and not speech. So, we can delete this column."
      ],
      "metadata": {
        "id": "dk73nE8wMFB7"
      }
    },
    {
      "cell_type": "code",
      "source": [
        "del new_df['Music']"
      ],
      "metadata": {
        "id": "lRB7D7XvMe08"
      },
      "execution_count": null,
      "outputs": []
    },
    {
      "cell_type": "markdown",
      "source": [
        "`NoSpeech` feature:"
      ],
      "metadata": {
        "id": "JFeO4ceBNWIm"
      }
    },
    {
      "cell_type": "code",
      "source": [
        "print(new_df['NoSpeech'].value_counts())"
      ],
      "metadata": {
        "colab": {
          "base_uri": "https://localhost:8080/"
        },
        "id": "gJ4XJ3XfMvS7",
        "outputId": "149928ca-6cc8-48fd-8a5f-a9601663f888"
      },
      "execution_count": null,
      "outputs": [
        {
          "output_type": "stream",
          "name": "stdout",
          "text": [
            "0    2708\n",
            "Name: NoSpeech, dtype: int64\n"
          ]
        }
      ]
    },
    {
      "cell_type": "markdown",
      "source": [
        "All entries in this dataset contain speech. So, we can delete this column as well."
      ],
      "metadata": {
        "id": "VW6grRjsM5Wm"
      }
    },
    {
      "cell_type": "code",
      "source": [
        "del new_df['NoSpeech']"
      ],
      "metadata": {
        "id": "ydweduhaNgbv"
      },
      "execution_count": null,
      "outputs": []
    },
    {
      "cell_type": "code",
      "source": [
        "new_df.sample(10)"
      ],
      "metadata": {
        "colab": {
          "base_uri": "https://localhost:8080/",
          "height": 363
        },
        "id": "8Yvlh8TxNlHv",
        "outputId": "d28c10fc-298e-43b8-b6d4-9d8ee3d0ba22"
      },
      "execution_count": null,
      "outputs": [
        {
          "output_type": "execute_result",
          "data": {
            "text/plain": [
              "      EpId  ClipId     Start      Stop  Unsure  PoorAudioQuality  \\\n",
              "3812   230      42   1608160   1656160       0                 0   \n",
              "3296   178     121   5027680   5075680       0                 0   \n",
              "3720   219      76   8299520   8347520       0                 0   \n",
              "1429    87      96   8722560   8770560       0                 0   \n",
              "643     31      76    665440    713440       0                 0   \n",
              "1580    89     129  10025120  10073120       0                 0   \n",
              "3578   218      22   2200800   2248800       0                 0   \n",
              "531     24     161   9252480   9300480       0                 0   \n",
              "2594   111     127   7386880   7434880       0                 0   \n",
              "1933    97     155   9248000   9296000       0                 0   \n",
              "\n",
              "      Prolongation  Block  SoundRep  WordRep  DifficultToUnderstand  \\\n",
              "3812             0      0         0        0                      0   \n",
              "3296             0      0         0        0                      0   \n",
              "3720             0      0         0        0                      0   \n",
              "1429             0      0         0        0                      0   \n",
              "643              2      0         1        0                      0   \n",
              "1580             0      0         0        3                      0   \n",
              "3578             2      0         0        2                      0   \n",
              "531              0      0         0        3                      0   \n",
              "2594             0      0         0        0                      0   \n",
              "1933             3      2         1        0                      1   \n",
              "\n",
              "      Interjection  NoStutteredWords  NaturalPause  \n",
              "3812             0                 3             1  \n",
              "3296             3                 3             0  \n",
              "3720             0                 3             1  \n",
              "1429             0                 3             0  \n",
              "643              1                 0             0  \n",
              "1580             0                 0             1  \n",
              "3578             2                 0             1  \n",
              "531              0                 0             0  \n",
              "2594             0                 3             0  \n",
              "1933             0                 0             0  "
            ],
            "text/html": [
              "\n",
              "  <div id=\"df-0df4b8a6-9aaa-458e-b3b0-ab2bdde955ab\">\n",
              "    <div class=\"colab-df-container\">\n",
              "      <div>\n",
              "<style scoped>\n",
              "    .dataframe tbody tr th:only-of-type {\n",
              "        vertical-align: middle;\n",
              "    }\n",
              "\n",
              "    .dataframe tbody tr th {\n",
              "        vertical-align: top;\n",
              "    }\n",
              "\n",
              "    .dataframe thead th {\n",
              "        text-align: right;\n",
              "    }\n",
              "</style>\n",
              "<table border=\"1\" class=\"dataframe\">\n",
              "  <thead>\n",
              "    <tr style=\"text-align: right;\">\n",
              "      <th></th>\n",
              "      <th>EpId</th>\n",
              "      <th>ClipId</th>\n",
              "      <th>Start</th>\n",
              "      <th>Stop</th>\n",
              "      <th>Unsure</th>\n",
              "      <th>PoorAudioQuality</th>\n",
              "      <th>Prolongation</th>\n",
              "      <th>Block</th>\n",
              "      <th>SoundRep</th>\n",
              "      <th>WordRep</th>\n",
              "      <th>DifficultToUnderstand</th>\n",
              "      <th>Interjection</th>\n",
              "      <th>NoStutteredWords</th>\n",
              "      <th>NaturalPause</th>\n",
              "    </tr>\n",
              "  </thead>\n",
              "  <tbody>\n",
              "    <tr>\n",
              "      <th>3812</th>\n",
              "      <td>230</td>\n",
              "      <td>42</td>\n",
              "      <td>1608160</td>\n",
              "      <td>1656160</td>\n",
              "      <td>0</td>\n",
              "      <td>0</td>\n",
              "      <td>0</td>\n",
              "      <td>0</td>\n",
              "      <td>0</td>\n",
              "      <td>0</td>\n",
              "      <td>0</td>\n",
              "      <td>0</td>\n",
              "      <td>3</td>\n",
              "      <td>1</td>\n",
              "    </tr>\n",
              "    <tr>\n",
              "      <th>3296</th>\n",
              "      <td>178</td>\n",
              "      <td>121</td>\n",
              "      <td>5027680</td>\n",
              "      <td>5075680</td>\n",
              "      <td>0</td>\n",
              "      <td>0</td>\n",
              "      <td>0</td>\n",
              "      <td>0</td>\n",
              "      <td>0</td>\n",
              "      <td>0</td>\n",
              "      <td>0</td>\n",
              "      <td>3</td>\n",
              "      <td>3</td>\n",
              "      <td>0</td>\n",
              "    </tr>\n",
              "    <tr>\n",
              "      <th>3720</th>\n",
              "      <td>219</td>\n",
              "      <td>76</td>\n",
              "      <td>8299520</td>\n",
              "      <td>8347520</td>\n",
              "      <td>0</td>\n",
              "      <td>0</td>\n",
              "      <td>0</td>\n",
              "      <td>0</td>\n",
              "      <td>0</td>\n",
              "      <td>0</td>\n",
              "      <td>0</td>\n",
              "      <td>0</td>\n",
              "      <td>3</td>\n",
              "      <td>1</td>\n",
              "    </tr>\n",
              "    <tr>\n",
              "      <th>1429</th>\n",
              "      <td>87</td>\n",
              "      <td>96</td>\n",
              "      <td>8722560</td>\n",
              "      <td>8770560</td>\n",
              "      <td>0</td>\n",
              "      <td>0</td>\n",
              "      <td>0</td>\n",
              "      <td>0</td>\n",
              "      <td>0</td>\n",
              "      <td>0</td>\n",
              "      <td>0</td>\n",
              "      <td>0</td>\n",
              "      <td>3</td>\n",
              "      <td>0</td>\n",
              "    </tr>\n",
              "    <tr>\n",
              "      <th>643</th>\n",
              "      <td>31</td>\n",
              "      <td>76</td>\n",
              "      <td>665440</td>\n",
              "      <td>713440</td>\n",
              "      <td>0</td>\n",
              "      <td>0</td>\n",
              "      <td>2</td>\n",
              "      <td>0</td>\n",
              "      <td>1</td>\n",
              "      <td>0</td>\n",
              "      <td>0</td>\n",
              "      <td>1</td>\n",
              "      <td>0</td>\n",
              "      <td>0</td>\n",
              "    </tr>\n",
              "    <tr>\n",
              "      <th>1580</th>\n",
              "      <td>89</td>\n",
              "      <td>129</td>\n",
              "      <td>10025120</td>\n",
              "      <td>10073120</td>\n",
              "      <td>0</td>\n",
              "      <td>0</td>\n",
              "      <td>0</td>\n",
              "      <td>0</td>\n",
              "      <td>0</td>\n",
              "      <td>3</td>\n",
              "      <td>0</td>\n",
              "      <td>0</td>\n",
              "      <td>0</td>\n",
              "      <td>1</td>\n",
              "    </tr>\n",
              "    <tr>\n",
              "      <th>3578</th>\n",
              "      <td>218</td>\n",
              "      <td>22</td>\n",
              "      <td>2200800</td>\n",
              "      <td>2248800</td>\n",
              "      <td>0</td>\n",
              "      <td>0</td>\n",
              "      <td>2</td>\n",
              "      <td>0</td>\n",
              "      <td>0</td>\n",
              "      <td>2</td>\n",
              "      <td>0</td>\n",
              "      <td>2</td>\n",
              "      <td>0</td>\n",
              "      <td>1</td>\n",
              "    </tr>\n",
              "    <tr>\n",
              "      <th>531</th>\n",
              "      <td>24</td>\n",
              "      <td>161</td>\n",
              "      <td>9252480</td>\n",
              "      <td>9300480</td>\n",
              "      <td>0</td>\n",
              "      <td>0</td>\n",
              "      <td>0</td>\n",
              "      <td>0</td>\n",
              "      <td>0</td>\n",
              "      <td>3</td>\n",
              "      <td>0</td>\n",
              "      <td>0</td>\n",
              "      <td>0</td>\n",
              "      <td>0</td>\n",
              "    </tr>\n",
              "    <tr>\n",
              "      <th>2594</th>\n",
              "      <td>111</td>\n",
              "      <td>127</td>\n",
              "      <td>7386880</td>\n",
              "      <td>7434880</td>\n",
              "      <td>0</td>\n",
              "      <td>0</td>\n",
              "      <td>0</td>\n",
              "      <td>0</td>\n",
              "      <td>0</td>\n",
              "      <td>0</td>\n",
              "      <td>0</td>\n",
              "      <td>0</td>\n",
              "      <td>3</td>\n",
              "      <td>0</td>\n",
              "    </tr>\n",
              "    <tr>\n",
              "      <th>1933</th>\n",
              "      <td>97</td>\n",
              "      <td>155</td>\n",
              "      <td>9248000</td>\n",
              "      <td>9296000</td>\n",
              "      <td>0</td>\n",
              "      <td>0</td>\n",
              "      <td>3</td>\n",
              "      <td>2</td>\n",
              "      <td>1</td>\n",
              "      <td>0</td>\n",
              "      <td>1</td>\n",
              "      <td>0</td>\n",
              "      <td>0</td>\n",
              "      <td>0</td>\n",
              "    </tr>\n",
              "  </tbody>\n",
              "</table>\n",
              "</div>\n",
              "      <button class=\"colab-df-convert\" onclick=\"convertToInteractive('df-0df4b8a6-9aaa-458e-b3b0-ab2bdde955ab')\"\n",
              "              title=\"Convert this dataframe to an interactive table.\"\n",
              "              style=\"display:none;\">\n",
              "        \n",
              "  <svg xmlns=\"http://www.w3.org/2000/svg\" height=\"24px\"viewBox=\"0 0 24 24\"\n",
              "       width=\"24px\">\n",
              "    <path d=\"M0 0h24v24H0V0z\" fill=\"none\"/>\n",
              "    <path d=\"M18.56 5.44l.94 2.06.94-2.06 2.06-.94-2.06-.94-.94-2.06-.94 2.06-2.06.94zm-11 1L8.5 8.5l.94-2.06 2.06-.94-2.06-.94L8.5 2.5l-.94 2.06-2.06.94zm10 10l.94 2.06.94-2.06 2.06-.94-2.06-.94-.94-2.06-.94 2.06-2.06.94z\"/><path d=\"M17.41 7.96l-1.37-1.37c-.4-.4-.92-.59-1.43-.59-.52 0-1.04.2-1.43.59L10.3 9.45l-7.72 7.72c-.78.78-.78 2.05 0 2.83L4 21.41c.39.39.9.59 1.41.59.51 0 1.02-.2 1.41-.59l7.78-7.78 2.81-2.81c.8-.78.8-2.07 0-2.86zM5.41 20L4 18.59l7.72-7.72 1.47 1.35L5.41 20z\"/>\n",
              "  </svg>\n",
              "      </button>\n",
              "      \n",
              "  <style>\n",
              "    .colab-df-container {\n",
              "      display:flex;\n",
              "      flex-wrap:wrap;\n",
              "      gap: 12px;\n",
              "    }\n",
              "\n",
              "    .colab-df-convert {\n",
              "      background-color: #E8F0FE;\n",
              "      border: none;\n",
              "      border-radius: 50%;\n",
              "      cursor: pointer;\n",
              "      display: none;\n",
              "      fill: #1967D2;\n",
              "      height: 32px;\n",
              "      padding: 0 0 0 0;\n",
              "      width: 32px;\n",
              "    }\n",
              "\n",
              "    .colab-df-convert:hover {\n",
              "      background-color: #E2EBFA;\n",
              "      box-shadow: 0px 1px 2px rgba(60, 64, 67, 0.3), 0px 1px 3px 1px rgba(60, 64, 67, 0.15);\n",
              "      fill: #174EA6;\n",
              "    }\n",
              "\n",
              "    [theme=dark] .colab-df-convert {\n",
              "      background-color: #3B4455;\n",
              "      fill: #D2E3FC;\n",
              "    }\n",
              "\n",
              "    [theme=dark] .colab-df-convert:hover {\n",
              "      background-color: #434B5C;\n",
              "      box-shadow: 0px 1px 3px 1px rgba(0, 0, 0, 0.15);\n",
              "      filter: drop-shadow(0px 1px 2px rgba(0, 0, 0, 0.3));\n",
              "      fill: #FFFFFF;\n",
              "    }\n",
              "  </style>\n",
              "\n",
              "      <script>\n",
              "        const buttonEl =\n",
              "          document.querySelector('#df-0df4b8a6-9aaa-458e-b3b0-ab2bdde955ab button.colab-df-convert');\n",
              "        buttonEl.style.display =\n",
              "          google.colab.kernel.accessAllowed ? 'block' : 'none';\n",
              "\n",
              "        async function convertToInteractive(key) {\n",
              "          const element = document.querySelector('#df-0df4b8a6-9aaa-458e-b3b0-ab2bdde955ab');\n",
              "          const dataTable =\n",
              "            await google.colab.kernel.invokeFunction('convertToInteractive',\n",
              "                                                     [key], {});\n",
              "          if (!dataTable) return;\n",
              "\n",
              "          const docLinkHtml = 'Like what you see? Visit the ' +\n",
              "            '<a target=\"_blank\" href=https://colab.research.google.com/notebooks/data_table.ipynb>data table notebook</a>'\n",
              "            + ' to learn more about interactive tables.';\n",
              "          element.innerHTML = '';\n",
              "          dataTable['output_type'] = 'display_data';\n",
              "          await google.colab.output.renderOutput(dataTable, element);\n",
              "          const docLink = document.createElement('div');\n",
              "          docLink.innerHTML = docLinkHtml;\n",
              "          element.appendChild(docLink);\n",
              "        }\n",
              "      </script>\n",
              "    </div>\n",
              "  </div>\n",
              "  "
            ]
          },
          "metadata": {},
          "execution_count": 17
        }
      ]
    },
    {
      "cell_type": "markdown",
      "source": [
        "The features `Poor Audio Quality` (difficulty in understanding due to, for example, microphone quality) & `Difficult To Understand` (difficulty in understanding speech of the individual)"
      ],
      "metadata": {
        "id": "1_CRZ7C0OFDt"
      }
    },
    {
      "cell_type": "code",
      "source": [
        "print(new_df['PoorAudioQuality'].value_counts())"
      ],
      "metadata": {
        "colab": {
          "base_uri": "https://localhost:8080/"
        },
        "id": "zdMMsO7rOk8l",
        "outputId": "b2b8cf48-db2b-4fa5-c0d8-7720c46c2c35"
      },
      "execution_count": null,
      "outputs": [
        {
          "output_type": "stream",
          "name": "stdout",
          "text": [
            "0    2708\n",
            "Name: PoorAudioQuality, dtype: int64\n"
          ]
        }
      ]
    },
    {
      "cell_type": "markdown",
      "source": [
        "All entries in this dataset contain good-quality audio data. So, we can delete this column as well."
      ],
      "metadata": {
        "id": "8y1tvwcEOxEW"
      }
    },
    {
      "cell_type": "code",
      "source": [
        "del new_df['PoorAudioQuality']"
      ],
      "metadata": {
        "id": "rHDbDCQpO4U-"
      },
      "execution_count": null,
      "outputs": []
    },
    {
      "cell_type": "code",
      "source": [
        "new_df.sample(10)"
      ],
      "metadata": {
        "colab": {
          "base_uri": "https://localhost:8080/",
          "height": 363
        },
        "id": "Sls_hkE7O84Y",
        "outputId": "85fd2a7e-4a08-4a45-e24c-74c97fd1530a"
      },
      "execution_count": null,
      "outputs": [
        {
          "output_type": "execute_result",
          "data": {
            "text/plain": [
              "      EpId  ClipId     Start      Stop  Unsure  Prolongation  Block  SoundRep  \\\n",
              "2020    98      49   4981120   5029120       0             0      1         1   \n",
              "3593   218      37    183840    231840       0             0      0         0   \n",
              "3612   218      56   3743200   3791200       0             0      0         3   \n",
              "670     46      21   2415680   2463680       0             0      2         2   \n",
              "2688   118      56   8814880   8862880       0             1      2         0   \n",
              "1427    87      94   8640320   8688320       0             0      0         0   \n",
              "3640   218      84    731680    779680       0             0      0         0   \n",
              "1574    89     123   9630080   9678080       0             1      0         0   \n",
              "2803   121      58   3566560   3614560       0             0      2         1   \n",
              "1791    97      13  12429760  12477760       0             1      1         2   \n",
              "\n",
              "      WordRep  DifficultToUnderstand  Interjection  NoStutteredWords  \\\n",
              "2020        1                      0             1                 0   \n",
              "3593        0                      0             0                 3   \n",
              "3612        0                      0             3                 0   \n",
              "670         0                      0             0                 0   \n",
              "2688        0                      0             0                 0   \n",
              "1427        0                      0             1                 3   \n",
              "3640        0                      0             2                 3   \n",
              "1574        0                      0             2                 3   \n",
              "2803        1                      0             0                 0   \n",
              "1791        0                      1             1                 0   \n",
              "\n",
              "      NaturalPause  \n",
              "2020             0  \n",
              "3593             0  \n",
              "3612             0  \n",
              "670              0  \n",
              "2688             0  \n",
              "1427             0  \n",
              "3640             0  \n",
              "1574             0  \n",
              "2803             0  \n",
              "1791             0  "
            ],
            "text/html": [
              "\n",
              "  <div id=\"df-513bc785-5545-4891-b8be-ba6a95d47fda\">\n",
              "    <div class=\"colab-df-container\">\n",
              "      <div>\n",
              "<style scoped>\n",
              "    .dataframe tbody tr th:only-of-type {\n",
              "        vertical-align: middle;\n",
              "    }\n",
              "\n",
              "    .dataframe tbody tr th {\n",
              "        vertical-align: top;\n",
              "    }\n",
              "\n",
              "    .dataframe thead th {\n",
              "        text-align: right;\n",
              "    }\n",
              "</style>\n",
              "<table border=\"1\" class=\"dataframe\">\n",
              "  <thead>\n",
              "    <tr style=\"text-align: right;\">\n",
              "      <th></th>\n",
              "      <th>EpId</th>\n",
              "      <th>ClipId</th>\n",
              "      <th>Start</th>\n",
              "      <th>Stop</th>\n",
              "      <th>Unsure</th>\n",
              "      <th>Prolongation</th>\n",
              "      <th>Block</th>\n",
              "      <th>SoundRep</th>\n",
              "      <th>WordRep</th>\n",
              "      <th>DifficultToUnderstand</th>\n",
              "      <th>Interjection</th>\n",
              "      <th>NoStutteredWords</th>\n",
              "      <th>NaturalPause</th>\n",
              "    </tr>\n",
              "  </thead>\n",
              "  <tbody>\n",
              "    <tr>\n",
              "      <th>2020</th>\n",
              "      <td>98</td>\n",
              "      <td>49</td>\n",
              "      <td>4981120</td>\n",
              "      <td>5029120</td>\n",
              "      <td>0</td>\n",
              "      <td>0</td>\n",
              "      <td>1</td>\n",
              "      <td>1</td>\n",
              "      <td>1</td>\n",
              "      <td>0</td>\n",
              "      <td>1</td>\n",
              "      <td>0</td>\n",
              "      <td>0</td>\n",
              "    </tr>\n",
              "    <tr>\n",
              "      <th>3593</th>\n",
              "      <td>218</td>\n",
              "      <td>37</td>\n",
              "      <td>183840</td>\n",
              "      <td>231840</td>\n",
              "      <td>0</td>\n",
              "      <td>0</td>\n",
              "      <td>0</td>\n",
              "      <td>0</td>\n",
              "      <td>0</td>\n",
              "      <td>0</td>\n",
              "      <td>0</td>\n",
              "      <td>3</td>\n",
              "      <td>0</td>\n",
              "    </tr>\n",
              "    <tr>\n",
              "      <th>3612</th>\n",
              "      <td>218</td>\n",
              "      <td>56</td>\n",
              "      <td>3743200</td>\n",
              "      <td>3791200</td>\n",
              "      <td>0</td>\n",
              "      <td>0</td>\n",
              "      <td>0</td>\n",
              "      <td>3</td>\n",
              "      <td>0</td>\n",
              "      <td>0</td>\n",
              "      <td>3</td>\n",
              "      <td>0</td>\n",
              "      <td>0</td>\n",
              "    </tr>\n",
              "    <tr>\n",
              "      <th>670</th>\n",
              "      <td>46</td>\n",
              "      <td>21</td>\n",
              "      <td>2415680</td>\n",
              "      <td>2463680</td>\n",
              "      <td>0</td>\n",
              "      <td>0</td>\n",
              "      <td>2</td>\n",
              "      <td>2</td>\n",
              "      <td>0</td>\n",
              "      <td>0</td>\n",
              "      <td>0</td>\n",
              "      <td>0</td>\n",
              "      <td>0</td>\n",
              "    </tr>\n",
              "    <tr>\n",
              "      <th>2688</th>\n",
              "      <td>118</td>\n",
              "      <td>56</td>\n",
              "      <td>8814880</td>\n",
              "      <td>8862880</td>\n",
              "      <td>0</td>\n",
              "      <td>1</td>\n",
              "      <td>2</td>\n",
              "      <td>0</td>\n",
              "      <td>0</td>\n",
              "      <td>0</td>\n",
              "      <td>0</td>\n",
              "      <td>0</td>\n",
              "      <td>0</td>\n",
              "    </tr>\n",
              "    <tr>\n",
              "      <th>1427</th>\n",
              "      <td>87</td>\n",
              "      <td>94</td>\n",
              "      <td>8640320</td>\n",
              "      <td>8688320</td>\n",
              "      <td>0</td>\n",
              "      <td>0</td>\n",
              "      <td>0</td>\n",
              "      <td>0</td>\n",
              "      <td>0</td>\n",
              "      <td>0</td>\n",
              "      <td>1</td>\n",
              "      <td>3</td>\n",
              "      <td>0</td>\n",
              "    </tr>\n",
              "    <tr>\n",
              "      <th>3640</th>\n",
              "      <td>218</td>\n",
              "      <td>84</td>\n",
              "      <td>731680</td>\n",
              "      <td>779680</td>\n",
              "      <td>0</td>\n",
              "      <td>0</td>\n",
              "      <td>0</td>\n",
              "      <td>0</td>\n",
              "      <td>0</td>\n",
              "      <td>0</td>\n",
              "      <td>2</td>\n",
              "      <td>3</td>\n",
              "      <td>0</td>\n",
              "    </tr>\n",
              "    <tr>\n",
              "      <th>1574</th>\n",
              "      <td>89</td>\n",
              "      <td>123</td>\n",
              "      <td>9630080</td>\n",
              "      <td>9678080</td>\n",
              "      <td>0</td>\n",
              "      <td>1</td>\n",
              "      <td>0</td>\n",
              "      <td>0</td>\n",
              "      <td>0</td>\n",
              "      <td>0</td>\n",
              "      <td>2</td>\n",
              "      <td>3</td>\n",
              "      <td>0</td>\n",
              "    </tr>\n",
              "    <tr>\n",
              "      <th>2803</th>\n",
              "      <td>121</td>\n",
              "      <td>58</td>\n",
              "      <td>3566560</td>\n",
              "      <td>3614560</td>\n",
              "      <td>0</td>\n",
              "      <td>0</td>\n",
              "      <td>2</td>\n",
              "      <td>1</td>\n",
              "      <td>1</td>\n",
              "      <td>0</td>\n",
              "      <td>0</td>\n",
              "      <td>0</td>\n",
              "      <td>0</td>\n",
              "    </tr>\n",
              "    <tr>\n",
              "      <th>1791</th>\n",
              "      <td>97</td>\n",
              "      <td>13</td>\n",
              "      <td>12429760</td>\n",
              "      <td>12477760</td>\n",
              "      <td>0</td>\n",
              "      <td>1</td>\n",
              "      <td>1</td>\n",
              "      <td>2</td>\n",
              "      <td>0</td>\n",
              "      <td>1</td>\n",
              "      <td>1</td>\n",
              "      <td>0</td>\n",
              "      <td>0</td>\n",
              "    </tr>\n",
              "  </tbody>\n",
              "</table>\n",
              "</div>\n",
              "      <button class=\"colab-df-convert\" onclick=\"convertToInteractive('df-513bc785-5545-4891-b8be-ba6a95d47fda')\"\n",
              "              title=\"Convert this dataframe to an interactive table.\"\n",
              "              style=\"display:none;\">\n",
              "        \n",
              "  <svg xmlns=\"http://www.w3.org/2000/svg\" height=\"24px\"viewBox=\"0 0 24 24\"\n",
              "       width=\"24px\">\n",
              "    <path d=\"M0 0h24v24H0V0z\" fill=\"none\"/>\n",
              "    <path d=\"M18.56 5.44l.94 2.06.94-2.06 2.06-.94-2.06-.94-.94-2.06-.94 2.06-2.06.94zm-11 1L8.5 8.5l.94-2.06 2.06-.94-2.06-.94L8.5 2.5l-.94 2.06-2.06.94zm10 10l.94 2.06.94-2.06 2.06-.94-2.06-.94-.94-2.06-.94 2.06-2.06.94z\"/><path d=\"M17.41 7.96l-1.37-1.37c-.4-.4-.92-.59-1.43-.59-.52 0-1.04.2-1.43.59L10.3 9.45l-7.72 7.72c-.78.78-.78 2.05 0 2.83L4 21.41c.39.39.9.59 1.41.59.51 0 1.02-.2 1.41-.59l7.78-7.78 2.81-2.81c.8-.78.8-2.07 0-2.86zM5.41 20L4 18.59l7.72-7.72 1.47 1.35L5.41 20z\"/>\n",
              "  </svg>\n",
              "      </button>\n",
              "      \n",
              "  <style>\n",
              "    .colab-df-container {\n",
              "      display:flex;\n",
              "      flex-wrap:wrap;\n",
              "      gap: 12px;\n",
              "    }\n",
              "\n",
              "    .colab-df-convert {\n",
              "      background-color: #E8F0FE;\n",
              "      border: none;\n",
              "      border-radius: 50%;\n",
              "      cursor: pointer;\n",
              "      display: none;\n",
              "      fill: #1967D2;\n",
              "      height: 32px;\n",
              "      padding: 0 0 0 0;\n",
              "      width: 32px;\n",
              "    }\n",
              "\n",
              "    .colab-df-convert:hover {\n",
              "      background-color: #E2EBFA;\n",
              "      box-shadow: 0px 1px 2px rgba(60, 64, 67, 0.3), 0px 1px 3px 1px rgba(60, 64, 67, 0.15);\n",
              "      fill: #174EA6;\n",
              "    }\n",
              "\n",
              "    [theme=dark] .colab-df-convert {\n",
              "      background-color: #3B4455;\n",
              "      fill: #D2E3FC;\n",
              "    }\n",
              "\n",
              "    [theme=dark] .colab-df-convert:hover {\n",
              "      background-color: #434B5C;\n",
              "      box-shadow: 0px 1px 3px 1px rgba(0, 0, 0, 0.15);\n",
              "      filter: drop-shadow(0px 1px 2px rgba(0, 0, 0, 0.3));\n",
              "      fill: #FFFFFF;\n",
              "    }\n",
              "  </style>\n",
              "\n",
              "      <script>\n",
              "        const buttonEl =\n",
              "          document.querySelector('#df-513bc785-5545-4891-b8be-ba6a95d47fda button.colab-df-convert');\n",
              "        buttonEl.style.display =\n",
              "          google.colab.kernel.accessAllowed ? 'block' : 'none';\n",
              "\n",
              "        async function convertToInteractive(key) {\n",
              "          const element = document.querySelector('#df-513bc785-5545-4891-b8be-ba6a95d47fda');\n",
              "          const dataTable =\n",
              "            await google.colab.kernel.invokeFunction('convertToInteractive',\n",
              "                                                     [key], {});\n",
              "          if (!dataTable) return;\n",
              "\n",
              "          const docLinkHtml = 'Like what you see? Visit the ' +\n",
              "            '<a target=\"_blank\" href=https://colab.research.google.com/notebooks/data_table.ipynb>data table notebook</a>'\n",
              "            + ' to learn more about interactive tables.';\n",
              "          element.innerHTML = '';\n",
              "          dataTable['output_type'] = 'display_data';\n",
              "          await google.colab.output.renderOutput(dataTable, element);\n",
              "          const docLink = document.createElement('div');\n",
              "          docLink.innerHTML = docLinkHtml;\n",
              "          element.appendChild(docLink);\n",
              "        }\n",
              "      </script>\n",
              "    </div>\n",
              "  </div>\n",
              "  "
            ]
          },
          "metadata": {},
          "execution_count": 20
        }
      ]
    },
    {
      "cell_type": "code",
      "source": [
        "print(new_df['DifficultToUnderstand'].value_counts())"
      ],
      "metadata": {
        "colab": {
          "base_uri": "https://localhost:8080/"
        },
        "id": "O2PeTpg1QG1D",
        "outputId": "797c1271-5a91-43a6-c16d-9f09cfc65848"
      },
      "execution_count": null,
      "outputs": [
        {
          "output_type": "stream",
          "name": "stdout",
          "text": [
            "0    2445\n",
            "1     195\n",
            "2      62\n",
            "3       6\n",
            "Name: DifficultToUnderstand, dtype: int64\n"
          ]
        }
      ]
    },
    {
      "cell_type": "code",
      "source": [
        "new_df.loc[(new_df['DifficultToUnderstand'] == 0) & (new_df['NoStutteredWords'] == 3)]"
      ],
      "metadata": {
        "colab": {
          "base_uri": "https://localhost:8080/",
          "height": 423
        },
        "id": "d5_A-qS7P75p",
        "outputId": "13d1c583-c867-417a-8ce1-cba0c7cca96a"
      },
      "execution_count": null,
      "outputs": [
        {
          "output_type": "execute_result",
          "data": {
            "text/plain": [
              "      EpId  ClipId     Start      Stop  Unsure  Prolongation  Block  SoundRep  \\\n",
              "1       10       1   1271520   1319520       0             0      0         0   \n",
              "5       10       5   1919520   1967520       0             0      0         0   \n",
              "6       10       6   1982720   2030720       0             0      0         0   \n",
              "8       10       8   2047520   2095520       0             0      0         0   \n",
              "9       10       9   2070400   2118400       0             0      0         0   \n",
              "...    ...     ...       ...       ...     ...           ...    ...       ...   \n",
              "4117   985     169  12085280  12133280       0             0      0         0   \n",
              "4125   985     177   1550880   1598880       0             0      0         0   \n",
              "4126   985     178   1602400   1650400       0             0      0         0   \n",
              "4135   985     187  13271840  13319840       0             0      0         0   \n",
              "4143   985     195   1721440   1769440       0             0      0         0   \n",
              "\n",
              "      WordRep  DifficultToUnderstand  Interjection  NoStutteredWords  \\\n",
              "1           0                      0             0                 3   \n",
              "5           0                      0             0                 3   \n",
              "6           0                      0             0                 3   \n",
              "8           0                      0             0                 3   \n",
              "9           0                      0             0                 3   \n",
              "...       ...                    ...           ...               ...   \n",
              "4117        0                      0             0                 3   \n",
              "4125        0                      0             0                 3   \n",
              "4126        0                      0             0                 3   \n",
              "4135        0                      0             0                 3   \n",
              "4143        0                      0             3                 3   \n",
              "\n",
              "      NaturalPause  \n",
              "1                0  \n",
              "5                1  \n",
              "6                0  \n",
              "8                0  \n",
              "9                1  \n",
              "...            ...  \n",
              "4117             0  \n",
              "4125             0  \n",
              "4126             0  \n",
              "4135             0  \n",
              "4143             0  \n",
              "\n",
              "[1369 rows x 13 columns]"
            ],
            "text/html": [
              "\n",
              "  <div id=\"df-9ef2830f-0f8b-4e54-97bf-5003bb517268\">\n",
              "    <div class=\"colab-df-container\">\n",
              "      <div>\n",
              "<style scoped>\n",
              "    .dataframe tbody tr th:only-of-type {\n",
              "        vertical-align: middle;\n",
              "    }\n",
              "\n",
              "    .dataframe tbody tr th {\n",
              "        vertical-align: top;\n",
              "    }\n",
              "\n",
              "    .dataframe thead th {\n",
              "        text-align: right;\n",
              "    }\n",
              "</style>\n",
              "<table border=\"1\" class=\"dataframe\">\n",
              "  <thead>\n",
              "    <tr style=\"text-align: right;\">\n",
              "      <th></th>\n",
              "      <th>EpId</th>\n",
              "      <th>ClipId</th>\n",
              "      <th>Start</th>\n",
              "      <th>Stop</th>\n",
              "      <th>Unsure</th>\n",
              "      <th>Prolongation</th>\n",
              "      <th>Block</th>\n",
              "      <th>SoundRep</th>\n",
              "      <th>WordRep</th>\n",
              "      <th>DifficultToUnderstand</th>\n",
              "      <th>Interjection</th>\n",
              "      <th>NoStutteredWords</th>\n",
              "      <th>NaturalPause</th>\n",
              "    </tr>\n",
              "  </thead>\n",
              "  <tbody>\n",
              "    <tr>\n",
              "      <th>1</th>\n",
              "      <td>10</td>\n",
              "      <td>1</td>\n",
              "      <td>1271520</td>\n",
              "      <td>1319520</td>\n",
              "      <td>0</td>\n",
              "      <td>0</td>\n",
              "      <td>0</td>\n",
              "      <td>0</td>\n",
              "      <td>0</td>\n",
              "      <td>0</td>\n",
              "      <td>0</td>\n",
              "      <td>3</td>\n",
              "      <td>0</td>\n",
              "    </tr>\n",
              "    <tr>\n",
              "      <th>5</th>\n",
              "      <td>10</td>\n",
              "      <td>5</td>\n",
              "      <td>1919520</td>\n",
              "      <td>1967520</td>\n",
              "      <td>0</td>\n",
              "      <td>0</td>\n",
              "      <td>0</td>\n",
              "      <td>0</td>\n",
              "      <td>0</td>\n",
              "      <td>0</td>\n",
              "      <td>0</td>\n",
              "      <td>3</td>\n",
              "      <td>1</td>\n",
              "    </tr>\n",
              "    <tr>\n",
              "      <th>6</th>\n",
              "      <td>10</td>\n",
              "      <td>6</td>\n",
              "      <td>1982720</td>\n",
              "      <td>2030720</td>\n",
              "      <td>0</td>\n",
              "      <td>0</td>\n",
              "      <td>0</td>\n",
              "      <td>0</td>\n",
              "      <td>0</td>\n",
              "      <td>0</td>\n",
              "      <td>0</td>\n",
              "      <td>3</td>\n",
              "      <td>0</td>\n",
              "    </tr>\n",
              "    <tr>\n",
              "      <th>8</th>\n",
              "      <td>10</td>\n",
              "      <td>8</td>\n",
              "      <td>2047520</td>\n",
              "      <td>2095520</td>\n",
              "      <td>0</td>\n",
              "      <td>0</td>\n",
              "      <td>0</td>\n",
              "      <td>0</td>\n",
              "      <td>0</td>\n",
              "      <td>0</td>\n",
              "      <td>0</td>\n",
              "      <td>3</td>\n",
              "      <td>0</td>\n",
              "    </tr>\n",
              "    <tr>\n",
              "      <th>9</th>\n",
              "      <td>10</td>\n",
              "      <td>9</td>\n",
              "      <td>2070400</td>\n",
              "      <td>2118400</td>\n",
              "      <td>0</td>\n",
              "      <td>0</td>\n",
              "      <td>0</td>\n",
              "      <td>0</td>\n",
              "      <td>0</td>\n",
              "      <td>0</td>\n",
              "      <td>0</td>\n",
              "      <td>3</td>\n",
              "      <td>1</td>\n",
              "    </tr>\n",
              "    <tr>\n",
              "      <th>...</th>\n",
              "      <td>...</td>\n",
              "      <td>...</td>\n",
              "      <td>...</td>\n",
              "      <td>...</td>\n",
              "      <td>...</td>\n",
              "      <td>...</td>\n",
              "      <td>...</td>\n",
              "      <td>...</td>\n",
              "      <td>...</td>\n",
              "      <td>...</td>\n",
              "      <td>...</td>\n",
              "      <td>...</td>\n",
              "      <td>...</td>\n",
              "    </tr>\n",
              "    <tr>\n",
              "      <th>4117</th>\n",
              "      <td>985</td>\n",
              "      <td>169</td>\n",
              "      <td>12085280</td>\n",
              "      <td>12133280</td>\n",
              "      <td>0</td>\n",
              "      <td>0</td>\n",
              "      <td>0</td>\n",
              "      <td>0</td>\n",
              "      <td>0</td>\n",
              "      <td>0</td>\n",
              "      <td>0</td>\n",
              "      <td>3</td>\n",
              "      <td>0</td>\n",
              "    </tr>\n",
              "    <tr>\n",
              "      <th>4125</th>\n",
              "      <td>985</td>\n",
              "      <td>177</td>\n",
              "      <td>1550880</td>\n",
              "      <td>1598880</td>\n",
              "      <td>0</td>\n",
              "      <td>0</td>\n",
              "      <td>0</td>\n",
              "      <td>0</td>\n",
              "      <td>0</td>\n",
              "      <td>0</td>\n",
              "      <td>0</td>\n",
              "      <td>3</td>\n",
              "      <td>0</td>\n",
              "    </tr>\n",
              "    <tr>\n",
              "      <th>4126</th>\n",
              "      <td>985</td>\n",
              "      <td>178</td>\n",
              "      <td>1602400</td>\n",
              "      <td>1650400</td>\n",
              "      <td>0</td>\n",
              "      <td>0</td>\n",
              "      <td>0</td>\n",
              "      <td>0</td>\n",
              "      <td>0</td>\n",
              "      <td>0</td>\n",
              "      <td>0</td>\n",
              "      <td>3</td>\n",
              "      <td>0</td>\n",
              "    </tr>\n",
              "    <tr>\n",
              "      <th>4135</th>\n",
              "      <td>985</td>\n",
              "      <td>187</td>\n",
              "      <td>13271840</td>\n",
              "      <td>13319840</td>\n",
              "      <td>0</td>\n",
              "      <td>0</td>\n",
              "      <td>0</td>\n",
              "      <td>0</td>\n",
              "      <td>0</td>\n",
              "      <td>0</td>\n",
              "      <td>0</td>\n",
              "      <td>3</td>\n",
              "      <td>0</td>\n",
              "    </tr>\n",
              "    <tr>\n",
              "      <th>4143</th>\n",
              "      <td>985</td>\n",
              "      <td>195</td>\n",
              "      <td>1721440</td>\n",
              "      <td>1769440</td>\n",
              "      <td>0</td>\n",
              "      <td>0</td>\n",
              "      <td>0</td>\n",
              "      <td>0</td>\n",
              "      <td>0</td>\n",
              "      <td>0</td>\n",
              "      <td>3</td>\n",
              "      <td>3</td>\n",
              "      <td>0</td>\n",
              "    </tr>\n",
              "  </tbody>\n",
              "</table>\n",
              "<p>1369 rows × 13 columns</p>\n",
              "</div>\n",
              "      <button class=\"colab-df-convert\" onclick=\"convertToInteractive('df-9ef2830f-0f8b-4e54-97bf-5003bb517268')\"\n",
              "              title=\"Convert this dataframe to an interactive table.\"\n",
              "              style=\"display:none;\">\n",
              "        \n",
              "  <svg xmlns=\"http://www.w3.org/2000/svg\" height=\"24px\"viewBox=\"0 0 24 24\"\n",
              "       width=\"24px\">\n",
              "    <path d=\"M0 0h24v24H0V0z\" fill=\"none\"/>\n",
              "    <path d=\"M18.56 5.44l.94 2.06.94-2.06 2.06-.94-2.06-.94-.94-2.06-.94 2.06-2.06.94zm-11 1L8.5 8.5l.94-2.06 2.06-.94-2.06-.94L8.5 2.5l-.94 2.06-2.06.94zm10 10l.94 2.06.94-2.06 2.06-.94-2.06-.94-.94-2.06-.94 2.06-2.06.94z\"/><path d=\"M17.41 7.96l-1.37-1.37c-.4-.4-.92-.59-1.43-.59-.52 0-1.04.2-1.43.59L10.3 9.45l-7.72 7.72c-.78.78-.78 2.05 0 2.83L4 21.41c.39.39.9.59 1.41.59.51 0 1.02-.2 1.41-.59l7.78-7.78 2.81-2.81c.8-.78.8-2.07 0-2.86zM5.41 20L4 18.59l7.72-7.72 1.47 1.35L5.41 20z\"/>\n",
              "  </svg>\n",
              "      </button>\n",
              "      \n",
              "  <style>\n",
              "    .colab-df-container {\n",
              "      display:flex;\n",
              "      flex-wrap:wrap;\n",
              "      gap: 12px;\n",
              "    }\n",
              "\n",
              "    .colab-df-convert {\n",
              "      background-color: #E8F0FE;\n",
              "      border: none;\n",
              "      border-radius: 50%;\n",
              "      cursor: pointer;\n",
              "      display: none;\n",
              "      fill: #1967D2;\n",
              "      height: 32px;\n",
              "      padding: 0 0 0 0;\n",
              "      width: 32px;\n",
              "    }\n",
              "\n",
              "    .colab-df-convert:hover {\n",
              "      background-color: #E2EBFA;\n",
              "      box-shadow: 0px 1px 2px rgba(60, 64, 67, 0.3), 0px 1px 3px 1px rgba(60, 64, 67, 0.15);\n",
              "      fill: #174EA6;\n",
              "    }\n",
              "\n",
              "    [theme=dark] .colab-df-convert {\n",
              "      background-color: #3B4455;\n",
              "      fill: #D2E3FC;\n",
              "    }\n",
              "\n",
              "    [theme=dark] .colab-df-convert:hover {\n",
              "      background-color: #434B5C;\n",
              "      box-shadow: 0px 1px 3px 1px rgba(0, 0, 0, 0.15);\n",
              "      filter: drop-shadow(0px 1px 2px rgba(0, 0, 0, 0.3));\n",
              "      fill: #FFFFFF;\n",
              "    }\n",
              "  </style>\n",
              "\n",
              "      <script>\n",
              "        const buttonEl =\n",
              "          document.querySelector('#df-9ef2830f-0f8b-4e54-97bf-5003bb517268 button.colab-df-convert');\n",
              "        buttonEl.style.display =\n",
              "          google.colab.kernel.accessAllowed ? 'block' : 'none';\n",
              "\n",
              "        async function convertToInteractive(key) {\n",
              "          const element = document.querySelector('#df-9ef2830f-0f8b-4e54-97bf-5003bb517268');\n",
              "          const dataTable =\n",
              "            await google.colab.kernel.invokeFunction('convertToInteractive',\n",
              "                                                     [key], {});\n",
              "          if (!dataTable) return;\n",
              "\n",
              "          const docLinkHtml = 'Like what you see? Visit the ' +\n",
              "            '<a target=\"_blank\" href=https://colab.research.google.com/notebooks/data_table.ipynb>data table notebook</a>'\n",
              "            + ' to learn more about interactive tables.';\n",
              "          element.innerHTML = '';\n",
              "          dataTable['output_type'] = 'display_data';\n",
              "          await google.colab.output.renderOutput(dataTable, element);\n",
              "          const docLink = document.createElement('div');\n",
              "          docLink.innerHTML = docLinkHtml;\n",
              "          element.appendChild(docLink);\n",
              "        }\n",
              "      </script>\n",
              "    </div>\n",
              "  </div>\n",
              "  "
            ]
          },
          "metadata": {},
          "execution_count": 22
        }
      ]
    },
    {
      "cell_type": "markdown",
      "source": [
        "We can now delete `DifficultToUnderstand` feature."
      ],
      "metadata": {
        "id": "gCWedWllTaar"
      }
    },
    {
      "cell_type": "code",
      "source": [
        "del new_df['DifficultToUnderstand']"
      ],
      "metadata": {
        "id": "RC1jZdtvTiFP"
      },
      "execution_count": null,
      "outputs": []
    },
    {
      "cell_type": "code",
      "source": [
        "print(new_df.sample(10))"
      ],
      "metadata": {
        "colab": {
          "base_uri": "https://localhost:8080/"
        },
        "id": "e_E92Y9BTpjX",
        "outputId": "6ee0dd83-1a03-494e-abf6-4b5984f29ebc"
      },
      "execution_count": null,
      "outputs": [
        {
          "output_type": "stream",
          "name": "stdout",
          "text": [
            "      EpId  ClipId    Start     Stop  Unsure  Prolongation  Block  SoundRep  \\\n",
            "1447    87     114   987680  1035680       0             1      1         3   \n",
            "2672   118      40  7997280  8045280       0             2      0         2   \n",
            "1553    89     102  8022080  8070080       0             1      0         0   \n",
            "1879    97     101  5754240  5802240       0             0      2         1   \n",
            "901     63     125  8747520  8795520       1             0      2         0   \n",
            "2490   111      23  1720320  1768320       1             0      2         0   \n",
            "525     24     155  9086080  9134080       0             0      0         0   \n",
            "421     24      51  2792640  2840640       0             0      0         0   \n",
            "63      10      63  6858880  6906880       0             0      0         0   \n",
            "2350   107      65  4980480  5028480       0             0      0         0   \n",
            "\n",
            "      WordRep  Interjection  NoStutteredWords  NaturalPause  \n",
            "1447        0             2                 0             0  \n",
            "2672        1             1                 0             0  \n",
            "1553        3             3                 0             0  \n",
            "1879        0             0                 0             0  \n",
            "901         1             0                 0             0  \n",
            "2490        2             0                 0             0  \n",
            "525         0             3                 3             0  \n",
            "421         0             3                 3             0  \n",
            "63          0             0                 3             0  \n",
            "2350        0             3                 3             1  \n"
          ]
        }
      ]
    },
    {
      "cell_type": "markdown",
      "source": [
        "`Unsure` feature:"
      ],
      "metadata": {
        "id": "Xxx-SB1Aqfj8"
      }
    },
    {
      "cell_type": "code",
      "source": [
        "new_df['Unsure'].value_counts()"
      ],
      "metadata": {
        "colab": {
          "base_uri": "https://localhost:8080/"
        },
        "id": "KiJDBS1iqMZE",
        "outputId": "5c3a1ef8-3cbe-4ee0-e1ce-3bd00b0a97a0"
      },
      "execution_count": null,
      "outputs": [
        {
          "output_type": "execute_result",
          "data": {
            "text/plain": [
              "0    2622\n",
              "1      82\n",
              "2       3\n",
              "3       1\n",
              "Name: Unsure, dtype: int64"
            ]
          },
          "metadata": {},
          "execution_count": 25
        }
      ]
    },
    {
      "cell_type": "code",
      "source": [
        "new_df = new_df[new_df['Unsure'] == 0]\n",
        "print(new_df.sample(10))\n",
        "print(new_df.shape) #dataset dimensions"
      ],
      "metadata": {
        "colab": {
          "base_uri": "https://localhost:8080/"
        },
        "id": "4Vw-vBdzqvNq",
        "outputId": "245f99ae-4b4e-474e-bcca-e53bb7ad8427"
      },
      "execution_count": null,
      "outputs": [
        {
          "output_type": "stream",
          "name": "stdout",
          "text": [
            "      EpId  ClipId     Start      Stop  Unsure  Prolongation  Block  SoundRep  \\\n",
            "2696   118      64   9278880   9326880       0             2      1         0   \n",
            "1711    96      28   3013280   3061280       0             0      1         3   \n",
            "477     24     107   6015040   6063040       0             1      2         1   \n",
            "666     46      17     92000    140000       0             0      0         0   \n",
            "3716   219      72   7739360   7787360       0             0      0         3   \n",
            "3595   218      39   2955360   3003360       0             0      0         0   \n",
            "580     31      13   1823040   1871040       0             0      0         0   \n",
            "1159    76      87  12969120  13017120       0             0      0         0   \n",
            "2927   132      39   3868000   3916000       0             0      0         0   \n",
            "2110    99      11  13030400  13078400       0             0      0         0   \n",
            "\n",
            "      WordRep  Interjection  NoStutteredWords  NaturalPause  \n",
            "2696        0             0                 0             0  \n",
            "1711        0             1                 0             0  \n",
            "477         0             0                 0             0  \n",
            "666         0             0                 3             0  \n",
            "3716        1             0                 0             0  \n",
            "3595        0             3                 3             0  \n",
            "580         0             0                 3             0  \n",
            "1159        0             0                 3             0  \n",
            "2927        3             1                 0             0  \n",
            "2110        0             3                 3             1  \n",
            "(2622, 12)\n"
          ]
        }
      ]
    },
    {
      "cell_type": "markdown",
      "source": [
        "We retain `EpId`, `ClipId`, `Start` & `Stop` features for referencing purposes."
      ],
      "metadata": {
        "id": "gp65nqVMrlQr"
      }
    },
    {
      "cell_type": "markdown",
      "source": [
        "Converting the value '3' in `NoStutteredWords` into 1: \n",
        "\n",
        "*(Purely for intuitive understanding)*"
      ],
      "metadata": {
        "id": "z27MokJQtnCw"
      }
    },
    {
      "cell_type": "code",
      "source": [
        "new_df['NoStutteredWords'] = new_df['NoStutteredWords'].replace([3], 1)\n",
        "print(new_df.sample(10))"
      ],
      "metadata": {
        "colab": {
          "base_uri": "https://localhost:8080/"
        },
        "id": "Gs4KQWOnra7O",
        "outputId": "2b7fa6c6-6162-401c-835a-70c6da8a72d1"
      },
      "execution_count": null,
      "outputs": [
        {
          "output_type": "stream",
          "name": "stdout",
          "text": [
            "      EpId  ClipId     Start      Stop  Unsure  Prolongation  Block  SoundRep  \\\n",
            "1004    71      53   3294080   3342080       0             0      1         3   \n",
            "3938   230     168  10178400  10226400       0             0      0         0   \n",
            "1392    87      59   5829760   5877760       0             0      1         2   \n",
            "49      10      49   5997600   6045600       0             0      0         0   \n",
            "2480   111      13   1163680   1211680       0             0      0         0   \n",
            "1949    97     171  10508480  10556480       0             0      1         2   \n",
            "919     63     143  10204320  10252320       0             0      0         0   \n",
            "1761    96      78   5765600   5813600       0             1      1         1   \n",
            "413     24      43   2313600   2361600       0             0      0         0   \n",
            "1862    97      84   4785600   4833600       0             0      0         0   \n",
            "\n",
            "      WordRep  Interjection  NoStutteredWords  NaturalPause  \n",
            "1004        0             0                 0             0  \n",
            "3938        0             0                 1             0  \n",
            "1392        0             2                 0             0  \n",
            "49          0             3                 1             1  \n",
            "2480        0             0                 1             0  \n",
            "1949        0             0                 0             0  \n",
            "919         0             0                 1             1  \n",
            "1761        0             0                 0             0  \n",
            "413         0             3                 1             0  \n",
            "1862        0             0                 1             0  \n"
          ]
        }
      ]
    },
    {
      "cell_type": "markdown",
      "source": [
        "Let's create a new column `Stutter` that shows '1' is when stutter is detected & '0' when there is no stutter.\n",
        "\n",
        "*(Purely for intuitive understanding)*"
      ],
      "metadata": {
        "id": "jZCo98HduNoP"
      }
    },
    {
      "cell_type": "code",
      "source": [
        "import numpy as np\n",
        "new_df['Stutter'] = np.where(new_df['NoStutteredWords'] == 1, 0, 1)"
      ],
      "metadata": {
        "id": "GJAOQTjOuwFa"
      },
      "execution_count": null,
      "outputs": []
    },
    {
      "cell_type": "code",
      "source": [
        "print(new_df.sample(10))"
      ],
      "metadata": {
        "colab": {
          "base_uri": "https://localhost:8080/"
        },
        "id": "dlWu4Z3kv9d-",
        "outputId": "ec381141-7549-4745-8cae-a19c92561413"
      },
      "execution_count": null,
      "outputs": [
        {
          "output_type": "stream",
          "name": "stdout",
          "text": [
            "      EpId  ClipId     Start      Stop  Unsure  Prolongation  Block  SoundRep  \\\n",
            "1759    96      76   5568960   5616960       0             0      1         2   \n",
            "938     63     162  11004800  11052800       0             0      0         0   \n",
            "2539   111      72   4681600   4729600       0             0      0         0   \n",
            "3739   219      95   9650080   9698080       0             0      0         0   \n",
            "1130    76      58   1189280   1237280       0             0      1         2   \n",
            "2358   107      73   5462720   5510720       0             0      0         0   \n",
            "3379   179      33   3270080   3318080       0             0      0         0   \n",
            "659     46      10   1412320   1460320       0             0      0         0   \n",
            "2505   111      38   2279040   2327040       0             0      0         0   \n",
            "3255   178      80   3072000   3120000       0             0      0         0   \n",
            "\n",
            "      WordRep  Interjection  NoStutteredWords  NaturalPause  Stutter  \n",
            "1759        3             0                 0             0        1  \n",
            "938         0             0                 1             0        0  \n",
            "2539        0             2                 1             0        0  \n",
            "3739        0             0                 1             0        0  \n",
            "1130        2             1                 0             0        1  \n",
            "2358        0             3                 1             0        0  \n",
            "3379        0             1                 1             0        0  \n",
            "659         0             0                 1             0        0  \n",
            "2505        0             0                 1             0        0  \n",
            "3255        0             0                 1             2        0  \n"
          ]
        }
      ]
    },
    {
      "cell_type": "code",
      "source": [
        "final_df = new_df.filter(['Prolongation','Block','SoundRep','WordRep','Interjection','NaturalPause','Stutter'], axis=1)\n",
        "final_df['Prolongation'] = np.where(final_df['Prolongation'] != 0, 1, 0)\n",
        "final_df['Block'] = np.where(final_df['Block'] != 0, 1, 0)\n",
        "final_df['SoundRep'] = np.where(final_df['SoundRep'] != 0, 1, 0)\n",
        "final_df['WordRep'] = np.where(final_df['WordRep'] != 0, 1, 0)\n",
        "final_df['Interjection'] = np.where(final_df['Interjection'] != 0, 1, 0)\n",
        "final_df['NaturalPause'] = np.where(final_df['NaturalPause'] != 0, 1, 0)\n",
        "\n",
        "print(final_df.sample(10))\n",
        "print(final_df.shape)"
      ],
      "metadata": {
        "colab": {
          "base_uri": "https://localhost:8080/"
        },
        "id": "QBM3bDLswPpu",
        "outputId": "d7e9e766-1823-41f7-d059-e856afd57ad0"
      },
      "execution_count": null,
      "outputs": [
        {
          "output_type": "stream",
          "name": "stdout",
          "text": [
            "      Prolongation  Block  SoundRep  WordRep  Interjection  NaturalPause  \\\n",
            "288              0      1         1        1             1             1   \n",
            "3513             0      1         1        0             1             0   \n",
            "919              0      0         0        0             0             1   \n",
            "2247             0      0         0        0             1             0   \n",
            "2630             0      0         0        0             0             0   \n",
            "1986             0      0         0        0             0             0   \n",
            "1462             0      1         1        0             1             0   \n",
            "2740             0      0         0        0             0             0   \n",
            "1394             0      1         1        0             1             0   \n",
            "854              0      0         0        0             0             0   \n",
            "\n",
            "      Stutter  \n",
            "288         1  \n",
            "3513        1  \n",
            "919         0  \n",
            "2247        0  \n",
            "2630        0  \n",
            "1986        0  \n",
            "1462        1  \n",
            "2740        0  \n",
            "1394        1  \n",
            "854         0  \n",
            "(2622, 7)\n"
          ]
        }
      ]
    },
    {
      "cell_type": "markdown",
      "source": [
        "**Correlation Heat Map:** finding correlation between `Stutter` and its independent variables: \n",
        "\n",
        "`Prolongation`, `Block`, `SoundRep`, `WordRep`, `Interjection`, `NaturalPause`."
      ],
      "metadata": {
        "id": "_KpdWM5V9TKA"
      }
    },
    {
      "cell_type": "code",
      "source": [
        "final_df.columns = ['Prolongation','Block','SoundRep','WordRep','Interjection','NaturalPause','Stutter']\n",
        "\n",
        "# Correlation between different variables\n",
        "corr = final_df.corr()\n",
        "\n",
        "# Set up the matplotlib plot configuration\n",
        "import matplotlib.pyplot as plt\n",
        "f, ax = plt.subplots(figsize=(12, 10))\n",
        "\n",
        "# Generate a mask for upper traingle\n",
        "mask = np.triu(np.ones_like(corr, dtype=bool))\n",
        "\n",
        "# Configure a custom diverging colormap\n",
        "import seaborn as sns\n",
        "cmap = sns.diverging_palette(230, 20, as_cmap=True)\n",
        "\n",
        "# Draw the heatmap\n",
        "sns.heatmap(corr, annot=True, mask = mask, cmap=cmap)"
      ],
      "metadata": {
        "colab": {
          "base_uri": "https://localhost:8080/",
          "height": 610
        },
        "id": "clM2Gn3p76ta",
        "outputId": "10286462-394e-400f-b609-437f831b34d8"
      },
      "execution_count": null,
      "outputs": [
        {
          "output_type": "execute_result",
          "data": {
            "text/plain": [
              "<AxesSubplot:>"
            ]
          },
          "metadata": {},
          "execution_count": 31
        },
        {
          "output_type": "display_data",
          "data": {
            "text/plain": [
              "<Figure size 864x720 with 2 Axes>"
            ],
            "image/png": "[encoded data removed]"
          },
          "metadata": {
            "needs_background": "light"
          }
        }
      ]
    },
    {
      "cell_type": "markdown",
      "source": [
        "From the last 6 boxes in the heat map,\n",
        "\n",
        "- We can see that the variables `Prolongation`, `Block`, `SoundRep` & `WordRep` are strongly correlated with `Stutter` which stores data on the correct labelling of stuttered words. \n",
        "\n",
        "- The variables `Interjection` & `NaturalPause` have little to negative correlation with `Stutter`."
      ],
      "metadata": {
        "id": "WoddYV5d-LcC"
      }
    },
    {
      "cell_type": "markdown",
      "source": [
        "**MACHINE LEARNING**"
      ],
      "metadata": {
        "id": "s3b7xGeOw8cV"
      }
    },
    {
      "cell_type": "code",
      "source": [
        "feature_names = ['Prolongation','Block','SoundRep','WordRep','Interjection','NaturalPause']\n",
        "X = final_df[feature_names]\n",
        "y = final_df['Stutter']"
      ],
      "metadata": {
        "id": "zwFWIOYNx_v3"
      },
      "execution_count": null,
      "outputs": []
    },
    {
      "cell_type": "code",
      "source": [
        "from sklearn.model_selection import train_test_split\n",
        "\n",
        "X_train, X_test, y_train, y_test = train_test_split(X, y, test_size = 0.3, random_state = 0) #70% train data & 30% test data"
      ],
      "metadata": {
        "id": "9bnnnFNlx119"
      },
      "execution_count": null,
      "outputs": []
    },
    {
      "cell_type": "code",
      "source": [
        "print(X_train, X_test, y_train, y_test)\n",
        "\n",
        "print(X_train.shape, X_test.shape, y_train.shape, y_test.shape)"
      ],
      "metadata": {
        "colab": {
          "base_uri": "https://localhost:8080/"
        },
        "id": "hq7bQw8p0AcR",
        "outputId": "fa14bd9d-7dce-4bde-d659-ff078c07cb5b"
      },
      "execution_count": null,
      "outputs": [
        {
          "output_type": "stream",
          "name": "stdout",
          "text": [
            "      Prolongation  Block  SoundRep  WordRep  Interjection  NaturalPause\n",
            "869              0      0         0        0             0             0\n",
            "1200             0      1         1        0             0             0\n",
            "4070             0      0         0        0             0             0\n",
            "2861             0      0         0        0             0             1\n",
            "61               0      0         0        0             0             0\n",
            "...            ...    ...       ...      ...           ...           ...\n",
            "2741             0      0         0        0             0             0\n",
            "1260             0      0         0        0             1             0\n",
            "1386             0      0         1        1             1             0\n",
            "2622             0      0         0        0             0             1\n",
            "4124             1      0         0        1             0             0\n",
            "\n",
            "[1835 rows x 6 columns]       Prolongation  Block  SoundRep  WordRep  Interjection  NaturalPause\n",
            "3961             1      0         1        0             1             0\n",
            "3843             0      0         0        0             0             1\n",
            "2454             0      1         1        1             0             0\n",
            "3654             0      1         1        0             0             0\n",
            "1378             0      1         1        0             0             0\n",
            "...            ...    ...       ...      ...           ...           ...\n",
            "2376             0      0         1        1             0             1\n",
            "2764             1      1         1        0             0             0\n",
            "1786             0      1         1        1             1             0\n",
            "2743             1      0         1        0             1             0\n",
            "2970             0      0         0        0             1             0\n",
            "\n",
            "[787 rows x 6 columns] 869     0\n",
            "1200    1\n",
            "4070    0\n",
            "2861    0\n",
            "61      0\n",
            "       ..\n",
            "2741    0\n",
            "1260    0\n",
            "1386    1\n",
            "2622    0\n",
            "4124    1\n",
            "Name: Stutter, Length: 1835, dtype: int64 3961    1\n",
            "3843    0\n",
            "2454    1\n",
            "3654    1\n",
            "1378    1\n",
            "       ..\n",
            "2376    1\n",
            "2764    1\n",
            "1786    1\n",
            "2743    1\n",
            "2970    0\n",
            "Name: Stutter, Length: 787, dtype: int64\n",
            "(1835, 6) (787, 6) (1835,) (787,)\n"
          ]
        }
      ]
    },
    {
      "cell_type": "markdown",
      "source": [
        "Using, `LogisticRegression` as it is always advisable to use the simplest binary classification model and increase model complexity if better prediction models are required."
      ],
      "metadata": {
        "id": "tZLbc4iuFNdC"
      }
    },
    {
      "cell_type": "code",
      "source": [
        "feature_names = ['Prolongation','Block','SoundRep','WordRep','Interjection','NaturalPause']\n",
        "X = final_df[feature_names]\n",
        "y = final_df['Stutter']\n",
        "\n",
        "from sklearn.model_selection import train_test_split\n",
        "X_train, X_test, y_train, y_test = train_test_split(X, y, test_size = 0.3, random_state = 0) #70% train data & 30% test data\n",
        "\n",
        "from sklearn.linear_model import LogisticRegression\n",
        "from sklearn.metrics import accuracy_score\n",
        "\n",
        "model = LogisticRegression().fit(X_train, y_train)\n",
        "predictions = model.predict(X_test)\n",
        "model_accuracy = accuracy_score(y_test, predictions)\n",
        "\n",
        "print('Accuracy of the model on test data: {:.2f}'.format(model_accuracy))"
      ],
      "metadata": {
        "colab": {
          "base_uri": "https://localhost:8080/"
        },
        "id": "wBf-lQK3xjfw",
        "outputId": "e21ca126-2fd7-4fe7-a33c-e00be71b9c31"
      },
      "execution_count": null,
      "outputs": [
        {
          "output_type": "stream",
          "name": "stdout",
          "text": [
            "Accuracy of the model on test data: 0.99\n"
          ]
        }
      ]
    },
    {
      "cell_type": "markdown",
      "source": [
        "**PREDICTING NEW TEST CASES...**"
      ],
      "metadata": {
        "id": "ipLP3CQ0R2wU"
      }
    },
    {
      "cell_type": "code",
      "source": [
        "new_data_point = [{'Prolongation': 1, 'Block': 0, 'SoundRep': 0, 'WordRep': 0, 'Interjection': 1, 'NaturalPause': 1}]\n",
        "new_test_case = pd.DataFrame(new_data_point)\n",
        "new_test_case"
      ],
      "metadata": {
        "colab": {
          "base_uri": "https://localhost:8080/",
          "height": 81
        },
        "id": "8YM6OIjzN8ad",
        "outputId": "8f9e662c-9c0d-4790-a998-4797a6edcf8b"
      },
      "execution_count": null,
      "outputs": [
        {
          "output_type": "execute_result",
          "data": {
            "text/plain": [
              "   Prolongation  Block  SoundRep  WordRep  Interjection  NaturalPause\n",
              "0             1      0         0        0             1             1"
            ],
            "text/html": [
              "\n",
              "  <div id=\"df-0994f273-9a74-43e4-80c4-d099294ec5fc\">\n",
              "    <div class=\"colab-df-container\">\n",
              "      <div>\n",
              "<style scoped>\n",
              "    .dataframe tbody tr th:only-of-type {\n",
              "        vertical-align: middle;\n",
              "    }\n",
              "\n",
              "    .dataframe tbody tr th {\n",
              "        vertical-align: top;\n",
              "    }\n",
              "\n",
              "    .dataframe thead th {\n",
              "        text-align: right;\n",
              "    }\n",
              "</style>\n",
              "<table border=\"1\" class=\"dataframe\">\n",
              "  <thead>\n",
              "    <tr style=\"text-align: right;\">\n",
              "      <th></th>\n",
              "      <th>Prolongation</th>\n",
              "      <th>Block</th>\n",
              "      <th>SoundRep</th>\n",
              "      <th>WordRep</th>\n",
              "      <th>Interjection</th>\n",
              "      <th>NaturalPause</th>\n",
              "    </tr>\n",
              "  </thead>\n",
              "  <tbody>\n",
              "    <tr>\n",
              "      <th>0</th>\n",
              "      <td>1</td>\n",
              "      <td>0</td>\n",
              "      <td>0</td>\n",
              "      <td>0</td>\n",
              "      <td>1</td>\n",
              "      <td>1</td>\n",
              "    </tr>\n",
              "  </tbody>\n",
              "</table>\n",
              "</div>\n",
              "      <button class=\"colab-df-convert\" onclick=\"convertToInteractive('df-0994f273-9a74-43e4-80c4-d099294ec5fc')\"\n",
              "              title=\"Convert this dataframe to an interactive table.\"\n",
              "              style=\"display:none;\">\n",
              "        \n",
              "  <svg xmlns=\"http://www.w3.org/2000/svg\" height=\"24px\"viewBox=\"0 0 24 24\"\n",
              "       width=\"24px\">\n",
              "    <path d=\"M0 0h24v24H0V0z\" fill=\"none\"/>\n",
              "    <path d=\"M18.56 5.44l.94 2.06.94-2.06 2.06-.94-2.06-.94-.94-2.06-.94 2.06-2.06.94zm-11 1L8.5 8.5l.94-2.06 2.06-.94-2.06-.94L8.5 2.5l-.94 2.06-2.06.94zm10 10l.94 2.06.94-2.06 2.06-.94-2.06-.94-.94-2.06-.94 2.06-2.06.94z\"/><path d=\"M17.41 7.96l-1.37-1.37c-.4-.4-.92-.59-1.43-.59-.52 0-1.04.2-1.43.59L10.3 9.45l-7.72 7.72c-.78.78-.78 2.05 0 2.83L4 21.41c.39.39.9.59 1.41.59.51 0 1.02-.2 1.41-.59l7.78-7.78 2.81-2.81c.8-.78.8-2.07 0-2.86zM5.41 20L4 18.59l7.72-7.72 1.47 1.35L5.41 20z\"/>\n",
              "  </svg>\n",
              "      </button>\n",
              "      \n",
              "  <style>\n",
              "    .colab-df-container {\n",
              "      display:flex;\n",
              "      flex-wrap:wrap;\n",
              "      gap: 12px;\n",
              "    }\n",
              "\n",
              "    .colab-df-convert {\n",
              "      background-color: #E8F0FE;\n",
              "      border: none;\n",
              "      border-radius: 50%;\n",
              "      cursor: pointer;\n",
              "      display: none;\n",
              "      fill: #1967D2;\n",
              "      height: 32px;\n",
              "      padding: 0 0 0 0;\n",
              "      width: 32px;\n",
              "    }\n",
              "\n",
              "    .colab-df-convert:hover {\n",
              "      background-color: #E2EBFA;\n",
              "      box-shadow: 0px 1px 2px rgba(60, 64, 67, 0.3), 0px 1px 3px 1px rgba(60, 64, 67, 0.15);\n",
              "      fill: #174EA6;\n",
              "    }\n",
              "\n",
              "    [theme=dark] .colab-df-convert {\n",
              "      background-color: #3B4455;\n",
              "      fill: #D2E3FC;\n",
              "    }\n",
              "\n",
              "    [theme=dark] .colab-df-convert:hover {\n",
              "      background-color: #434B5C;\n",
              "      box-shadow: 0px 1px 3px 1px rgba(0, 0, 0, 0.15);\n",
              "      filter: drop-shadow(0px 1px 2px rgba(0, 0, 0, 0.3));\n",
              "      fill: #FFFFFF;\n",
              "    }\n",
              "  </style>\n",
              "\n",
              "      <script>\n",
              "        const buttonEl =\n",
              "          document.querySelector('#df-0994f273-9a74-43e4-80c4-d099294ec5fc button.colab-df-convert');\n",
              "        buttonEl.style.display =\n",
              "          google.colab.kernel.accessAllowed ? 'block' : 'none';\n",
              "\n",
              "        async function convertToInteractive(key) {\n",
              "          const element = document.querySelector('#df-0994f273-9a74-43e4-80c4-d099294ec5fc');\n",
              "          const dataTable =\n",
              "            await google.colab.kernel.invokeFunction('convertToInteractive',\n",
              "                                                     [key], {});\n",
              "          if (!dataTable) return;\n",
              "\n",
              "          const docLinkHtml = 'Like what you see? Visit the ' +\n",
              "            '<a target=\"_blank\" href=https://colab.research.google.com/notebooks/data_table.ipynb>data table notebook</a>'\n",
              "            + ' to learn more about interactive tables.';\n",
              "          element.innerHTML = '';\n",
              "          dataTable['output_type'] = 'display_data';\n",
              "          await google.colab.output.renderOutput(dataTable, element);\n",
              "          const docLink = document.createElement('div');\n",
              "          docLink.innerHTML = docLinkHtml;\n",
              "          element.appendChild(docLink);\n",
              "        }\n",
              "      </script>\n",
              "    </div>\n",
              "  </div>\n",
              "  "
            ]
          },
          "metadata": {},
          "execution_count": 36
        }
      ]
    },
    {
      "cell_type": "code",
      "source": [
        "new_test_case_prediction = model.predict(new_test_case)\n",
        "new_test_case_prediction[0]"
      ],
      "metadata": {
        "colab": {
          "base_uri": "https://localhost:8080/"
        },
        "id": "CCn7y3jzN6c6",
        "outputId": "0aa27598-182e-4516-b42d-8651c0c231c1"
      },
      "execution_count": null,
      "outputs": [
        {
          "output_type": "execute_result",
          "data": {
            "text/plain": [
              "1"
            ]
          },
          "metadata": {},
          "execution_count": 37
        }
      ]
    }
  ]
}